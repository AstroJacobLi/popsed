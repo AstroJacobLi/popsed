{
 "cells": [
  {
   "cell_type": "code",
   "execution_count": 2,
   "id": "9e4a8069",
   "metadata": {},
   "outputs": [
    {
     "name": "stdout",
     "output_type": "stream",
     "text": [
      "The autoreload extension is already loaded. To reload it, use:\n",
      "  %reload_ext autoreload\n"
     ]
    }
   ],
   "source": [
    "%load_ext autoreload\n",
    "%autoreload 2\n",
    "import os, sys\n",
    "import pickle\n",
    "import corner\n",
    "import numpy as np\n",
    "from tqdm import trange\n",
    "import matplotlib.pyplot as plt\n",
    "\n",
    "import torch\n",
    "from torch import nn, Tensor, optim, FloatTensor\n",
    "\n",
    "os.chdir('/scratch/gpfs/jiaxuanl/Data/popsed/')\n",
    "sys.path.append('/home/jiaxuanl/Research/popsed/')\n",
    "from popsed.speculator import SuperSpeculator, StandardScaler\n",
    "import popsed\n",
    "from popsed import prior"
   ]
  },
  {
   "cell_type": "code",
   "execution_count": 3,
   "id": "33273743",
   "metadata": {},
   "outputs": [],
   "source": [
    "wave = np.load('./train_sed_NMF/nmf_seds/fsps.wavelength.npy')\n",
    "name = 'NMF'\n",
    "speculator = SuperSpeculator(\n",
    "    speculators_dir=[f'./train_sed_{name}/best_emu/speculator_best_recon_model_{name}.emu_{i_bin}.pkl' for i_bin in range(0, 5)], \n",
    "    str_wbin=['.w1000_2000',\n",
    "              '.w2000_3600', \n",
    "              '.w3600_5500', \n",
    "              '.w5500_7410', \n",
    "              '.w7410_60000'],\n",
    "    wavelength=wave, \n",
    "    params_name=['kappa1_sfh', 'kappa2_sfh', 'kappa3_sfh', \n",
    "                 'fburst', 'tburst', 'logzsol',\n",
    "                 'dust1', 'dust2', \n",
    "                 'dust_index', 'redshift', 'logm'],\n",
    "    device='cuda', use_speclite=True)"
   ]
  },
  {
   "cell_type": "code",
   "execution_count": 4,
   "id": "cb3c352b",
   "metadata": {},
   "outputs": [],
   "source": [
    "from astropy.table import Table\n",
    "from popsed.utils import flux2mag, sigma_flux2mag\n",
    "from popsed.nde import transform_nmf_params, inverse_transform_nmf_params"
   ]
  },
  {
   "cell_type": "code",
   "execution_count": 5,
   "id": "db5fa75a",
   "metadata": {},
   "outputs": [],
   "source": [
    "import gc\n",
    "gc.collect()\n",
    "torch.cuda.empty_cache()"
   ]
  },
  {
   "cell_type": "code",
   "execution_count": 6,
   "id": "98830ab4",
   "metadata": {},
   "outputs": [],
   "source": [
    "_prior_NDE = speculator.bounds.copy()\n",
    "_prior_NDE[-2] = np.array([0., 0.8])\n",
    "_prior_NDE[-1] = np.array([7.5, 13.])"
   ]
  },
  {
   "cell_type": "code",
   "execution_count": 7,
   "id": "8459dc71",
   "metadata": {},
   "outputs": [],
   "source": [
    "from popsed.speculator import StandardScaler\n",
    "from popsed.nde import WassersteinNeuralDensityEstimator\n",
    "from geomloss import SamplesLoss"
   ]
  },
  {
   "cell_type": "code",
   "execution_count": 8,
   "id": "c624f067",
   "metadata": {},
   "outputs": [],
   "source": [
    "seed = 42\n",
    "np.random.seed(seed)\n",
    "\n",
    "_bounds = speculator.bounds.copy()\n",
    "_bounds = np.zeros_like(_bounds)\n",
    "_bounds = np.vstack([-np.abs(np.random.normal(size=len(_bounds)) / 30), \n",
    "                   np.abs(np.random.normal(size=len(_bounds)) / 30)]).T\n",
    "\n",
    "_stds = np.ones(len(_bounds))\n",
    "\n",
    "NDE_theta = WassersteinNeuralDensityEstimator(method='nsf',\n",
    "                                              name=name,\n",
    "                                              num_transforms=20,  # 10\n",
    "                                              num_bins=50,  # how smashed it is. 10\n",
    "                                              hidden_features=100,  # 120,\n",
    "                                              seed=seed,\n",
    "                                              output_dir=None,\n",
    "                                              initial_pos={'bounds': _bounds,\n",
    "                                                           'std': _stds,\n",
    "                                                           },\n",
    "                                              normalize=False,\n",
    "                                              regularize=True, \n",
    "                                              NDE_prior=_prior_NDE,#np.vstack([_prior_NDE[:-2], _prior_NDE[-1:]])\n",
    "                                             )"
   ]
  },
  {
   "cell_type": "code",
   "execution_count": 9,
   "id": "c30ddcad",
   "metadata": {},
   "outputs": [],
   "source": [
    "true_params_unt = np.load('./NDE/GAMA/NMF/mock_params.npy')\n",
    "true_params_unt = true_params_unt[np.random.randint(0, len(true_params_unt), 5000)]\n",
    "true_params = np.hstack([prior.FlatDirichletPrior(4).transform(true_params_unt[:, :3]),\n",
    "                      true_params_unt[:, 3:-1], \n",
    "                      true_params_unt[:, -1:]])"
   ]
  },
  {
   "cell_type": "code",
   "execution_count": 10,
   "id": "9f31ca2d",
   "metadata": {},
   "outputs": [],
   "source": [
    "folder = 'lr3e-4_ann7p5_15_corrdust'\n",
    "for epoch in range(30):\n",
    "    samples = torch.Tensor(np.load(f'./NDE/GAMA/anneal/mock/{folder}/nsf_0_sample_{epoch + 1}.npy')).to('cuda')\n",
    "    _samples_unt = inverse_transform_nmf_params(samples, NDE_theta.NDE_prior).detach().cpu().numpy()\n",
    "    _samples = np.hstack([prior.FlatDirichletPrior(4).transform(_samples_unt[:, :3]),\n",
    "                          _samples_unt[:, 3:-1], \n",
    "                          _samples_unt[:, -1:]])\n",
    "    \n",
    "    _labels = [f'beta{i}_sfh' for i in range(1,5)] + speculator.params_name[3:]\n",
    "    _labels = [key.replace('_', '\\_') for key in _labels]\n",
    "\n",
    "    figure = corner.corner(true_params, \n",
    "                      labels=_labels, bins=30,\n",
    "                      color='gray', # quantiles=[0.16, 0.5, 0.84], \n",
    "                      smooth=0.5, fill_contours=True,\n",
    "                      show_titles=True, title_kwargs={\"fontsize\": 12}, \n",
    "                            hist_kwargs={'density': True}, plot_datapoints=True)\n",
    "\n",
    "\n",
    "    nf_plot = corner.corner(_samples, \n",
    "                            fig=figure,\n",
    "                      labels=_labels, bins=30,\n",
    "                      color='dodgerblue', #quantiles=[0.16, 0.5, 0.84], \n",
    "                      smooth=0.5, fill_contours=True,\n",
    "                      show_titles=True, title_kwargs={\"fontsize\": 12}, \n",
    "                            hist_kwargs={'density': True}, plot_datapoints=False)\n",
    "    \n",
    "    if not os.path.isdir(f'./NDE/GAMA/NMF/movie/{folder}'):\n",
    "        os.makedirs(f'./NDE/GAMA/NMF/movie/{folder}')\n",
    "    plt.savefig(f'./NDE/GAMA/NMF/movie/{folder}/image{epoch:02d}.png', bbox_inches='tight', dpi=50)\n",
    "    plt.close()"
   ]
  },
  {
   "cell_type": "markdown",
   "id": "4feffe53",
   "metadata": {},
   "source": [
    "rsync -azvr --progress jiaxuanl@della.princeton.edu:/scratch/gpfs/jiaxuanl/Data/popsed/NDE/GAMA/NMF/movie ./"
   ]
  },
  {
   "cell_type": "code",
   "execution_count": 18,
   "id": "0886f4a0",
   "metadata": {},
   "outputs": [],
   "source": [
    "# real gama data\n",
    "for epoch in range(12, 31):\n",
    "    samples = torch.Tensor(np.load(f'./NDE/GAMA/NMF/gama_anneal_{epoch}.npy')).to('cuda')\n",
    "    _samples_unt = inverse_transform_nmf_params(samples, NDE_theta.NDE_prior).detach().cpu().numpy()\n",
    "    _samples = np.hstack([prior.FlatDirichletPrior(4).transform(_samples_unt[:, :3]),\n",
    "                          _samples_unt[:, 3:-1], \n",
    "                          _samples_unt[:, -1:]])\n",
    "    \n",
    "    _labels = [f'beta{i}_sfh' for i in range(1,5)] + speculator.params_name[3:]\n",
    "    _labels = [key.replace('_', '\\_') for key in _labels]\n",
    "\n",
    "    figure = corner.corner(true_params, \n",
    "                      labels=_labels, bins=30,\n",
    "                      color='gray', # quantiles=[0.16, 0.5, 0.84], \n",
    "                      smooth=0.5, fill_contours=True,\n",
    "                      show_titles=True, title_kwargs={\"fontsize\": 12}, \n",
    "                            hist_kwargs={'density': True}, plot_datapoints=True)\n",
    "\n",
    "\n",
    "    nf_plot = corner.corner(_samples, \n",
    "                            fig=figure,\n",
    "                      labels=_labels, bins=30,\n",
    "                      color='dodgerblue', #quantiles=[0.16, 0.5, 0.84], \n",
    "                      smooth=0.5, fill_contours=True,\n",
    "                      show_titles=True, title_kwargs={\"fontsize\": 12}, \n",
    "                            hist_kwargs={'density': True}, plot_datapoints=False)\n",
    "\n",
    "    plt.savefig(f'./NDE/GAMA/NMF/movie/real_gama_2e-4_1/image{epoch:02d}.png', bbox_inches='tight', dpi=50)\n",
    "    plt.close()\n",
    "    # ax = nf_plot.get_axes()[1]\n",
    "    # ax.legend(handles=[k_line, b_line], fontsize=11.5, bbox_to_anchor=(0., 1.0, 1.3, .0))"
   ]
  },
  {
   "cell_type": "code",
   "execution_count": null,
   "id": "12400e46",
   "metadata": {},
   "outputs": [],
   "source": []
  },
  {
   "cell_type": "code",
   "execution_count": 31,
   "id": "a92038e1",
   "metadata": {},
   "outputs": [
    {
     "data": {
      "text/plain": [
       "7.5"
      ]
     },
     "execution_count": 31,
     "metadata": {},
     "output_type": "execute_result"
    }
   ],
   "source": [
    "0.25 * 30"
   ]
  },
  {
   "cell_type": "code",
   "execution_count": 37,
   "id": "14de734c",
   "metadata": {},
   "outputs": [
    {
     "data": {
      "text/plain": [
       "[<matplotlib.lines.Line2D at 0x14537b2c86d0>]"
      ]
     },
     "execution_count": 37,
     "metadata": {},
     "output_type": "execute_result"
    },
    {
     "data": {
      "image/png": "[encoded data removed]",
      "text/plain": [
       "<Figure size 432x288 with 1 Axes>"
      ]
     },
     "metadata": {
      "needs_background": "light"
     },
     "output_type": "display_data"
    }
   ],
   "source": [
    "anneal_coeff = 7.5\n",
    "max_epochs = 30\n",
    "plt.plot([1 + 19 * np.exp(- anneal_coeff / max_epochs * i) for i in range(max_epochs)])\n",
    "\n",
    "anneal_coeff = 6.\n",
    "plt.plot([1 + 19 * np.exp(- anneal_coeff / max_epochs * i) for i in range(max_epochs)])"
   ]
  },
  {
   "cell_type": "code",
   "execution_count": null,
   "id": "908a4d14",
   "metadata": {},
   "outputs": [],
   "source": []
  },
  {
   "cell_type": "code",
   "execution_count": 39,
   "id": "9fc64ae2",
   "metadata": {},
   "outputs": [
    {
     "data": {
      "text/plain": [
       "'a_b'"
      ]
     },
     "execution_count": 39,
     "metadata": {},
     "output_type": "execute_result"
    }
   ],
   "source": [
    "\"_\".join(['a', 'b'])"
   ]
  },
  {
   "cell_type": "code",
   "execution_count": null,
   "id": "d613cf23",
   "metadata": {},
   "outputs": [],
   "source": [
    "np.load('./NDE/GAMA/mo')"
   ]
  }
 ],
 "metadata": {
  "kernelspec": {
   "display_name": "Python 3 (ipykernel)",
   "language": "python",
   "name": "python3"
  },
  "language_info": {
   "codemirror_mode": {
    "name": "ipython",
    "version": 3
   },
   "file_extension": ".py",
   "mimetype": "text/x-python",
   "name": "python",
   "nbconvert_exporter": "python",
   "pygments_lexer": "ipython3",
   "version": "3.7.13"
  }
 },
 "nbformat": 4,
 "nbformat_minor": 5
}
