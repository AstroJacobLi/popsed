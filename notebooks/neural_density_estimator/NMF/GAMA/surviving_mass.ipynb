{
 "cells": [
  {
   "cell_type": "code",
   "execution_count": 1,
   "id": "88119dcc",
   "metadata": {},
   "outputs": [],
   "source": [
    "%load_ext autoreload\n",
    "%autoreload 2"
   ]
  },
  {
   "cell_type": "code",
   "execution_count": 2,
   "id": "7d3f156d",
   "metadata": {},
   "outputs": [],
   "source": [
    "import os, sys\n",
    "import dill as pickle\n",
    "import corner\n",
    "import numpy as np\n",
    "from tqdm import trange\n",
    "import matplotlib.pyplot as plt\n",
    "\n",
    "import torch\n",
    "from sklearn.model_selection import train_test_split\n",
    "\n",
    "os.chdir('/scratch/gpfs/jiaxuanl/Data/popsed/')\n",
    "sys.path.append('/home/jiaxuanl/Research/popsed/')\n",
    "from popsed.speculator import SuperSpeculator\n",
    "import popsed\n",
    "popsed.set_matplotlib(style='JL', usetex=True, dpi=80, fontsize=16)\n",
    "from popsed import prior"
   ]
  },
  {
   "cell_type": "code",
   "execution_count": 14,
   "id": "a3af7054",
   "metadata": {},
   "outputs": [],
   "source": [
    "def logistic(x):\n",
    "    return 1 / (1 + np.exp(-x))\n",
    "def _sigmoid(x, x0, k, ylo, yhi):\n",
    "    height_diff = yhi - ylo\n",
    "    return ylo + height_diff * logistic(k * (x - x0))\n",
    "def _sig_slope(x, xtp, ytp, x0, slope_k, lo, hi):\n",
    "    slope = _sigmoid(x, x0, slope_k, lo, hi)\n",
    "    return ytp + slope * (x - xtp)\n",
    "\n",
    "def _returned_mass(lg_age_yr, a, b, lgk1, d, e, f, lgk2, h):\n",
    "    k1 = 10**lgk1\n",
    "    xtp = b\n",
    "    z = _sig_slope(lg_age_yr, xtp, a, b, k1, d, e)\n",
    "\n",
    "    k2 = 10**lgk2\n",
    "    h = _sigmoid(lg_age_yr, f, k2, h, z)\n",
    "    return h\n",
    "\n",
    "def surviving_mstar(\n",
    "    lg_age_yr,\n",
    "    a=DEFAULT_PARAMS[\"a\"],\n",
    "    b=DEFAULT_PARAMS[\"b\"],\n",
    "    lgk1=DEFAULT_PARAMS[\"lgk1\"],\n",
    "    d=DEFAULT_PARAMS[\"d\"],\n",
    "    e=DEFAULT_PARAMS[\"e\"],\n",
    "    f=DEFAULT_PARAMS[\"f\"],\n",
    "    lgk2=DEFAULT_PARAMS[\"lgk2\"],\n",
    "    h=DEFAULT_PARAMS[\"h\"],\n",
    "):\n",
    "    \"\"\"Calculate the fraction of stellar mass that survives as a population ages.\n",
    "\n",
    "    Default behavior assumes Chabrier IMF.\n",
    "    Calibrations for the following alternative parameters are also available:\n",
    "        SALPETER_PARAMS, KROUPA_PARAMS, VAN_DOKKUM_PARAMS\n",
    "\n",
    "    Parameters\n",
    "    ----------\n",
    "    lg_age_yr : ndarray of shape (n, )\n",
    "        Base-10 log of the age of the stellar population in years\n",
    "\n",
    "    Returns\n",
    "    -------\n",
    "    frac_surviving : ndarray of shape (n, )\n",
    "        Surviving fraction\n",
    "\n",
    "    \"\"\"\n",
    "    frac_returned = _returned_mass(lg_age_yr, a, b, lgk1, d, e, f, lgk2, h)\n",
    "    return 1 - frac_returned"
   ]
  },
  {
   "cell_type": "code",
   "execution_count": 32,
   "id": "974de28c",
   "metadata": {},
   "outputs": [],
   "source": [
    "from collections import OrderedDict\n",
    "from copy import deepcopy\n",
    "\n",
    "PARAMS = OrderedDict(x0=2, yhi=0.58)\n",
    "DEFAULT_PARAMS = OrderedDict(\n",
    "    a=0.225,\n",
    "    b=8.0,\n",
    "    lgk1=-0.5,\n",
    "    d=0.145,\n",
    "    e=0.08,\n",
    "    f=6.5,\n",
    "    lgk2=0.7,\n",
    "    h=0.005,\n",
    ")\n",
    "SALPETER_PARAMS = deepcopy(DEFAULT_PARAMS)\n",
    "CHABRIER_PARAMS = deepcopy(DEFAULT_PARAMS)\n",
    "KROUPA_PARAMS = deepcopy(DEFAULT_PARAMS)\n",
    "VAN_DOKKUM_PARAMS = deepcopy(DEFAULT_PARAMS)\n",
    "\n",
    "SALPETER_PARAMS.update(a=0.13, d=0.055)\n",
    "CHABRIER_PARAMS.update(a=0.225, d=0.145)\n",
    "KROUPA_PARAMS.update(a=0.211, d=0.13)\n",
    "VAN_DOKKUM_PARAMS.update(a=0.238, d=0.156)"
   ]
  },
  {
   "cell_type": "code",
   "execution_count": 33,
   "id": "2a56a03f",
   "metadata": {},
   "outputs": [],
   "source": []
  },
  {
   "cell_type": "code",
   "execution_count": 34,
   "id": "71bb08c6",
   "metadata": {},
   "outputs": [],
   "source": []
  },
  {
   "cell_type": "code",
   "execution_count": 35,
   "id": "494441b3",
   "metadata": {},
   "outputs": [],
   "source": [
    "lg_age_yr = np.linspace(5.5, 9.5, 100)"
   ]
  },
  {
   "cell_type": "code",
   "execution_count": null,
   "id": "2e2fcd43",
   "metadata": {},
   "outputs": [],
   "source": []
  },
  {
   "cell_type": "code",
   "execution_count": 52,
   "id": "51119a47",
   "metadata": {},
   "outputs": [
    {
     "data": {
      "text/plain": [
       "[<matplotlib.lines.Line2D at 0x149d55500210>]"
      ]
     },
     "execution_count": 52,
     "metadata": {},
     "output_type": "execute_result"
    },
    {
     "data": {
      "image/png": "[encoded data removed]",
      "text/plain": [
       "<Figure size 480x400 with 1 Axes>"
      ]
     },
     "metadata": {},
     "output_type": "display_data"
    }
   ],
   "source": [
    "plt.plot(lg_age_yr, surviving_mstar(lg_age_yr))\n",
    "\n",
    "plt.plot(np.log10(np.array(age) * 1e9), fsurv)"
   ]
  },
  {
   "cell_type": "code",
   "execution_count": null,
   "id": "6ba1db8f",
   "metadata": {},
   "outputs": [],
   "source": []
  },
  {
   "cell_type": "code",
   "execution_count": null,
   "id": "01ae7aea",
   "metadata": {},
   "outputs": [],
   "source": [
    "def surviving_stellar_mass(self, tt, zred=None, tage=None):\n",
    "    ''' given a set of parameter values `tt` and redshift `zred`, \n",
    "    calculate the surviving stellar mass. \n",
    "\n",
    "    parameters\n",
    "    ----------\n",
    "    tt : array_like[Ntheta, Nparam]\n",
    "       Parameter values of [log M*, b1SFH, b2SFH, b3SFH, b4SFH, g1ZH, g2ZH,\n",
    "       'dust1', 'dust2', 'dust_index']. \n",
    "\n",
    "    zred : float \n",
    "        redshift\n",
    "\n",
    "    tage : float \n",
    "        age of galaxy, in Gyr\n",
    "\n",
    "    '''\n",
    "    if zred is None and tage is None:\n",
    "        raise ValueError('specify either zred or tage')\n",
    "    if zred is not None and tage is not None:\n",
    "        raise ValueError('specify either zred or tage')\n",
    "    if tage is None:\n",
    "        assert isinstance(zred, float)\n",
    "        tage = self.cosmo.age(zred).value  # age in Gyr\n",
    "\n",
    "    theta = self._parse_theta(tt)\n",
    "\n",
    "    # sfh nmf basis coefficients\n",
    "    tt_sfh = np.array([theta['beta1_sfh'], theta['beta2_sfh'],\n",
    "                       theta['beta3_sfh'], theta['beta4_sfh']]).T\n",
    "\n",
    "    # log-spaced lookback time bin edges\n",
    "    tlb_edges = utils.tlookback_bin_edges(tage)\n",
    "\n",
    "    sfh_basis_tlb = np.array([\n",
    "        utils.trapz_rebin(self._t_lb_hr, _sfh_basis, edges=tlb_edges)\n",
    "        for _sfh_basis in self._sfh_basis_hr])\n",
    "\n",
    "    sfh = np.sum(np.array([tt_sfh[:, i][:, None] *\n",
    "                           sfh_basis_tlb[i][None, :] for i in range(self._N_nmf_sfh)]),\n",
    "                 axis=0)\n",
    "    \n",
    "    \n",
    "    tages = 0.5 * (tlb_edges[1:] + tlb_edges[:-1])  # ages of SSP\n",
    "    dt = np.diff(tlb_edges)  # bin widths\n",
    "    \n",
    "    Msurv = 0\n",
    "    # look over log-spaced lookback time bins and add up SSPs\n",
    "    for i, tage in enumerate(tages):\n",
    "        m = 1e9 * dt[i] * sfh[i]  # mass formed in this bin\n",
    "        print(m)\n",
    "        if m == 0 and i != 0:\n",
    "            continue\n",
    "        Msurv += m * surviving_mstar(np.log10(tage * 1e9))\n",
    "    \n",
    "    # add starburst event\n",
    "    if self._burst:\n",
    "        # fraction of stellar mass from star burst\n",
    "        fburst = theta['fburst']\n",
    "        tburst = theta['tburst']  # time of star burst\n",
    "\n",
    "        noburst = (tburst > tage)\n",
    "        fburst[noburst] = 0.\n",
    "        Msurv *= (1. - fburst)\n",
    "\n",
    "        burst_dt = (tburst < dt)\n",
    "        Msurv[burst_dt] += theta['fburst'][burst_dt]\n",
    "\n",
    "    # multiply by stellar mass\n",
    "    avg_sfr = Mform * 10**theta['logmstar'] / dt / 1e9\n",
    "    return avg_sfr\n"
   ]
  },
  {
   "cell_type": "code",
   "execution_count": null,
   "id": "2f694dc7",
   "metadata": {},
   "outputs": [],
   "source": []
  },
  {
   "cell_type": "code",
   "execution_count": null,
   "id": "97f654c2",
   "metadata": {},
   "outputs": [],
   "source": []
  },
  {
   "cell_type": "code",
   "execution_count": null,
   "id": "55c80b21",
   "metadata": {},
   "outputs": [],
   "source": []
  },
  {
   "cell_type": "code",
   "execution_count": 18,
   "id": "a2a96cbb",
   "metadata": {},
   "outputs": [],
   "source": [
    "from popsed.utils import surviving_mstar"
   ]
  },
  {
   "cell_type": "code",
   "execution_count": 23,
   "id": "c5df31bd",
   "metadata": {},
   "outputs": [
    {
     "name": "stdout",
     "output_type": "stream",
     "text": [
      "Initialize NMF-based SPS model\n",
      "Input parameters : logmstar, beta1_sfh, beta2_sfh, beta3_sfh, beta4_sfh, fburst, tburst, logzsol, dust1, dust2, dust_index\n"
     ]
    }
   ],
   "source": [
    "from popsed.models import NMF\n",
    "model = NMF(burst=True, peraa=True)\n",
    "model._ssp_initiate()\n",
    "model._ssp.params['add_stellar_remnants'] = False"
   ]
  },
  {
   "cell_type": "code",
   "execution_count": 20,
   "id": "de839a8a",
   "metadata": {},
   "outputs": [],
   "source": [
    "model._ssp.params['add_stellar_remnants'] = True"
   ]
  },
  {
   "cell_type": "code",
   "execution_count": 24,
   "id": "2299bc0c",
   "metadata": {},
   "outputs": [],
   "source": [
    "lg_age_yr = np.linspace(5.5, 9.5, 100)\n",
    "fsurv = []\n",
    "for age in lg_age_yr:\n",
    "    tage = 10**(age - 9)\n",
    "    model._ssp.get_spectrum(tage=tage, peraa=True)\n",
    "    fsurv.append(model._ssp.stellar_mass)"
   ]
  },
  {
   "cell_type": "code",
   "execution_count": 37,
   "id": "0fddf5e1",
   "metadata": {},
   "outputs": [
    {
     "data": {
      "text/plain": [
       "[<matplotlib.lines.Line2D at 0x14863e12ac50>]"
      ]
     },
     "execution_count": 37,
     "metadata": {},
     "output_type": "execute_result"
    },
    {
     "data": {
      "image/png": "[encoded data removed]",
      "text/plain": [
       "<Figure size 480x400 with 1 Axes>"
      ]
     },
     "metadata": {},
     "output_type": "display_data"
    }
   ],
   "source": [
    "plt.plot(lg_age_yr, fsurv)\n",
    "plt.plot(lg_age_yr, surviving_mstar(lg_age_yr, a=0.28, d=0.2))"
   ]
  },
  {
   "cell_type": "code",
   "execution_count": null,
   "id": "9c6c04e6",
   "metadata": {},
   "outputs": [],
   "source": []
  },
  {
   "cell_type": "code",
   "execution_count": null,
   "id": "b65fbf5d",
   "metadata": {},
   "outputs": [],
   "source": [
    "sp.params[\"imf_type\"] = 1"
   ]
  },
  {
   "cell_type": "code",
   "execution_count": null,
   "id": "c05a2877",
   "metadata": {},
   "outputs": [],
   "source": []
  },
  {
   "cell_type": "code",
   "execution_count": 11,
   "id": "468d3528",
   "metadata": {},
   "outputs": [
    {
     "data": {
      "text/plain": [
       "(array([1.00000000e+02, 1.00200200e+02, 1.00400801e+02, ...,\n",
       "        9.75435116e+07, 9.85238402e+07, 9.95140213e+07]),\n",
       " array([7.61004485e-10, 6.77905159e-10, 1.02483266e-09, ...,\n",
       "        1.96006364e-20, 1.88302435e-20, 1.28499423e-20]))"
      ]
     },
     "execution_count": 11,
     "metadata": {},
     "output_type": "execute_result"
    }
   ],
   "source": [
    "model._ssp.get_spectrum(tage=11, peraa=True)"
   ]
  },
  {
   "cell_type": "code",
   "execution_count": 13,
   "id": "af9e734e",
   "metadata": {},
   "outputs": [
    {
     "data": {
      "text/plain": [
       "0.4151445265436164"
      ]
     },
     "execution_count": 13,
     "metadata": {},
     "output_type": "execute_result"
    }
   ],
   "source": [
    "model._ssp.stellar_mass"
   ]
  },
  {
   "cell_type": "code",
   "execution_count": null,
   "id": "1438e64a",
   "metadata": {},
   "outputs": [],
   "source": []
  },
  {
   "cell_type": "code",
   "execution_count": 38,
   "id": "80022b12",
   "metadata": {},
   "outputs": [],
   "source": [
    "tt = np.array([ 1.09182625e+01,  2.17854857e-01,  5.83481967e-01,  2.86570005e-03,\n",
    "        1.95797443e-01,  1.10937208e-01,  9.90190792e+00, -9.90409374e-01,\n",
    "        1.63689405e-01,  7.10925341e-01, -6.09095097e-02])"
   ]
  },
  {
   "cell_type": "code",
   "execution_count": 42,
   "id": "99c6c165",
   "metadata": {},
   "outputs": [
    {
     "data": {
      "text/plain": [
       "10.695174885298789"
      ]
     },
     "execution_count": 42,
     "metadata": {},
     "output_type": "execute_result"
    }
   ],
   "source": [
    "model.survMass(tt, zred=0.0)"
   ]
  },
  {
   "cell_type": "code",
   "execution_count": null,
   "id": "f52619c1",
   "metadata": {},
   "outputs": [],
   "source": []
  },
  {
   "cell_type": "code",
   "execution_count": null,
   "id": "8b058130",
   "metadata": {},
   "outputs": [],
   "source": []
  },
  {
   "cell_type": "code",
   "execution_count": null,
   "id": "d439bf8f",
   "metadata": {},
   "outputs": [],
   "source": []
  },
  {
   "cell_type": "code",
   "execution_count": null,
   "id": "7688137f",
   "metadata": {},
   "outputs": [],
   "source": []
  },
  {
   "cell_type": "code",
   "execution_count": 59,
   "id": "4a28b177",
   "metadata": {},
   "outputs": [],
   "source": [
    "tlb_edges, sfh = model.SFH(tt, zred=0.05, _burst=True) # Mstar / yr\n",
    "tages = 0.5 * (tlb_edges[1:] + tlb_edges[:-1])  # ages of SSP\n",
    "dt = np.diff(tlb_edges)  # bin widths\n",
    "\n",
    "Msurv = 0\n",
    "# look over log-spaced lookback time bins and add up SSPs\n",
    "for i, tage in enumerate(tages):\n",
    "    m = 1e9 * dt[i] * sfh[i]  # mass formed in this bin\n",
    "    if m == 0 and i != 0:\n",
    "        continue\n",
    "    Msurv += m * surviving_mstar(np.log10(tage * 1e9))\n",
    "    \n",
    "return np.log10(Msurv)"
   ]
  },
  {
   "cell_type": "code",
   "execution_count": 64,
   "id": "dc94fa89",
   "metadata": {},
   "outputs": [],
   "source": []
  },
  {
   "cell_type": "code",
   "execution_count": 66,
   "id": "8aa614ca",
   "metadata": {},
   "outputs": [
    {
     "data": {
      "text/plain": [
       "10.695252396028927"
      ]
     },
     "execution_count": 66,
     "metadata": {},
     "output_type": "execute_result"
    }
   ],
   "source": [
    "np.log10(Msurv)"
   ]
  },
  {
   "cell_type": "code",
   "execution_count": 67,
   "id": "0821aa44",
   "metadata": {},
   "outputs": [
    {
     "data": {
      "text/plain": [
       "{'logmstar': array([10.9182625]),\n",
       " 'beta1_sfh': array([0.21785486]),\n",
       " 'beta2_sfh': array([0.58348197]),\n",
       " 'beta3_sfh': array([0.0028657]),\n",
       " 'beta4_sfh': array([0.19579744]),\n",
       " 'fburst': array([0.11093721]),\n",
       " 'tburst': array([9.90190792]),\n",
       " 'logzsol': array([-0.99040937]),\n",
       " 'dust1': array([0.16368941]),\n",
       " 'dust2': array([0.71092534]),\n",
       " 'dust_index': array([-0.06090951])}"
      ]
     },
     "execution_count": 67,
     "metadata": {},
     "output_type": "execute_result"
    }
   ],
   "source": [
    "model._parse_theta(tt)"
   ]
  },
  {
   "cell_type": "code",
   "execution_count": null,
   "id": "1167eaf7",
   "metadata": {},
   "outputs": [],
   "source": []
  },
  {
   "cell_type": "code",
   "execution_count": null,
   "id": "e31f44ce",
   "metadata": {},
   "outputs": [],
   "source": []
  },
  {
   "cell_type": "code",
   "execution_count": 46,
   "id": "ad25da53",
   "metadata": {},
   "outputs": [],
   "source": [
    "age = [5.61009227e-04, 1.26727800e-03, 1.59540848e-03, 2.00850027e-03\n",
    ", 2.52855203e-03, 3.18325841e-03, 4.00748491e-03, 5.04512459e-03\n",
    ", 6.35143555e-03, 7.99598361e-03, 1.00663470e-02, 1.26727800e-02\n",
    ", 1.59540848e-02, 2.00850027e-02, 2.52855203e-02, 3.18325841e-02\n",
    ", 4.00748491e-02, 5.04512459e-02, 6.35143555e-02, 7.99598361e-02\n",
    ", 1.00663470e-01, 1.26727800e-01, 1.59540848e-01, 2.00850027e-01\n",
    ", 2.52855203e-01, 3.18325841e-01, 4.00748491e-01, 5.04512459e-01\n",
    ", 6.35143555e-01, 7.99598361e-01, 1.00663470e+00, 1.26727800e+00\n",
    ", 1.59540848e+00, 2.00850027e+00, 2.52855203e+00, 3.18325841e+00\n",
    ", 4.00748491e+00, 5.04512459e+00, 6.35143555e+00, 7.99598361e+00\n",
    ", 1.00663470e+01, 1.21100923e+01]"
   ]
  },
  {
   "cell_type": "code",
   "execution_count": 47,
   "id": "05f61f25",
   "metadata": {},
   "outputs": [],
   "source": [
    "fsurv = [0.9767513044924316, 0.9805040678578714, 0.9759969472564719, 0.9770231508925826, 0.9755087446526843, 0.9868141502113658, 0.9846628505469607, 0.9737796732325235, 0.9595799980878585, 0.9358699647862443, 0.9125541940788376, 0.8945065758494374, 0.8778391659075865, 0.8620301462766773, 0.8475905886540275, 0.835875380234915, 0.8220601485203657, 0.80873761047119, 0.7955649096010288, 0.7819693848151471, 0.7691975652934832, 0.7565636119116655, 0.7435396054257593, 0.7308958115055518, 0.7187487808174136, 0.7062601194697075, 0.6942579895915726, 0.6823415937137849, 0.6710768583087555, 0.6601698492180192, 0.6489545230983942, 0.6336507991328242, 0.6224513492030951, 0.6120913879717773, 0.6025932391888428, 0.5938387458404316, 0.5856174763769273, 0.5778115235115081, 0.570494225200711, 0.5637171993176122, 0.5576562063298548, 0.5533068058528564]"
   ]
  },
  {
   "cell_type": "code",
   "execution_count": null,
   "id": "ce14f4b4",
   "metadata": {},
   "outputs": [],
   "source": []
  },
  {
   "cell_type": "code",
   "execution_count": null,
   "id": "7e55f7d9",
   "metadata": {},
   "outputs": [],
   "source": []
  }
 ],
 "metadata": {
  "kernelspec": {
   "display_name": "Python 3 (ipykernel)",
   "language": "python",
   "name": "python3"
  },
  "language_info": {
   "codemirror_mode": {
    "name": "ipython",
    "version": 3
   },
   "file_extension": ".py",
   "mimetype": "text/x-python",
   "name": "python",
   "nbconvert_exporter": "python",
   "pygments_lexer": "ipython3",
   "version": "3.7.15"
  }
 },
 "nbformat": 4,
 "nbformat_minor": 5
}
