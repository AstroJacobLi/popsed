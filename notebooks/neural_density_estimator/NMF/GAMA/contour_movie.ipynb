{
 "cells": [
  {
   "cell_type": "code",
   "execution_count": 1,
   "id": "9e4a8069",
   "metadata": {},
   "outputs": [],
   "source": [
    "%load_ext autoreload\n",
    "%autoreload 2\n",
    "import os, sys\n",
    "import pickle\n",
    "import corner\n",
    "import numpy as np\n",
    "from tqdm import trange\n",
    "import matplotlib.pyplot as plt\n",
    "\n",
    "import torch\n",
    "from torch import nn, Tensor, optim, FloatTensor\n",
    "\n",
    "os.chdir('/scratch/gpfs/jiaxuanl/Data/popsed/')\n",
    "sys.path.append('/home/jiaxuanl/Research/popsed/')\n",
    "from popsed.speculator import SuperSpeculator, StandardScaler\n",
    "import popsed\n",
    "from popsed import prior"
   ]
  },
  {
   "cell_type": "code",
   "execution_count": 2,
   "id": "33273743",
   "metadata": {},
   "outputs": [],
   "source": [
    "name = 'NMF'\n",
    "wave = np.load(f'./train_sed_{name}/{name.lower()}_seds/fsps.wavelength.npy')\n",
    "\n",
    "if name == 'NMF_ZH':\n",
    "    spec_dir = [\n",
    "        f'./train_sed_{name}/best_emu/speculator_best_recon_model_{name}_{i_bin}.pkl' for i_bin in range(0, 5)]\n",
    "    params_name = ['kappa1_sfh', 'kappa2_sfh', 'kappa3_sfh',\n",
    "                   'fburst', 'tburst', 'gamma1_zh', 'gamma2_zh',\n",
    "                   'dust1', 'dust2',\n",
    "                   'dust_index', 'redshift', 'logm']\n",
    "else:\n",
    "    spec_dir = [\n",
    "        f'./train_sed_{name}/best_emu/speculator_best_recon_model_{name}.emu_{i_bin}.pkl' for i_bin in range(0, 5)]\n",
    "    params_name = ['kappa1_sfh', 'kappa2_sfh', 'kappa3_sfh',\n",
    "                   'fburst', 'tburst', 'logzsol',\n",
    "                   'dust1', 'dust2',\n",
    "                   'dust_index', 'redshift', 'logm']\n",
    "speculator = SuperSpeculator(\n",
    "    speculators_dir=spec_dir,\n",
    "    str_wbin=['.w1000_2000',\n",
    "              '.w2000_3600',\n",
    "              '.w3600_5500',\n",
    "              '.w5500_7410',\n",
    "              '.w7410_60000'],\n",
    "    wavelength=wave,\n",
    "    params_name=params_name,\n",
    "    device='cuda', use_speclite=True)\n",
    "gama_filters = ['sdss2010-{0}'.format(b) for b in 'ugriz']\n",
    "speculator._calc_transmission(gama_filters)\n",
    "\n",
    "\n",
    "PHOT = 'AUTO'\n",
    "noise = 'gama_snr'\n",
    "noise_model_dir = f'./noise_model/gama_snr_model_mag_dr3_apmatch_{PHOT}_snr3.npy'\n",
    "# noise_model_dir = f'./noise_model/gama_snr_model_mag_dr4_gkv.npy'"
   ]
  },
  {
   "cell_type": "code",
   "execution_count": 3,
   "id": "cb3c352b",
   "metadata": {},
   "outputs": [],
   "source": [
    "from astropy.table import Table\n",
    "from popsed.utils import flux2mag, sigma_flux2mag\n",
    "from popsed.nde import transform_nmf_params, inverse_transform_nmf_params"
   ]
  },
  {
   "cell_type": "code",
   "execution_count": 4,
   "id": "db5fa75a",
   "metadata": {},
   "outputs": [],
   "source": [
    "import gc\n",
    "gc.collect()\n",
    "torch.cuda.empty_cache()"
   ]
  },
  {
   "cell_type": "code",
   "execution_count": 5,
   "id": "98830ab4",
   "metadata": {},
   "outputs": [],
   "source": [
    "_prior_NDE = speculator.bounds.copy()\n",
    "# _prior_NDE[-2] = np.array([0., 0.65])\n",
    "# _prior_NDE[-1] = np.array([7.5, 12.5])\n",
    "\n",
    "_prior_NDE[-2] = np.array([0., 0.8])\n",
    "_prior_NDE[-1] = np.array([7.5, 13.])"
   ]
  },
  {
   "cell_type": "code",
   "execution_count": 6,
   "id": "8459dc71",
   "metadata": {},
   "outputs": [],
   "source": [
    "from popsed.speculator import StandardScaler\n",
    "from popsed.nde import WassersteinNeuralDensityEstimator\n",
    "from geomloss import SamplesLoss"
   ]
  },
  {
   "cell_type": "code",
   "execution_count": 27,
   "id": "c624f067",
   "metadata": {},
   "outputs": [],
   "source": [
    "seed = 22\n",
    "np.random.seed(seed)\n",
    "\n",
    "_bounds = speculator.bounds.copy()\n",
    "_bounds = np.zeros_like(_bounds)\n",
    "_bounds = np.vstack([-np.abs(np.random.normal(size=len(_bounds)) / 10), \n",
    "                   np.abs(np.random.normal(size=len(_bounds)) / 10)]).T\n",
    "\n",
    "_stds = np.ones(len(_bounds))\n",
    "\n",
    "NDE_theta = WassersteinNeuralDensityEstimator(method='nsf',\n",
    "                                              name=name,\n",
    "                                              num_transforms=20,  # 10\n",
    "                                              num_bins=60,  # how smashed it is. 10\n",
    "                                              hidden_features=100,  # 120,\n",
    "                                              seed=seed,\n",
    "                                              output_dir=None,\n",
    "                                              initial_pos={'bounds': _bounds,\n",
    "                                                           'std': _stds,\n",
    "                                                           },\n",
    "                                              normalize=False,\n",
    "                                              regularize=True, \n",
    "                                              NDE_prior=_prior_NDE,#np.vstack([_prior_NDE[:-2], _prior_NDE[-1:]])\n",
    "                                             )"
   ]
  },
  {
   "cell_type": "code",
   "execution_count": 28,
   "id": "c30ddcad",
   "metadata": {},
   "outputs": [],
   "source": [
    "true_params = np.load(f'./reference_catalog/GAMA/gama_clean_z_mass_dr3_apmatch_{PHOT}_snr3.npy')\n",
    "# true_params = np.load(f'./reference_catalog/GAMA/gama_clean_z_mass_dr4_gkv.npy')\n",
    "# true_params_unt = true_params_unt[np.random.randint(0, len(true_params_unt), 10000)]\n",
    "# true_params = np.hstack([prior.FlatDirichletPrior(4).transform(true_params_unt[:, :3]),\n",
    "#                       true_params_unt[:, 3:-1], \n",
    "#                       true_params_unt[:, -1:]])"
   ]
  },
  {
   "cell_type": "code",
   "execution_count": 29,
   "id": "9f31ca2d",
   "metadata": {},
   "outputs": [
    {
     "ename": "FileNotFoundError",
     "evalue": "[Errno 2] No such file or directory: './NDE/GAMA/anneal/real/test_dr3_apmatch/nsf_24_sample_33.npy'",
     "output_type": "error",
     "traceback": [
      "\u001b[0;31m---------------------------------------------------------------------------\u001b[0m",
      "\u001b[0;31mFileNotFoundError\u001b[0m                         Traceback (most recent call last)",
      "\u001b[0;32m/tmp/ipykernel_3860314/2045611439.py\u001b[0m in \u001b[0;36m<module>\u001b[0;34m\u001b[0m\n\u001b[1;32m      1\u001b[0m \u001b[0mfolder\u001b[0m \u001b[0;34m=\u001b[0m \u001b[0;34m'real_test_dr3ap_24_auto_snr3'\u001b[0m\u001b[0;34m\u001b[0m\u001b[0;34m\u001b[0m\u001b[0m\n\u001b[1;32m      2\u001b[0m \u001b[0;32mfor\u001b[0m \u001b[0mepoch\u001b[0m \u001b[0;32min\u001b[0m \u001b[0mrange\u001b[0m\u001b[0;34m(\u001b[0m\u001b[0;36m0\u001b[0m\u001b[0;34m,\u001b[0m \u001b[0;36m40\u001b[0m\u001b[0;34m)\u001b[0m\u001b[0;34m:\u001b[0m\u001b[0;34m\u001b[0m\u001b[0;34m\u001b[0m\u001b[0m\n\u001b[0;32m----> 3\u001b[0;31m     \u001b[0msamples\u001b[0m \u001b[0;34m=\u001b[0m \u001b[0mtorch\u001b[0m\u001b[0;34m.\u001b[0m\u001b[0mTensor\u001b[0m\u001b[0;34m(\u001b[0m\u001b[0mnp\u001b[0m\u001b[0;34m.\u001b[0m\u001b[0mload\u001b[0m\u001b[0;34m(\u001b[0m\u001b[0;34mf'./NDE/GAMA/anneal/real/test_dr3_apmatch/nsf_24_sample_{epoch + 1}.npy'\u001b[0m\u001b[0;34m)\u001b[0m\u001b[0;34m)\u001b[0m\u001b[0;34m.\u001b[0m\u001b[0mto\u001b[0m\u001b[0;34m(\u001b[0m\u001b[0;34m'cuda'\u001b[0m\u001b[0;34m)\u001b[0m\u001b[0;34m\u001b[0m\u001b[0;34m\u001b[0m\u001b[0m\n\u001b[0m\u001b[1;32m      4\u001b[0m     \u001b[0m_samples_unt\u001b[0m \u001b[0;34m=\u001b[0m \u001b[0minverse_transform_nmf_params\u001b[0m\u001b[0;34m(\u001b[0m\u001b[0msamples\u001b[0m\u001b[0;34m,\u001b[0m \u001b[0mNDE_theta\u001b[0m\u001b[0;34m.\u001b[0m\u001b[0mNDE_prior\u001b[0m\u001b[0;34m)\u001b[0m\u001b[0;34m.\u001b[0m\u001b[0mdetach\u001b[0m\u001b[0;34m(\u001b[0m\u001b[0;34m)\u001b[0m\u001b[0;34m.\u001b[0m\u001b[0mcpu\u001b[0m\u001b[0;34m(\u001b[0m\u001b[0;34m)\u001b[0m\u001b[0;34m.\u001b[0m\u001b[0mnumpy\u001b[0m\u001b[0;34m(\u001b[0m\u001b[0;34m)\u001b[0m\u001b[0;34m\u001b[0m\u001b[0;34m\u001b[0m\u001b[0m\n\u001b[1;32m      5\u001b[0m     _samples = np.hstack([prior.FlatDirichletPrior(4).transform(_samples_unt[:, :3]),\n",
      "\u001b[0;32m/scratch/gpfs/jiaxuanl/torch-env/lib/python3.7/site-packages/numpy/lib/npyio.py\u001b[0m in \u001b[0;36mload\u001b[0;34m(file, mmap_mode, allow_pickle, fix_imports, encoding)\u001b[0m\n\u001b[1;32m    415\u001b[0m             \u001b[0mown_fid\u001b[0m \u001b[0;34m=\u001b[0m \u001b[0;32mFalse\u001b[0m\u001b[0;34m\u001b[0m\u001b[0;34m\u001b[0m\u001b[0m\n\u001b[1;32m    416\u001b[0m         \u001b[0;32melse\u001b[0m\u001b[0;34m:\u001b[0m\u001b[0;34m\u001b[0m\u001b[0;34m\u001b[0m\u001b[0m\n\u001b[0;32m--> 417\u001b[0;31m             \u001b[0mfid\u001b[0m \u001b[0;34m=\u001b[0m \u001b[0mstack\u001b[0m\u001b[0;34m.\u001b[0m\u001b[0menter_context\u001b[0m\u001b[0;34m(\u001b[0m\u001b[0mopen\u001b[0m\u001b[0;34m(\u001b[0m\u001b[0mos_fspath\u001b[0m\u001b[0;34m(\u001b[0m\u001b[0mfile\u001b[0m\u001b[0;34m)\u001b[0m\u001b[0;34m,\u001b[0m \u001b[0;34m\"rb\"\u001b[0m\u001b[0;34m)\u001b[0m\u001b[0;34m)\u001b[0m\u001b[0;34m\u001b[0m\u001b[0;34m\u001b[0m\u001b[0m\n\u001b[0m\u001b[1;32m    418\u001b[0m             \u001b[0mown_fid\u001b[0m \u001b[0;34m=\u001b[0m \u001b[0;32mTrue\u001b[0m\u001b[0;34m\u001b[0m\u001b[0;34m\u001b[0m\u001b[0m\n\u001b[1;32m    419\u001b[0m \u001b[0;34m\u001b[0m\u001b[0m\n",
      "\u001b[0;31mFileNotFoundError\u001b[0m: [Errno 2] No such file or directory: './NDE/GAMA/anneal/real/test_dr3_apmatch/nsf_24_sample_33.npy'"
     ]
    }
   ],
   "source": [
    "folder = 'real_test_dr3ap_24_auto_snr3'\n",
    "for epoch in range(0, 40):\n",
    "    samples = torch.Tensor(np.load(f'./NDE/GAMA/anneal/real/test_dr3_apmatch/nsf_24_sample_{epoch + 1}.npy')).to('cuda')\n",
    "    _samples_unt = inverse_transform_nmf_params(samples, NDE_theta.NDE_prior).detach().cpu().numpy()\n",
    "    _samples = np.hstack([prior.FlatDirichletPrior(4).transform(_samples_unt[:, :3]),\n",
    "                          _samples_unt[:, 3:-1], \n",
    "                          _samples_unt[:, -1:]])\n",
    "    \n",
    "    _labels = [f'beta{i}_sfh' for i in range(1,5)] + speculator.params_name[3:]\n",
    "    _labels = [key.replace('_', '\\_') for key in _labels]\n",
    "\n",
    "    figure = corner.corner(true_params, \n",
    "                      labels=['z', 'log m', 'logzsol'], bins=30,\n",
    "                      color='gray', # quantiles=[0.16, 0.5, 0.84], \n",
    "                           range=[[0, 0.8], [8, 13], [-2, 1]], \n",
    "                      smooth=0.5, fill_cont1ours=True,\n",
    "                      show_titles=True, title_kwargs={\"fontsize\": 12}, \n",
    "                            hist_kwargs={'density': True}, plot_datapoints=True)\n",
    "\n",
    "\n",
    "    nf_plot = corner.corner(np.hstack([_samples[:, -2:-1], _samples[:, -1:] - 0.3, _samples[:, 6:7]]),\n",
    "                            fig=figure,\n",
    "                      labels=['z', 'log m', 'logzsol'], bins=30,\n",
    "                      color='dodgerblue', #quantiles=[0.16, 0.5, 0.84], \n",
    "                      smooth=0.5, fill_contours=True,\n",
    "                      show_titles=True, title_kwargs={\"fontsize\": 12}, \n",
    "                            hist_kwargs={'density': True}, plot_datapoints=False)\n",
    "    \n",
    "    if not os.path.isdir(f'./NDE/GAMA/NMF/movie/{folder}'):\n",
    "        os.makedirs(f'./NDE/GAMA/NMF/movie/{folder}')\n",
    "    plt.savefig(f'./NDE/GAMA/NMF/movie/{folder}/image{epoch:02d}.png', bbox_inches='tight', dpi=50)\n",
    "    plt.close()"
   ]
  },
  {
   "cell_type": "code",
   "execution_count": null,
   "id": "39b38b7a",
   "metadata": {},
   "outputs": [],
   "source": []
  },
  {
   "cell_type": "code",
   "execution_count": null,
   "id": "a905a608",
   "metadata": {},
   "outputs": [],
   "source": []
  },
  {
   "cell_type": "code",
   "execution_count": null,
   "id": "193dec9d",
   "metadata": {},
   "outputs": [],
   "source": []
  },
  {
   "cell_type": "code",
   "execution_count": 21,
   "id": "a9373b5f",
   "metadata": {},
   "outputs": [],
   "source": [
    "with open('./NDE/GAMA/anneal/real/test_dr3_apmatch/nde_theta_best_loss_nsf_23.pkl', 'rb') as f:\n",
    "    NDE_theta = pickle.load(f)"
   ]
  },
  {
   "cell_type": "code",
   "execution_count": 22,
   "id": "4b6b22ef",
   "metadata": {},
   "outputs": [
    {
     "data": {
      "text/plain": [
       "[<matplotlib.lines.Line2D at 0x152e0a9d2090>]"
      ]
     },
     "execution_count": 22,
     "metadata": {},
     "output_type": "execute_result"
    },
    {
     "data": {
      "image/png": "[encoded data removed]",
      "text/plain": [
       "<Figure size 432x288 with 1 Axes>"
      ]
     },
     "metadata": {
      "needs_background": "light"
     },
     "output_type": "display_data"
    }
   ],
   "source": [
    "plt.plot(NDE_theta.train_loss_history)"
   ]
  },
  {
   "cell_type": "code",
   "execution_count": null,
   "id": "b5201c0b",
   "metadata": {},
   "outputs": [],
   "source": []
  },
  {
   "cell_type": "code",
   "execution_count": null,
   "id": "7d8bdaf8",
   "metadata": {},
   "outputs": [],
   "source": [
    "NDE_theta.save_model(\n",
    "        os.path.join(NDE_theta.output_dir,\n",
    "                     f'nde_theta_last_model_{NDE_theta.method}_{NDE_theta.seed}.pkl')\n",
    "    )"
   ]
  },
  {
   "cell_type": "code",
   "execution_count": null,
   "id": "f5d87cac",
   "metadata": {},
   "outputs": [],
   "source": []
  },
  {
   "cell_type": "code",
   "execution_count": null,
   "id": "4a2e2f32",
   "metadata": {},
   "outputs": [],
   "source": []
  },
  {
   "cell_type": "code",
   "execution_count": null,
   "id": "4930fc3b",
   "metadata": {},
   "outputs": [],
   "source": []
  },
  {
   "cell_type": "code",
   "execution_count": 20,
   "id": "47295a32",
   "metadata": {},
   "outputs": [],
   "source": [
    "folder = 'lr3e-4_ann7p5_10t'\n",
    "for epoch in range(30):\n",
    "    samples = torch.Tensor(np.load(f'./NDE/GAMA/anneal/mock/{folder}/nsf_0_sample_{epoch + 1}.npy')).to('cuda')\n",
    "    _samples_unt = inverse_transform_nmf_params(samples, NDE_theta.NDE_prior).detach().cpu().numpy()\n",
    "    _samples = np.hstack([prior.FlatDirichletPrior(4).transform(_samples_unt[:, :3]),\n",
    "                          _samples_unt[:, 3:-1], \n",
    "                          _samples_unt[:, -1:]])\n",
    "    \n",
    "    _labels = [f'beta{i}_sfh' for i in range(1,5)] + speculator.params_name[3:]\n",
    "    _labels = [key.replace('_', '\\_') for key in _labels]\n",
    "\n",
    "    figure = corner.corner(true_params, \n",
    "                      labels=_labels, bins=30,\n",
    "                      color='gray', # quantiles=[0.16, 0.5, 0.84], \n",
    "                      smooth=0.5, fill_cont1ours=True,\n",
    "                      show_titles=True, title_kwargs={\"fontsize\": 12}, \n",
    "                            hist_kwargs={'density': True}, plot_datapoints=True)\n",
    "\n",
    "\n",
    "    nf_plot = corner.corner(_samples, \n",
    "                            fig=figure,\n",
    "                      labels=_labels, bins=30,\n",
    "                      color='dodgerblue', #quantiles=[0.16, 0.5, 0.84], \n",
    "                      smooth=0.5, fill_contours=True,\n",
    "                      show_titles=True, title_kwargs={\"fontsize\": 12}, \n",
    "                            hist_kwargs={'density': True}, plot_datapoints=False)\n",
    "    \n",
    "    if not os.path.isdir(f'./NDE/GAMA/NMF/movie/{folder}'):\n",
    "        os.makedirs(f'./NDE/GAMA/NMF/movie/{folder}')\n",
    "    plt.savefig(f'./NDE/GAMA/NMF/movie/{folder}/image{epoch:02d}.png', bbox_inches='tight', dpi=50)\n",
    "    plt.close()"
   ]
  },
  {
   "cell_type": "code",
   "execution_count": null,
   "id": "c977b7fa",
   "metadata": {},
   "outputs": [],
   "source": []
  },
  {
   "cell_type": "markdown",
   "id": "4feffe53",
   "metadata": {},
   "source": [
    "rsync -azvr --progress jiaxuanl@della.princeton.edu:/scratch/gpfs/jiaxuanl/Data/popsed/NDE/GAMA/NMF/movie ./"
   ]
  },
  {
   "cell_type": "code",
   "execution_count": 9,
   "id": "0886f4a0",
   "metadata": {},
   "outputs": [],
   "source": [
    "# real gama data\n",
    "folder = 'lr2e-4_ann7p5_30'\n",
    "for epoch in range(30):\n",
    "    samples = torch.Tensor(np.load(f'./NDE/GAMA/anneal/real/{folder}/nsf_0_sample_{epoch + 1}.npy')).to('cuda')\n",
    "    _samples_unt = inverse_transform_nmf_params(samples, NDE_theta.NDE_prior).detach().cpu().numpy()\n",
    "    _samples = np.hstack([prior.FlatDirichletPrior(4).transform(_samples_unt[:, :3]),\n",
    "                          _samples_unt[:, 3:-1], \n",
    "                          _samples_unt[:, -1:]])\n",
    "    \n",
    "    _labels = [f'beta{i}_sfh' for i in range(1,5)] + speculator.params_name[3:]\n",
    "    _labels = [key.replace('_', '\\_') for key in _labels]\n",
    "\n",
    "    figure = corner.corner(true_params, \n",
    "                      labels=_labels, bins=30,\n",
    "                      color='gray', # quantiles=[0.16, 0.5, 0.84], \n",
    "                      smooth=0.5, fill_contours=True,\n",
    "                      show_titles=True, title_kwargs={\"fontsize\": 12}, \n",
    "                            hist_kwargs={'density': True}, plot_datapoints=True)\n",
    "\n",
    "\n",
    "    nf_plot = corner.corner(_samples, \n",
    "                            fig=figure,\n",
    "                      labels=_labels, bins=30,\n",
    "                      color='dodgerblue', #quantiles=[0.16, 0.5, 0.84], \n",
    "                      smooth=0.5, fill_contours=True,\n",
    "                      show_titles=True, title_kwargs={\"fontsize\": 12}, \n",
    "                            hist_kwargs={'density': True}, plot_datapoints=False)\n",
    "\n",
    "    if not os.path.isdir(f'./NDE/GAMA/NMF/movie/{folder}_real'):\n",
    "        os.makedirs(f'./NDE/GAMA/NMF/movie/{folder}_real')\n",
    "    plt.savefig(f'./NDE/GAMA/NMF/movie/{folder}_real/image{epoch:02d}.png', bbox_inches='tight', dpi=50)\n",
    "    plt.close()"
   ]
  },
  {
   "cell_type": "code",
   "execution_count": null,
   "id": "12400e46",
   "metadata": {},
   "outputs": [],
   "source": []
  },
  {
   "cell_type": "code",
   "execution_count": 31,
   "id": "a92038e1",
   "metadata": {},
   "outputs": [
    {
     "data": {
      "text/plain": [
       "7.5"
      ]
     },
     "execution_count": 31,
     "metadata": {},
     "output_type": "execute_result"
    }
   ],
   "source": [
    "0.25 * 30"
   ]
  },
  {
   "cell_type": "code",
   "execution_count": 37,
   "id": "14de734c",
   "metadata": {},
   "outputs": [
    {
     "data": {
      "text/plain": [
       "[<matplotlib.lines.Line2D at 0x14537b2c86d0>]"
      ]
     },
     "execution_count": 37,
     "metadata": {},
     "output_type": "execute_result"
    },
    {
     "data": {
      "image/png": "[encoded data removed]",
      "text/plain": [
       "<Figure size 432x288 with 1 Axes>"
      ]
     },
     "metadata": {
      "needs_background": "light"
     },
     "output_type": "display_data"
    }
   ],
   "source": [
    "anneal_coeff = 7.5\n",
    "max_epochs = 30\n",
    "plt.plot([1 + 19 * np.exp(- anneal_coeff / max_epochs * i) for i in range(max_epochs)])\n",
    "\n",
    "anneal_coeff = 6.\n",
    "plt.plot([1 + 19 * np.exp(- anneal_coeff / max_epochs * i) for i in range(max_epochs)])"
   ]
  },
  {
   "cell_type": "code",
   "execution_count": null,
   "id": "908a4d14",
   "metadata": {},
   "outputs": [],
   "source": []
  },
  {
   "cell_type": "code",
   "execution_count": 39,
   "id": "9fc64ae2",
   "metadata": {},
   "outputs": [
    {
     "data": {
      "text/plain": [
       "'a_b'"
      ]
     },
     "execution_count": 39,
     "metadata": {},
     "output_type": "execute_result"
    }
   ],
   "source": [
    "\"_\".join(['a', 'b'])"
   ]
  },
  {
   "cell_type": "code",
   "execution_count": null,
   "id": "d613cf23",
   "metadata": {},
   "outputs": [],
   "source": [
    "np.load('./NDE/GAMA/mo')"
   ]
  }
 ],
 "metadata": {
  "kernelspec": {
   "display_name": "Python 3 (ipykernel)",
   "language": "python",
   "name": "python3"
  },
  "language_info": {
   "codemirror_mode": {
    "name": "ipython",
    "version": 3
   },
   "file_extension": ".py",
   "mimetype": "text/x-python",
   "name": "python",
   "nbconvert_exporter": "python",
   "pygments_lexer": "ipython3",
   "version": "3.7.13"
  }
 },
 "nbformat": 4,
 "nbformat_minor": 5
}
