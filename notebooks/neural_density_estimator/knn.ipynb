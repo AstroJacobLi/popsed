{
 "cells": [
  {
   "cell_type": "code",
   "execution_count": 1,
   "id": "24586c2b",
   "metadata": {},
   "outputs": [],
   "source": [
    "%load_ext autoreload\n",
    "%autoreload 2"
   ]
  },
  {
   "cell_type": "code",
   "execution_count": 2,
   "id": "de2f7577",
   "metadata": {},
   "outputs": [],
   "source": [
    "import os\n",
    "os.chdir('/scratch/gpfs/jiaxuanl/Data/popsed/')\n",
    "import sys\n",
    "sys.path.append('/home/jiaxuanl/Research/popsed/')"
   ]
  },
  {
   "cell_type": "code",
   "execution_count": 41,
   "id": "6ed7dfdc",
   "metadata": {},
   "outputs": [],
   "source": [
    "import numpy as np\n",
    "import torch\n",
    "from torch import Tensor, FloatTensor, optim\n",
    "import faiss.contrib.torch_utils"
   ]
  },
  {
   "cell_type": "code",
   "execution_count": 274,
   "id": "d5580e65",
   "metadata": {},
   "outputs": [],
   "source": [
    "# phot_all = np.load('/scratch/gpfs/jiaxuanl/Data/popsed/train_sed/phot_all.npy')\n",
    "# X = -2.5 * np.log10(phot_all).astype('float32')\n",
    "# X.shape"
   ]
  },
  {
   "cell_type": "code",
   "execution_count": 275,
   "id": "ad527bd2",
   "metadata": {},
   "outputs": [],
   "source": [
    "import faiss\n",
    "from scipy.special import digamma"
   ]
  },
  {
   "cell_type": "code",
   "execution_count": 276,
   "id": "49c942b5",
   "metadata": {},
   "outputs": [],
   "source": [
    "## Below, I try to compare re-write KNN using faiss"
   ]
  },
  {
   "cell_type": "code",
   "execution_count": 278,
   "id": "6199873a",
   "metadata": {},
   "outputs": [],
   "source": [
    "d = 5\n",
    "nb = 10000                      # database size\n",
    "np.random.seed(1234)\n",
    "X = np.random.random((nb, d)).astype('float32')\n",
    "np.random.seed(4321)\n",
    "Y = np.random.random((nb, d)).astype('float32')\n",
    "\n",
    "Y[:, 0] += 1\n",
    "\n",
    "X = FloatTensor(X)\n",
    "Y = FloatTensor(Y)"
   ]
  },
  {
   "cell_type": "code",
   "execution_count": 285,
   "id": "e1ac30c1",
   "metadata": {},
   "outputs": [],
   "source": [
    "n, d = X.shape  # X sample size, dimensions"
   ]
  },
  {
   "cell_type": "code",
   "execution_count": 286,
   "id": "28bb8ef4",
   "metadata": {},
   "outputs": [],
   "source": [
    "NN_X = faiss.IndexFlatL2(d)   # build the index\n",
    "NN_X.add(X)                  # add vectors to the index"
   ]
  },
  {
   "cell_type": "code",
   "execution_count": null,
   "id": "d816858a",
   "metadata": {},
   "outputs": [],
   "source": []
  },
  {
   "cell_type": "code",
   "execution_count": null,
   "id": "8ee152fb",
   "metadata": {},
   "outputs": [],
   "source": []
  },
  {
   "cell_type": "code",
   "execution_count": 263,
   "id": "38e9a4c7",
   "metadata": {},
   "outputs": [],
   "source": [
    "assert X.shape[1] == Y.shape[1]\n",
    "n, d = X.shape  # X sample size, dimensions\n",
    "m = Y.shape[0]  # Y sample size"
   ]
  },
  {
   "cell_type": "code",
   "execution_count": 264,
   "id": "1413205d",
   "metadata": {},
   "outputs": [],
   "source": [
    "NN_X = faiss.IndexFlatL2(d)   # build the index\n",
    "NN_X.add(X)                  # add vectors to the index\n",
    "\n",
    "NN_Y = faiss.IndexFlatL2(d)   # build the index\n",
    "NN_Y.add(Y)                  # add vectors to the index"
   ]
  },
  {
   "cell_type": "code",
   "execution_count": 254,
   "id": "0dcd49be",
   "metadata": {},
   "outputs": [],
   "source": [
    "dNN1_XX, ind_XX = NN_X.search(X, 2000)\n",
    "dNN1_XX = torch.sqrt(dNN1_XX[:, 1:])\n",
    "ind_XX = ind_XX[:, 1:]\n",
    "\n",
    "dNN1_XY, ind_XY = NN_Y.search(X, 2000)\n",
    "dNN1_XY = torch.sqrt(dNN1_XY)"
   ]
  },
  {
   "cell_type": "code",
   "execution_count": 255,
   "id": "356d27a5",
   "metadata": {},
   "outputs": [
    {
     "name": "stdout",
     "output_type": "stream",
     "text": [
      "  epsilons  tensor([0.1424, 0.1324, 0.1013,  ..., 0.1150, 0.1354, 0.1193],\n",
      "       dtype=torch.float64)\n"
     ]
    }
   ],
   "source": [
    "eps = torch.amax(torch.cat((dNN1_XX[:, 0:1], dNN1_XY[:, 0:1]), dim=1), 1) * 1.000001\n",
    "eps = eps.type(torch.float64)\n",
    "#eps = eps.astype('float64')\n",
    "print('  epsilons ', eps)"
   ]
  },
  {
   "cell_type": "code",
   "execution_count": 256,
   "id": "0a435a9f",
   "metadata": {},
   "outputs": [],
   "source": [
    "# find l_i and k_i, slow\n",
    "l_i = torch.empty(n, dtype=int)\n",
    "k_i = torch.empty(n, dtype=int)\n",
    "rho_i = torch.empty(n, dtype=float)\n",
    "nu_i = torch.empty(n, dtype=float)\n",
    "\n",
    "for i, e in enumerate(eps):\n",
    "    l_i[i] = torch.sum(dNN1_XX[i:i+1] < e)\n",
    "    rho_i[i] = dNN1_XX[i:i+1][0][l_i[i] - 1]\n",
    "    \n",
    "    k_i[i] = torch.sum(dNN1_XY[i:i+1] < e)\n",
    "    nu_i[i] = dNN1_XY[i:i+1][0][k_i[i] - 1]"
   ]
  },
  {
   "cell_type": "code",
   "execution_count": 257,
   "id": "b4610f85",
   "metadata": {},
   "outputs": [
    {
     "name": "stdout",
     "output_type": "stream",
     "text": [
      "  first term = -0.020082\n",
      "  digamma term = -0.009040\n"
     ]
    },
    {
     "data": {
      "text/plain": [
       "tensor(-0.0290, dtype=torch.float64)"
      ]
     },
     "execution_count": 257,
     "metadata": {},
     "output_type": "execute_result"
    }
   ],
   "source": [
    "d_corr = d / n * torch.sum(torch.log(nu_i / rho_i))\n",
    "#if not silent:\n",
    "print('  first term = %f' % d_corr)\n",
    "digamma_term = torch.sum(digamma(l_i) - digamma(k_i)) / n\n",
    "#if not silent:\n",
    "print('  digamma term = %f' % digamma_term)\n",
    "d_corr + digamma_term + np.log(float(m)/float(n-1))"
   ]
  },
  {
   "cell_type": "code",
   "execution_count": null,
   "id": "26b8c5a6",
   "metadata": {},
   "outputs": [],
   "source": []
  },
  {
   "cell_type": "code",
   "execution_count": null,
   "id": "7eafbebb",
   "metadata": {},
   "outputs": [],
   "source": []
  },
  {
   "cell_type": "code",
   "execution_count": null,
   "id": "2250dad3",
   "metadata": {},
   "outputs": [],
   "source": []
  },
  {
   "cell_type": "code",
   "execution_count": null,
   "id": "05e452e5",
   "metadata": {},
   "outputs": [],
   "source": []
  },
  {
   "cell_type": "code",
   "execution_count": 260,
   "id": "a86351f8",
   "metadata": {},
   "outputs": [],
   "source": [
    "from popsed.nde import KL_w2009_eq29, _KL_w2009_eq29, diff_KL_w2009_eq29"
   ]
  },
  {
   "cell_type": "code",
   "execution_count": 284,
   "id": "ebc99850",
   "metadata": {},
   "outputs": [
    {
     "name": "stdout",
     "output_type": "stream",
     "text": [
      "  epsilons  tensor([0.8452, 0.7576, 0.6938,  ..., 0.5891, 0.6466, 0.4214],\n",
      "       dtype=torch.float64)\n",
      "  l_i  tensor([999, 999, 999,  ..., 999, 999, 608])\n",
      "  k_i  tensor([1, 1, 1,  ..., 1, 1, 1])\n",
      "  first term = 0.827287\n",
      "  digamma term = 6.001824\n",
      "CPU times: user 4.27 s, sys: 89.8 ms, total: 4.36 s\n",
      "Wall time: 4.4 s\n"
     ]
    },
    {
     "data": {
      "text/plain": [
       "tensor(6.8292, dtype=torch.float64)"
      ]
     },
     "execution_count": 284,
     "metadata": {},
     "output_type": "execute_result"
    }
   ],
   "source": [
    "%%time\n",
    "diff_KL_w2009_eq29(X, Y, silent=False)"
   ]
  },
  {
   "cell_type": "code",
   "execution_count": null,
   "id": "9d000a94",
   "metadata": {},
   "outputs": [],
   "source": []
  },
  {
   "cell_type": "code",
   "execution_count": null,
   "id": "9389b0f1",
   "metadata": {},
   "outputs": [],
   "source": []
  },
  {
   "cell_type": "code",
   "execution_count": null,
   "id": "6aaa53af",
   "metadata": {},
   "outputs": [],
   "source": []
  },
  {
   "cell_type": "code",
   "execution_count": 267,
   "id": "03dea067",
   "metadata": {},
   "outputs": [
    {
     "name": "stdout",
     "output_type": "stream",
     "text": [
      "  epsilons  [0.84527129 0.75766706 0.69386774 ... 0.58919084 0.64670169 0.42141047]\n",
      "  l_i  [5615 2157 4608 ... 1722 2669  608]\n",
      "  k_i  [1 1 1 ... 1 1 1]\n",
      "  first term = 0.037714\n",
      "  digamma term = 6.564656\n",
      "CPU times: user 2.39 s, sys: 4.01 ms, total: 2.4 s\n",
      "Wall time: 2.41 s\n"
     ]
    },
    {
     "data": {
      "text/plain": [
       "6.602469623349827"
      ]
     },
     "execution_count": 267,
     "metadata": {},
     "output_type": "execute_result"
    }
   ],
   "source": [
    "%%time\n",
    "KL_w2009_eq29(X, Y, silent=False)"
   ]
  },
  {
   "cell_type": "code",
   "execution_count": null,
   "id": "d3ffdc3d",
   "metadata": {},
   "outputs": [],
   "source": []
  },
  {
   "cell_type": "code",
   "execution_count": null,
   "id": "c6cd77b1",
   "metadata": {},
   "outputs": [],
   "source": []
  },
  {
   "cell_type": "code",
   "execution_count": 268,
   "id": "24154674",
   "metadata": {},
   "outputs": [
    {
     "name": "stdout",
     "output_type": "stream",
     "text": [
      "CPU times: user 13.8 s, sys: 157 ms, total: 13.9 s\n",
      "Wall time: 13.9 s\n"
     ]
    },
    {
     "data": {
      "text/plain": [
       "6.605654392964036"
      ]
     },
     "execution_count": 268,
     "metadata": {},
     "output_type": "execute_result"
    }
   ],
   "source": [
    "%%time\n",
    "_KL_w2009_eq29(X, Y, silent=True)"
   ]
  },
  {
   "cell_type": "code",
   "execution_count": null,
   "id": "992c02fc",
   "metadata": {},
   "outputs": [],
   "source": []
  },
  {
   "cell_type": "code",
   "execution_count": 120,
   "id": "77f62e18",
   "metadata": {},
   "outputs": [],
   "source": [
    "## we already have eps"
   ]
  },
  {
   "cell_type": "code",
   "execution_count": 206,
   "id": "4524229b",
   "metadata": {},
   "outputs": [
    {
     "name": "stdout",
     "output_type": "stream",
     "text": [
      "CPU times: user 48.6 s, sys: 4.87 ms, total: 48.6 s\n",
      "Wall time: 48.6 s\n"
     ]
    }
   ],
   "source": [
    "%%time\n",
    "l_i = torch.empty(n, dtype=int)\n",
    "k_i = torch.empty(n, dtype=int)\n",
    "rho_i = torch.empty(n, dtype=float)\n",
    "nu_i = torch.empty(n, dtype=float)\n",
    "\n",
    "for i, e in enumerate(eps):\n",
    "    dist = torch.norm(X[i:i+1] - X, dim=1, p=None).sort()\n",
    "    l_i[i] = torch.sum(dist.values <= e) - 1\n",
    "    rho_i[i] = dist.values[l_i[i]]\n",
    "    \n",
    "    dist = torch.norm(X[i:i+1] - Y, dim=1, p=None).sort()\n",
    "    k_i[i] = torch.sum(dist.values <= e)\n",
    "    nu_i[i] = dist.values[k_i[i] - 1]"
   ]
  },
  {
   "cell_type": "code",
   "execution_count": 144,
   "id": "8ff7642c",
   "metadata": {},
   "outputs": [],
   "source": [
    "l_i -= 1"
   ]
  },
  {
   "cell_type": "code",
   "execution_count": 214,
   "id": "ae650112",
   "metadata": {},
   "outputs": [
    {
     "name": "stdout",
     "output_type": "stream",
     "text": [
      "  first term = -0.000908\n",
      "  digamma term = -0.820392\n"
     ]
    }
   ],
   "source": [
    "assert rho_i.min() > 0., 'duplicate elements in your chain'\n",
    "\n",
    "d_corr = d / n * torch.sum(torch.log(nu_i / rho_i))\n",
    "\n",
    "print('  first term = %f' % d_corr)\n",
    "digamma_term = torch.sum(digamma(l_i) - digamma(k_i)) / n\n",
    "\n",
    "print('  digamma term = %f' % digamma_term)"
   ]
  },
  {
   "cell_type": "code",
   "execution_count": 146,
   "id": "ebe3a91a",
   "metadata": {},
   "outputs": [
    {
     "data": {
      "text/plain": [
       "tensor(-0.0293, dtype=torch.float64)"
      ]
     },
     "execution_count": 146,
     "metadata": {},
     "output_type": "execute_result"
    }
   ],
   "source": [
    "d_corr + digamma_term + np.log(float(m)/float(n-1))"
   ]
  },
  {
   "cell_type": "code",
   "execution_count": null,
   "id": "236abbc2",
   "metadata": {},
   "outputs": [],
   "source": []
  },
  {
   "cell_type": "markdown",
   "id": "1e607225",
   "metadata": {},
   "source": [
    "## SKlearn method"
   ]
  },
  {
   "cell_type": "code",
   "execution_count": null,
   "id": "45c7f539",
   "metadata": {},
   "outputs": [],
   "source": [
    "from sklearn.neighbors import NearestNeighbors"
   ]
  },
  {
   "cell_type": "code",
   "execution_count": 133,
   "id": "31596e01",
   "metadata": {},
   "outputs": [],
   "source": [
    "n, d = X.shape  # X sample size, dimensions\n",
    "m = Y.shape[0]  # Y sample size"
   ]
  },
  {
   "cell_type": "code",
   "execution_count": 134,
   "id": "11aa5d67",
   "metadata": {},
   "outputs": [],
   "source": [
    "NN_X = NearestNeighbors(n_neighbors=1).fit(X)\n",
    "NN_Y = NearestNeighbors(n_neighbors=1).fit(Y)"
   ]
  },
  {
   "cell_type": "code",
   "execution_count": 135,
   "id": "de85fb51",
   "metadata": {},
   "outputs": [],
   "source": [
    "dNN1_XX, ind_XX = NN_X.kneighbors(X, n_neighbors=2)\n",
    "dNN1_XY, ind_XY = NN_Y.kneighbors(X)"
   ]
  },
  {
   "cell_type": "code",
   "execution_count": 136,
   "id": "cdbabed4",
   "metadata": {},
   "outputs": [
    {
     "name": "stdout",
     "output_type": "stream",
     "text": [
      "  epsilons  [0.14238908 0.13238188 0.10129241 ... 0.1149996  0.1353781  0.11926264]\n"
     ]
    }
   ],
   "source": [
    "eps = np.amax([dNN1_XX[:, 1], dNN1_XY[:, 0]], axis=0) * 1.000001\n",
    "print('  epsilons ', eps)"
   ]
  },
  {
   "cell_type": "code",
   "execution_count": 137,
   "id": "faba9df9",
   "metadata": {},
   "outputs": [
    {
     "name": "stdout",
     "output_type": "stream",
     "text": [
      "  l_i  [4 2 1 ... 2 1 1]\n",
      "  k_i  [1 1 1 ... 1 1 1]\n"
     ]
    }
   ],
   "source": [
    "# find l_i and k_i\n",
    "_, i_l = NN_X.radius_neighbors(X, eps)\n",
    "_, i_k = NN_Y.radius_neighbors(X, eps)\n",
    "l_i = np.array([len(il)-1 for il in i_l])\n",
    "k_i = np.array([len(ik) for ik in i_k])\n",
    "# assert l_i.min() > 0\n",
    "# assert k_i.min() > 0\n",
    "\n",
    "print('  l_i ', l_i)\n",
    "print('  k_i ', k_i)"
   ]
  },
  {
   "cell_type": "code",
   "execution_count": 60,
   "id": "ea2fb53f",
   "metadata": {},
   "outputs": [],
   "source": [
    "rho_i = np.empty(nb, dtype=float)\n",
    "nu_i = np.empty(nb, dtype=float)\n",
    "for i in range(nb):\n",
    "    rho_ii, _ = NN_X.kneighbors(np.atleast_2d(X[i]), n_neighbors=l_i[i]+1)\n",
    "    nu_ii, _ = NN_Y.kneighbors(np.atleast_2d(X[i]), n_neighbors=k_i[i])\n",
    "    rho_i[i] = rho_ii[0][-1]\n",
    "    nu_i[i] = nu_ii[0][-1]"
   ]
  },
  {
   "cell_type": "code",
   "execution_count": 64,
   "id": "e142be53",
   "metadata": {},
   "outputs": [
    {
     "name": "stdout",
     "output_type": "stream",
     "text": [
      "  first term = -0.019828\n",
      "  digamma term = -0.009140\n"
     ]
    }
   ],
   "source": [
    "assert rho_i.min() > 0., 'duplicate elements in your chain'\n",
    "\n",
    "d_corr = float(d) / float(n) * np.sum(np.log(nu_i/rho_i))\n",
    "\n",
    "print('  first term = %f' % d_corr)\n",
    "digamma_term = np.sum(digamma(l_i) - digamma(k_i)) / float(n)\n",
    "\n",
    "print('  digamma term = %f' % digamma_term)"
   ]
  },
  {
   "cell_type": "code",
   "execution_count": 65,
   "id": "da0458c8",
   "metadata": {},
   "outputs": [
    {
     "data": {
      "text/plain": [
       "(-0.019827795680685836, -0.009139642857142857, 0.00010000500033327544)"
      ]
     },
     "execution_count": 65,
     "metadata": {},
     "output_type": "execute_result"
    }
   ],
   "source": [
    "d_corr, digamma_term, np.log(float(m)/float(n-1))"
   ]
  },
  {
   "cell_type": "code",
   "execution_count": null,
   "id": "369816c1",
   "metadata": {},
   "outputs": [],
   "source": []
  }
 ],
 "metadata": {
  "kernelspec": {
   "display_name": "Python 3 (ipykernel)",
   "language": "python",
   "name": "python3"
  },
  "language_info": {
   "codemirror_mode": {
    "name": "ipython",
    "version": 3
   },
   "file_extension": ".py",
   "mimetype": "text/x-python",
   "name": "python",
   "nbconvert_exporter": "python",
   "pygments_lexer": "ipython3",
   "version": "3.9.7"
  }
 },
 "nbformat": 4,
 "nbformat_minor": 5
}
