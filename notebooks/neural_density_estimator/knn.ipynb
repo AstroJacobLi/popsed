{
 "cells": [
  {
   "cell_type": "code",
   "execution_count": 36,
   "id": "afeaa803",
   "metadata": {},
   "outputs": [],
   "source": [
    "import numpy as np\n",
    "np.random.seed(1234)             # make reproducible\n",
    "# d = 64                           # dimension\n",
    "# nb = 100000                      # database size\n",
    "# nq = 10000                       # nb of queries\n",
    "# xb = np.random.random((nb, d)).astype('float32')\n",
    "# #xb[:, 0] += np.arange(nb) / 1000.\n",
    "# xq = np.random.random((nq, d)).astype('float32')\n",
    "# xq[:, 0] += np.arange(nq) / 1000."
   ]
  },
  {
   "cell_type": "code",
   "execution_count": 23,
   "id": "d5580e65",
   "metadata": {},
   "outputs": [
    {
     "data": {
      "text/plain": [
       "(1600, 5)"
      ]
     },
     "execution_count": 23,
     "metadata": {},
     "output_type": "execute_result"
    }
   ],
   "source": [
    "# phot_all = np.load('/scratch/gpfs/jiaxuanl/Data/popsed/train_sed/phot_all.npy')\n",
    "# xb = -2.5 * np.log10(phot_all).astype('float32')\n",
    "# xb.shape"
   ]
  },
  {
   "cell_type": "code",
   "execution_count": 33,
   "id": "ad527bd2",
   "metadata": {},
   "outputs": [],
   "source": [
    "import faiss\n",
    "from sklearn.neighbors import NearestNeighbors"
   ]
  },
  {
   "cell_type": "code",
   "execution_count": 34,
   "id": "49c942b5",
   "metadata": {},
   "outputs": [],
   "source": [
    "## Below, I try to compare re-write KNN using faiss"
   ]
  },
  {
   "cell_type": "code",
   "execution_count": 75,
   "id": "6199873a",
   "metadata": {},
   "outputs": [],
   "source": [
    "d = 5\n",
    "nb = 10000                      # database size\n",
    "np.random.seed(1234)\n",
    "X = np.random.random((nb, d)).astype('float32')\n",
    "np.random.seed(4321)\n",
    "Y = np.random.random((nb, d)).astype('float32')"
   ]
  },
  {
   "cell_type": "code",
   "execution_count": 76,
   "id": "1413205d",
   "metadata": {},
   "outputs": [],
   "source": [
    "NN_X = faiss.IndexFlatL2(d)   # build the index\n",
    "NN_X.add(X)                  # add vectors to the index\n",
    "\n",
    "NN_Y = faiss.IndexFlatL2(d)   # build the index\n",
    "NN_Y.add(Y)                  # add vectors to the index"
   ]
  },
  {
   "cell_type": "code",
   "execution_count": 77,
   "id": "0dcd49be",
   "metadata": {},
   "outputs": [],
   "source": [
    "dNN1_XX, ind_XX = NN_X.search(X, 2)\n",
    "dNN1_XY, ind_XY = NN_Y.search(X, 1)"
   ]
  },
  {
   "cell_type": "code",
   "execution_count": 79,
   "id": "34331a3a",
   "metadata": {},
   "outputs": [
    {
     "data": {
      "text/plain": [
       "(array([[   0, 5426],\n",
       "        [   1, 2067],\n",
       "        [   2, 7718],\n",
       "        ...,\n",
       "        [9997, 3597],\n",
       "        [9998, 3013],\n",
       "        [9999, 1818]]),\n",
       " array([[5677, 7279],\n",
       "        [6014, 9042],\n",
       "        [ 789,  472],\n",
       "        ...,\n",
       "        [ 253, 5023],\n",
       "        [6084, 6432],\n",
       "        [3429, 3021]]))"
      ]
     },
     "execution_count": 79,
     "metadata": {},
     "output_type": "execute_result"
    }
   ],
   "source": [
    "ind_XX, ind_XY"
   ]
  },
  {
   "cell_type": "code",
   "execution_count": 72,
   "id": "fa61b1de",
   "metadata": {},
   "outputs": [
    {
     "data": {
      "text/plain": [
       "array([[0.0202744 , 0.02037525],\n",
       "       [0.01752472, 0.02315903],\n",
       "       [0.00781369, 0.01380777],\n",
       "       ...,\n",
       "       [0.01322484, 0.0152235 ],\n",
       "       [0.01705182, 0.02236003],\n",
       "       [0.01094556, 0.01663446]], dtype=float32)"
      ]
     },
     "execution_count": 72,
     "metadata": {},
     "output_type": "execute_result"
    }
   ],
   "source": [
    "dNN1_XY"
   ]
  },
  {
   "cell_type": "code",
   "execution_count": 80,
   "id": "31596e01",
   "metadata": {},
   "outputs": [],
   "source": [
    "assert X.shape[1] == Y.shape[1]\n",
    "n, d = X.shape  # X sample size, dimensions\n",
    "m = Y.shape[0]  # Y sample size"
   ]
  },
  {
   "cell_type": "code",
   "execution_count": 81,
   "id": "11aa5d67",
   "metadata": {},
   "outputs": [],
   "source": [
    "NN_X = NearestNeighbors(n_neighbors=1).fit(X)\n",
    "NN_Y = NearestNeighbors(n_neighbors=1).fit(Y)"
   ]
  },
  {
   "cell_type": "code",
   "execution_count": 82,
   "id": "de85fb51",
   "metadata": {},
   "outputs": [],
   "source": [
    "dNN1_XX, ind_XX = NN_X.kneighbors(X, n_neighbors=2)\n",
    "dNN1_XY, ind_XY = NN_Y.kneighbors(X)"
   ]
  },
  {
   "cell_type": "code",
   "execution_count": 83,
   "id": "1c3d384c",
   "metadata": {},
   "outputs": [
    {
     "data": {
      "text/plain": [
       "(array([[   0, 5426],\n",
       "        [   1, 2067],\n",
       "        [   2, 7718],\n",
       "        ...,\n",
       "        [9997, 3597],\n",
       "        [9998, 3013],\n",
       "        [9999, 1818]]),\n",
       " array([[5677],\n",
       "        [6014],\n",
       "        [ 789],\n",
       "        ...,\n",
       "        [ 253],\n",
       "        [6084],\n",
       "        [3429]]))"
      ]
     },
     "execution_count": 83,
     "metadata": {},
     "output_type": "execute_result"
    }
   ],
   "source": [
    "ind_XX, ind_XY"
   ]
  },
  {
   "cell_type": "code",
   "execution_count": 59,
   "id": "20fa926f",
   "metadata": {},
   "outputs": [
    {
     "data": {
      "text/plain": [
       "array([[0.14238893],\n",
       "       [0.13238174],\n",
       "       [0.08839471],\n",
       "       ...,\n",
       "       [0.11499948],\n",
       "       [0.13058264],\n",
       "       [0.10462049]])"
      ]
     },
     "execution_count": 59,
     "metadata": {},
     "output_type": "execute_result"
    }
   ],
   "source": [
    "dNN1_XY"
   ]
  },
  {
   "cell_type": "code",
   "execution_count": 69,
   "id": "36a438b6",
   "metadata": {},
   "outputs": [
    {
     "data": {
      "text/plain": [
       "array([[0.0202744 ],\n",
       "       [0.01752472],\n",
       "       [0.00781369],\n",
       "       ...,\n",
       "       [0.01322484],\n",
       "       [0.01705182],\n",
       "       [0.01094556]], dtype=float32)"
      ]
     },
     "execution_count": 69,
     "metadata": {},
     "output_type": "execute_result"
    }
   ],
   "source": [
    "dNN1_XY"
   ]
  },
  {
   "cell_type": "code",
   "execution_count": 58,
   "id": "b2d1a91e",
   "metadata": {},
   "outputs": [
    {
     "data": {
      "text/plain": [
       "array([[0.        , 0.10008004],\n",
       "       [0.        , 0.12219173],\n",
       "       [0.        , 0.10129231],\n",
       "       ...,\n",
       "       [0.        , 0.11148383],\n",
       "       [0.        , 0.13537796],\n",
       "       [0.        , 0.11926252]])"
      ]
     },
     "execution_count": 58,
     "metadata": {},
     "output_type": "execute_result"
    }
   ],
   "source": [
    "dNN1_XX"
   ]
  },
  {
   "cell_type": "code",
   "execution_count": 68,
   "id": "3e89f8e6",
   "metadata": {},
   "outputs": [
    {
     "data": {
      "text/plain": [
       "array([[0.        , 0.01001596],\n",
       "       [0.        , 0.0149312 ],\n",
       "       [0.        , 0.01026034],\n",
       "       ...,\n",
       "       [0.        , 0.01242852],\n",
       "       [0.        , 0.01832712],\n",
       "       [0.        , 0.01422358]], dtype=float32)"
      ]
     },
     "execution_count": 68,
     "metadata": {},
     "output_type": "execute_result"
    }
   ],
   "source": [
    "dNN1_XX"
   ]
  },
  {
   "cell_type": "code",
   "execution_count": 12,
   "id": "5adb42f9",
   "metadata": {},
   "outputs": [],
   "source": []
  },
  {
   "cell_type": "code",
   "execution_count": 17,
   "id": "8acacfc5",
   "metadata": {},
   "outputs": [],
   "source": [
    "sk_d, sk_i = NN_X.kneighbors(xb[:1000], n_neighbors=k)"
   ]
  },
  {
   "cell_type": "code",
   "execution_count": 18,
   "id": "55e1bbe5",
   "metadata": {},
   "outputs": [
    {
     "data": {
      "text/plain": [
       "array([[  0, 393, 363,  78],\n",
       "       [  1, 555, 277, 364],\n",
       "       [  2, 304, 101,  13],\n",
       "       [  3, 173,  18, 182],\n",
       "       [  4, 288, 370, 531]])"
      ]
     },
     "execution_count": 18,
     "metadata": {},
     "output_type": "execute_result"
    }
   ],
   "source": [
    "sk_i[:5]"
   ]
  },
  {
   "cell_type": "code",
   "execution_count": 19,
   "id": "d9364b6b",
   "metadata": {},
   "outputs": [
    {
     "data": {
      "text/plain": [
       "array([[ 995,  819, 1670, 1169],\n",
       "       [ 996, 1980, 1234, 1255],\n",
       "       [ 997, 1535,  388, 1028],\n",
       "       [ 998,  693, 1335,  529],\n",
       "       [ 999,  894,  591, 1651]])"
      ]
     },
     "execution_count": 19,
     "metadata": {},
     "output_type": "execute_result"
    }
   ],
   "source": [
    "sk_i[-5:]"
   ]
  },
  {
   "cell_type": "code",
   "execution_count": null,
   "id": "ea2fb53f",
   "metadata": {},
   "outputs": [],
   "source": []
  }
 ],
 "metadata": {
  "kernelspec": {
   "display_name": "Python 3 (ipykernel)",
   "language": "python",
   "name": "python3"
  },
  "language_info": {
   "codemirror_mode": {
    "name": "ipython",
    "version": 3
   },
   "file_extension": ".py",
   "mimetype": "text/x-python",
   "name": "python",
   "nbconvert_exporter": "python",
   "pygments_lexer": "ipython3",
   "version": "3.9.7"
  }
 },
 "nbformat": 4,
 "nbformat_minor": 5
}
