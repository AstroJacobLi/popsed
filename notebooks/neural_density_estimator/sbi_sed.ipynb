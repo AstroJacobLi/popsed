{
 "cells": [
  {
   "cell_type": "markdown",
   "id": "39385e12",
   "metadata": {},
   "source": [
    "### In this notebook we apply `sbi` to the noise-free spectra"
   ]
  },
  {
   "cell_type": "code",
   "execution_count": 101,
   "id": "ba8c1658",
   "metadata": {},
   "outputs": [],
   "source": [
    "import torch\n",
    "from sbi import utils as utils\n",
    "from sbi import analysis as analysis\n",
    "from sbi.inference.base import infer\n",
    "from sbi.inference import prepare_for_sbi, SNPE, SNLE, simulate_for_sbi\n",
    "\n",
    "import matplotlib.pyplot as plt\n",
    "import numpy as np"
   ]
  },
  {
   "cell_type": "code",
   "execution_count": 102,
   "id": "3c769b19",
   "metadata": {},
   "outputs": [],
   "source": [
    "import os\n",
    "os.chdir('/scratch/gpfs/jiaxuanl/Data/popsed/')\n",
    "import sys\n",
    "sys.path.append('/home/jiaxuanl/Research/popsed/')\n",
    "from popsed.speculator import Speculator"
   ]
  },
  {
   "cell_type": "code",
   "execution_count": 103,
   "id": "dbf5996b",
   "metadata": {},
   "outputs": [],
   "source": [
    "import pickle"
   ]
  },
  {
   "cell_type": "code",
   "execution_count": 163,
   "id": "5f25e58b",
   "metadata": {},
   "outputs": [],
   "source": [
    "## Load the NN emulator `speculator`\n",
    "with open('./best_recon_err_model.pkl', 'rb') as f:\n",
    "    speculator = pickle.load(f)"
   ]
  },
  {
   "cell_type": "code",
   "execution_count": 164,
   "id": "c7542600",
   "metadata": {},
   "outputs": [],
   "source": [
    "def emulator(parameter_set):\n",
    "    return speculator.predict_spec(parameter_set)"
   ]
  },
  {
   "cell_type": "code",
   "execution_count": 165,
   "id": "7bb150fd",
   "metadata": {},
   "outputs": [],
   "source": [
    "# tage and tau\n",
    "lower_bounds = torch.tensor([0.1, -2])\n",
    "upper_bounds = torch.tensor([13.1, 2])\n",
    "prior = utils.BoxUniform(low=lower_bounds, high=upper_bounds)"
   ]
  },
  {
   "cell_type": "code",
   "execution_count": 136,
   "id": "9823f2f2",
   "metadata": {},
   "outputs": [
    {
     "data": {
      "application/vnd.jupyter.widget-view+json": {
       "model_id": "ca5f419371e14b59a39c9bdce507b81c",
       "version_major": 2,
       "version_minor": 0
      },
      "text/plain": [
       "Running 1000 simulations.:   0%|          | 0/1000 [00:00<?, ?it/s]"
      ]
     },
     "metadata": {},
     "output_type": "display_data"
    }
   ],
   "source": [
    "simulator, prior = prepare_for_sbi(emulator, prior)\n",
    "inference = SNPE(prior=prior, density_estimator='nsf')\n",
    "theta, x = simulate_for_sbi(simulator, proposal=prior, num_simulations=1000)"
   ]
  },
  {
   "cell_type": "code",
   "execution_count": 137,
   "id": "42282802",
   "metadata": {},
   "outputs": [],
   "source": [
    "inference = inference.append_simulations(theta, x)"
   ]
  },
  {
   "cell_type": "code",
   "execution_count": 138,
   "id": "c5721a5a",
   "metadata": {},
   "outputs": [
    {
     "name": "stdout",
     "output_type": "stream",
     "text": [
      "Neural network successfully converged after 70 epochs.\n"
     ]
    }
   ],
   "source": [
    "density_estimator = inference.train()"
   ]
  },
  {
   "cell_type": "code",
   "execution_count": 139,
   "id": "decb1d67",
   "metadata": {},
   "outputs": [],
   "source": [
    "posterior = inference.build_posterior(density_estimator)"
   ]
  },
  {
   "cell_type": "markdown",
   "id": "3c9d7eb6",
   "metadata": {},
   "source": [
    " In order to get the distribution of theta using an ensemble of spectra, the neural density estimator should estimate the posterior conditioned on an ensemble of spectra, not on a single spectrum. But I didn't figure out how to do this using `sbi`."
   ]
  },
  {
   "cell_type": "code",
   "execution_count": 166,
   "id": "30d12cf3",
   "metadata": {},
   "outputs": [],
   "source": [
    "## Test the NDE for a single spectrum, generally looks good"
   ]
  },
  {
   "cell_type": "code",
   "execution_count": 167,
   "id": "51f115b4",
   "metadata": {},
   "outputs": [],
   "source": [
    "flag = np.array([ True,  True,  True,  True,  True, False,  True,  True, False])\n",
    "zero_flag = (np.mean(np.load('./train_sed/log_spec_all.npy'), axis=1) < -30)\n",
    "log_spec_all = np.load('./train_sed/log_spec_all.npy')[~zero_flag]\n",
    "params = np.load('./train_sed/param_all.npy')[:, ~flag][~zero_flag]"
   ]
  },
  {
   "cell_type": "code",
   "execution_count": 168,
   "id": "5dc86d8f",
   "metadata": {},
   "outputs": [],
   "source": [
    "ind = 333\n",
    "x_o = log_spec_all[ind]"
   ]
  },
  {
   "cell_type": "code",
   "execution_count": 169,
   "id": "4accd15e",
   "metadata": {},
   "outputs": [
    {
     "data": {
      "application/vnd.jupyter.widget-view+json": {
       "model_id": "696a73eeeee54998be901fdad8572d07",
       "version_major": 2,
       "version_minor": 0
      },
      "text/plain": [
       "Drawing 10000 posterior samples:   0%|          | 0/10000 [00:00<?, ?it/s]"
      ]
     },
     "metadata": {},
     "output_type": "display_data"
    }
   ],
   "source": [
    "samples = posterior.sample((10000,), x=x_o).detach().numpy()"
   ]
  },
  {
   "cell_type": "code",
   "execution_count": 170,
   "id": "8173f8f5",
   "metadata": {},
   "outputs": [
    {
     "data": {
      "image/png": "[encoded data removed]",
      "text/plain": [
       "<Figure size 396x396 with 4 Axes>"
      ]
     },
     "metadata": {
      "needs_background": "light"
     },
     "output_type": "display_data"
    }
   ],
   "source": [
    "import corner\n",
    "\n",
    "figure = corner.corner(samples, quantiles=[0.16, 0.5, 0.84], labels=['tage', 'tau'],\n",
    "                       show_titles=True, title_kwargs={\"fontsize\": 12})\n",
    "\n",
    "corner.overplot_lines(figure, params[ind], color=\"C1\")\n",
    "corner.overplot_points(figure, params[ind][None], marker=\"s\", color=\"C1\")"
   ]
  },
  {
   "cell_type": "code",
   "execution_count": null,
   "id": "f962b80d",
   "metadata": {},
   "outputs": [],
   "source": []
  }
 ],
 "metadata": {
  "kernelspec": {
   "display_name": "Python 3 (ipykernel)",
   "language": "python",
   "name": "python3"
  },
  "language_info": {
   "codemirror_mode": {
    "name": "ipython",
    "version": 3
   },
   "file_extension": ".py",
   "mimetype": "text/x-python",
   "name": "python",
   "nbconvert_exporter": "python",
   "pygments_lexer": "ipython3",
   "version": "3.9.7"
  }
 },
 "nbformat": 4,
 "nbformat_minor": 5
}
