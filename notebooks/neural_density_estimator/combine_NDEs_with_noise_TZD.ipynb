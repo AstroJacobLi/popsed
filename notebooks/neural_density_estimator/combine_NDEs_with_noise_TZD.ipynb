{
 "cells": [
  {
   "cell_type": "code",
   "execution_count": 1,
   "id": "fba8fdbe",
   "metadata": {},
   "outputs": [],
   "source": [
    "%load_ext autoreload\n",
    "%autoreload 2"
   ]
  },
  {
   "cell_type": "code",
   "execution_count": null,
   "id": "2381931d",
   "metadata": {},
   "outputs": [],
   "source": [
    "import os, sys\n",
    "import pickle\n",
    "import corner\n",
    "import numpy as np\n",
    "from tqdm import trange\n",
    "import matplotlib.pyplot as plt\n",
    "\n",
    "import torch\n",
    "from torch import nn, Tensor, optim, FloatTensor\n",
    "\n",
    "os.chdir('/scratch/gpfs/jiaxuanl/Data/popsed/')\n",
    "sys.path.append('/home/jiaxuanl/Research/popsed/')\n",
    "from popsed.speculator import Speculator, StandardScaler"
   ]
  },
  {
   "cell_type": "code",
   "execution_count": null,
   "id": "261b707a",
   "metadata": {},
   "outputs": [],
   "source": [
    "## Load the NN emulator `speculator`\n",
    "with open('./speculator_best_recon_model_TZD.pkl', 'rb') as f:\n",
    "    speculator = pickle.load(f)\n",
    "\n",
    "speculator.params_name += ['logm', 'redshift']\n",
    "speculator._build_params_prior()\n",
    "speculator.bounds = np.array([speculator.prior[key] for key in speculator.params_name])\n",
    "# speculator.network.eval();\n",
    "\n",
    "noise = None # 'nsa'\n",
    "noise_model_dir = './noise_model/nsa_noise_model_mag.npy'"
   ]
  },
  {
   "cell_type": "code",
   "execution_count": null,
   "id": "ceac92a8",
   "metadata": {},
   "outputs": [],
   "source": [
    "def gen_truth(sfh_kwargs, logz_logm_kwargs, \n",
    "              dust2_kwargs, redshift_kwargs, \n",
    "              nsamples=5000, random_state=None):\n",
    "    from torch.distributions import MultivariateNormal\n",
    "    if random_state is not None:\n",
    "        torch.manual_seed(random_state)\n",
    "    y_sfh = MultivariateNormal(torch.Tensor(sfh_kwargs['loc']), \n",
    "                               covariance_matrix=torch.Tensor(sfh_kwargs['cov'])\n",
    "                              ).sample(sample_shape=(nsamples,))\n",
    "    \n",
    "    y_logz_logm = MultivariateNormal(torch.Tensor(logz_logm_kwargs['loc']), \n",
    "                                     torch.Tensor(logz_logm_kwargs['cov'])\n",
    "                                    ).sample(sample_shape=(nsamples // 2,))\n",
    "    y_logz_logm = torch.vstack([y_logz_logm, MultivariateNormal(torch.Tensor([-0.5, 8.5]), \n",
    "                             torch.Tensor(logz_logm_kwargs['cov']) * 0.5,\n",
    "                            ).sample(sample_shape=(nsamples // 2,))])\n",
    "\n",
    "    y_dust2 = torch.normal(mean=dust2_kwargs['mean'], std=dust2_kwargs['std'], size=(nsamples, 1))\n",
    "    y_redshift = torch.normal(mean=redshift_kwargs['mean'], std=redshift_kwargs['std'], size=(nsamples, 1))\n",
    "    \n",
    "    Y_truth = torch.hstack([y_sfh, y_logz_logm[:, 0:1], y_dust2, y_logz_logm[:, 1:], y_redshift]).to('cuda')\n",
    "    return Y_truth"
   ]
  },
  {
   "cell_type": "code",
   "execution_count": null,
   "id": "7b1b711e",
   "metadata": {},
   "outputs": [],
   "source": [
    "sfh_kwargs = {'loc': [6, 0], 'cov': [[1, 0], [0, 0.3]]}\n",
    "logz_logm_kwargs = {'loc': [-0.5, 10.5], \n",
    "                    'cov': [[0.3, 0.2], \n",
    "                            [0.4, 0.6]]}\n",
    "dust2_kwargs = {'mean': 1, 'std': 0.5}\n",
    "redshift_kwargs = {'mean': 0.15, 'std': 0.03}"
   ]
  },
  {
   "cell_type": "code",
   "execution_count": null,
   "id": "a7dd7e24",
   "metadata": {},
   "outputs": [],
   "source": [
    "Y_truth = gen_truth(sfh_kwargs, logz_logm_kwargs, \n",
    "                    dust2_kwargs, redshift_kwargs,\n",
    "                    nsamples=5000, random_state=None)"
   ]
  },
  {
   "cell_type": "code",
   "execution_count": null,
   "id": "659eb258",
   "metadata": {},
   "outputs": [],
   "source": [
    "# filters = ['galex_NUV'] + ['sdss_{0}0'.format(b) for b in 'ugriz'] + ['hsc_{0}'.format(b) for b in 'grizy']\n",
    "filters = ['galex_NUV'] + ['hsc_{0}'.format(b) for b in 'grizy'] + ['jwst_f090w', 'jwst_f115w', 'jwst_f140m']"
   ]
  },
  {
   "cell_type": "code",
   "execution_count": null,
   "id": "d86927cc",
   "metadata": {},
   "outputs": [],
   "source": [
    "X_data = speculator._predict_mag_with_mass_redshift(\n",
    "    Y_truth,\n",
    "    filterset=filters,\n",
    "    noise=noise, \n",
    "    noise_model_dir=noise_model_dir)\n",
    "flag = ~(torch.isnan(X_data).any(dim=1) | torch.isinf(X_data).any(dim=1))\n",
    "\n",
    "X_data = X_data[flag].detach()\n",
    "Y_truth = Y_truth[flag]\n",
    "\n",
    "figure = corner.corner(Y_truth.cpu().detach().numpy(),\n",
    "                       quantiles=[0.16, 0.5, 0.84], \n",
    "                       labels=['tage', 'log tau', 'log Z', 'dust2', 'log M*', 'redshift'],\n",
    "                       smooth=0.7,\n",
    "                       show_titles=True, \n",
    "                       title_kwargs={\"fontsize\": 12}, \n",
    "                       hist_kwargs={'density': True})"
   ]
  },
  {
   "cell_type": "code",
   "execution_count": null,
   "id": "f658f73d",
   "metadata": {},
   "outputs": [],
   "source": [
    "filelist = os.listdir('./nde_theta_TZD_multiband/')#[:6]\n",
    "filelist"
   ]
  },
  {
   "cell_type": "code",
   "execution_count": null,
   "id": "7c6f2a91",
   "metadata": {},
   "outputs": [],
   "source": [
    "# This is slow\n",
    "NDE_list = []\n",
    "for file in filelist:\n",
    "    try:\n",
    "        NDE_list.append(pickle.load(open('./nde_theta_TZD_multiband/' + file, 'rb')))\n",
    "    except Exception as e:\n",
    "        print(file, e)\n",
    "        continue"
   ]
  },
  {
   "cell_type": "code",
   "execution_count": null,
   "id": "b6d1ef75",
   "metadata": {},
   "outputs": [],
   "source": []
  },
  {
   "cell_type": "code",
   "execution_count": null,
   "id": "2feeb01b",
   "metadata": {},
   "outputs": [],
   "source": [
    "[plt.plot(NDE.train_loss_history) for NDE in NDE_list[:5] + NDE_list[-1:]]\n",
    "plt.yscale('log')"
   ]
  },
  {
   "cell_type": "code",
   "execution_count": null,
   "id": "e1f7c466",
   "metadata": {},
   "outputs": [],
   "source": [
    "samples = torch.dstack([NDE.sample(2000) for NDE in NDE_list[:5] + NDE_list[-1:]])"
   ]
  },
  {
   "cell_type": "code",
   "execution_count": null,
   "id": "130431e2",
   "metadata": {},
   "outputs": [],
   "source": [
    "import matplotlib.lines as mlines\n",
    "k_line = mlines.Line2D([], [], color='k', label='Params for mock obs with NSA noise model')\n",
    "b_line = mlines.Line2D([], [], color='steelblue', label=r'Recovered $P(\\theta)$ using NF')\n",
    "\n",
    "labels = ['tage', 'log tau', 'log Z', 'dust2', 'log M*', 'redshift']\n",
    "\n",
    "figure = corner.corner(Y_truth.cpu().detach().numpy(), \n",
    "                       color='dimgray', labels=labels, bins=30,\n",
    "                       smooth=0.8, fill_contours=True,\n",
    "                       show_titles=True, \n",
    "                       title_kwargs={\"fontsize\": 12}, \n",
    "                       hist_kwargs={'density': True, 'lw': 1.5}, \n",
    "                       plot_datapoints=False)\n",
    "\n",
    "nf_plot = corner.corner(samples.cpu().detach().numpy(), \n",
    "                        fig=figure, labels=labels, bins=30,\n",
    "                        color='dodgerblue',\n",
    "                        smooth=0.8, fill_contours=True,\n",
    "                        show_titles=True, title_kwargs={\"fontsize\": 12}, \n",
    "                        hist_kwargs={'density': True, 'lw': 1.5}, \n",
    "                        plot_datapoints=False)\n",
    "ax = nf_plot.get_axes()[2]\n",
    "ax.legend(handles=[k_line, b_line], fontsize=11.5, bbox_to_anchor=(0., 1.0, 1.3, .0))"
   ]
  },
  {
   "cell_type": "raw",
   "id": "480cba17",
   "metadata": {
    "scrolled": false
   },
   "source": [
    "from geomloss import SamplesLoss\n",
    "\n",
    "samples = torch.vstack([NDE.sample(2000) for NDE in NDE_list])\n",
    "L = SamplesLoss(loss=\"sinkhorn\", p=2, blur=0.001, scaling=0.95) # very close to Wasserstein loss\n",
    "np.log10(L(Y_truth, samples).item()) # The distance in theta space"
   ]
  },
  {
   "cell_type": "code",
   "execution_count": 37,
   "id": "75c7fff9",
   "metadata": {},
   "outputs": [
    {
     "data": {
      "text/plain": [
       "-0.9776024742334073"
      ]
     },
     "execution_count": 37,
     "metadata": {},
     "output_type": "execute_result"
    }
   ],
   "source": [
    "np.log10(L(X_data, torch.Tensor(mags).to('cuda')).item()) # The distance in theta space"
   ]
  },
  {
   "cell_type": "code",
   "execution_count": 45,
   "id": "292db753",
   "metadata": {},
   "outputs": [],
   "source": [
    "NDE_theta = NDE_list[0]"
   ]
  },
  {
   "cell_type": "code",
   "execution_count": 37,
   "id": "1a654977",
   "metadata": {},
   "outputs": [
    {
     "data": {
      "text/plain": [
       "torch.Size([14000, 6])"
      ]
     },
     "execution_count": 37,
     "metadata": {},
     "output_type": "execute_result"
    }
   ],
   "source": [
    "samples.swapaxes(0, 1).reshape(6, -1).T.shape"
   ]
  },
  {
   "cell_type": "code",
   "execution_count": null,
   "id": "f49cccb7",
   "metadata": {},
   "outputs": [],
   "source": []
  },
  {
   "cell_type": "code",
   "execution_count": null,
   "id": "fed25919",
   "metadata": {},
   "outputs": [],
   "source": [
    "import matplotlib.lines as mlines\n",
    "k_line = mlines.Line2D([], [], color='k', label='Data')\n",
    "b_line = mlines.Line2D([], [], color='dodgerblue', label=r'$P(\\theta)$ sample + forward model')\n",
    "\n",
    "labels = filters\n",
    "\n",
    "figure = corner.corner(X_data.cpu().detach().numpy(), \n",
    "                       color='k', labels=labels, bins=25,\n",
    "                       #quantiles=[0.16, 0.5, 0.84], \n",
    "                       smooth=0.7, fill_contours=True,\n",
    "                       show_titles=True, \n",
    "                       hist_kwargs={'density': True, 'lw': 1.}, \n",
    "                       title_kwargs={\"fontsize\": 12},\n",
    "                       plot_datapoints=True)\n",
    "\n",
    "mags = speculator._predict_mag_with_mass_redshift(samples.swapaxes(0, 1).reshape(6, -1).T,\n",
    "                                                  filterset=filters,\n",
    "                                                  noise=noise,\n",
    "                                                  noise_model_dir=noise_model_dir,\n",
    "                                                  ).cpu().detach().numpy()\n",
    "print(np.isnan(mags).any(axis=1).sum(), len(mags))\n",
    "mags = mags[~(np.isinf(mags).any(axis=1)| np.isnan(mags).any(axis=1))]\n",
    "\n",
    "nf_plot = corner.corner(mags,\n",
    "                  fig=figure, labels=labels, bins=25,\n",
    "                  color='dodgerblue', #quantiles=[0.16, 0.5, 0.84], \n",
    "                  smooth=0.7, fill_contours=True,\n",
    "                  show_titles=False, title_kwargs={\"fontsize\": 12},\n",
    "                        hist_kwargs={'density': True, 'lw': 1.}, \n",
    "                        plot_datapoints=True)\n",
    "\n",
    "ax = nf_plot.get_axes()[4]\n",
    "ax.legend(handles=[k_line, b_line], fontsize=15)#, bbox_to_anchor=(0., 1.0, 1., .0))"
   ]
  },
  {
   "cell_type": "code",
   "execution_count": null,
   "id": "4939c409",
   "metadata": {},
   "outputs": [],
   "source": []
  }
 ],
 "metadata": {
  "kernelspec": {
   "display_name": "Python 3 (ipykernel)",
   "language": "python",
   "name": "python3"
  },
  "language_info": {
   "codemirror_mode": {
    "name": "ipython",
    "version": 3
   },
   "file_extension": ".py",
   "mimetype": "text/x-python",
   "name": "python",
   "nbconvert_exporter": "python",
   "pygments_lexer": "ipython3",
   "version": "3.9.7"
  }
 },
 "nbformat": 4,
 "nbformat_minor": 5
}
