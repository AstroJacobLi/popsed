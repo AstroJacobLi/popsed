{
 "cells": [
  {
   "cell_type": "markdown",
   "id": "5b8f519b",
   "metadata": {},
   "source": [
    "## `Speculator`: tau, Z, Dust\n",
    "\n",
    "`speculator` takes physical parameters and predict PCA coeffs, spectra, and also magnitudes. \n",
    "\n",
    "This notebook takes code from `speculator`: https://github.com/justinalsing/speculator`"
   ]
  },
  {
   "cell_type": "code",
   "execution_count": 1,
   "id": "3a6235fc",
   "metadata": {},
   "outputs": [],
   "source": [
    "%load_ext autoreload\n",
    "%autoreload 2"
   ]
  },
  {
   "cell_type": "code",
   "execution_count": 2,
   "id": "f79efe5c",
   "metadata": {},
   "outputs": [],
   "source": [
    "import numpy as np\n",
    "import pickle\n",
    "import matplotlib.pyplot as plt\n",
    "import astropy.units as u\n",
    "# import kuaizi\n",
    "import torch\n",
    "from torch import Tensor"
   ]
  },
  {
   "cell_type": "code",
   "execution_count": 3,
   "id": "bad507ea",
   "metadata": {},
   "outputs": [],
   "source": [
    "import os\n",
    "os.chdir('/scratch/gpfs/jiaxuanl/Data/popsed/')"
   ]
  },
  {
   "cell_type": "code",
   "execution_count": 4,
   "id": "2900e9c2",
   "metadata": {},
   "outputs": [],
   "source": [
    "# kuaizi.set_matplotlib(style='nature', usetex=False)\n",
    "# kuaizi.set_env(project='popsed', name='', data_dir='/scratch/gpfs/jiaxuanl/Data')"
   ]
  },
  {
   "cell_type": "code",
   "execution_count": 5,
   "id": "6dcef5e1",
   "metadata": {},
   "outputs": [],
   "source": [
    "import sys\n",
    "sys.path.append('/home/jiaxuanl/Research/popsed/')\n",
    "from popsed.speculator import Speculator, interp_nan"
   ]
  },
  {
   "cell_type": "code",
   "execution_count": 6,
   "id": "281fcdfc",
   "metadata": {},
   "outputs": [],
   "source": [
    "params = np.concatenate([np.load(f'./train_sed/fsps.TZD.v0.1.theta.seed{i+1}.npy')\n",
    "                         for i in range(5)])\n",
    "params[:, 1] = np.log10(params[:, 1]) # tau to log(tau)\n",
    "params = params[:, :4] # exclude stellar mass (1 M_\\dot) and redshift (z=0.0)"
   ]
  },
  {
   "cell_type": "code",
   "execution_count": 7,
   "id": "4b5056bc",
   "metadata": {},
   "outputs": [],
   "source": [
    "log_spec = np.concatenate([np.load(f'./train_sed/fsps.TZD.v0.1.log10spectrum.seed{i+1}.npy')\n",
    "                           for i in range(5)])\n",
    "log_spec = interp_nan(log_spec)[:, 500:]\n",
    "# Very large... and slow"
   ]
  },
  {
   "cell_type": "code",
   "execution_count": 8,
   "id": "f603196a",
   "metadata": {},
   "outputs": [],
   "source": [
    "zero_flag = (np.mean(log_spec, axis=1) < -30)\n",
    "\n",
    "log_spec = log_spec[~zero_flag]\n",
    "params = params[~zero_flag]\n",
    "pca_coeff = np.load('./train_sed/fsps.pca_coeffs.npy')[~zero_flag]\n",
    "# # This zero_flag is SUPER IMPORTANT!!!"
   ]
  },
  {
   "cell_type": "code",
   "execution_count": 9,
   "id": "6196aec9",
   "metadata": {},
   "outputs": [
    {
     "data": {
      "text/plain": [
       "(49522, 50)"
      ]
     },
     "execution_count": 9,
     "metadata": {},
     "output_type": "execute_result"
    }
   ],
   "source": [
    "pca_coeff.shape"
   ]
  },
  {
   "cell_type": "markdown",
   "id": "db1103d0",
   "metadata": {},
   "source": [
    "`params: tage, log tau, logzsol, dust2`"
   ]
  },
  {
   "cell_type": "code",
   "execution_count": 10,
   "id": "1901ee44",
   "metadata": {},
   "outputs": [],
   "source": [
    "dlambda_spec = 2\n",
    "wave_lo = 2000 # 1000\n",
    "wave_hi = 15000\n",
    "wavelengths = np.arange(wave_lo, wave_hi, dlambda_spec)"
   ]
  },
  {
   "cell_type": "code",
   "execution_count": 11,
   "id": "11e8c549",
   "metadata": {},
   "outputs": [],
   "source": [
    "speculator = Speculator(name='TZD', n_parameters=4,\n",
    "                        pca_filename='./train_sed/fsps_pca_trained_TZD.pkl', \n",
    "                        hidden_size=[128, 256, 256, 256])"
   ]
  },
  {
   "cell_type": "code",
   "execution_count": 12,
   "id": "9cd6f67a",
   "metadata": {},
   "outputs": [],
   "source": [
    "speculator.load_data(pca_coeff, params, \n",
    "                     params_name=['tage', 'logtau', 'logzsol', 'dust2'],\n",
    "                     val_frac=0.1, batch_size=256, \n",
    "                     wave_rest=torch.arange(wave_lo, wave_hi, dlambda_spec), \n",
    "                     wave_obs=torch.arange(wave_lo, wave_hi, dlambda_spec))\n",
    "\n",
    "train_ind = speculator.dataloaders['train'].dataset.indices\n",
    "val_ind = speculator.dataloaders['val'].dataset.indices"
   ]
  },
  {
   "cell_type": "raw",
   "id": "b9ad6365",
   "metadata": {},
   "source": [
    "#ind = np.random.randint(0, high=1600, size=10)\n",
    "plt.plot((pca_coeff[180]), label='Before normalization');\n",
    "plt.plot((pca_coeff[180] - speculator.pca_shift) / speculator.pca_scale, label='After normalization');\n",
    "\n",
    "plt.xlabel('PCA index')\n",
    "plt.ylabel('PCA coefficients')\n",
    "plt.legend()"
   ]
  },
  {
   "cell_type": "raw",
   "id": "9be49ba0",
   "metadata": {},
   "source": [
    "max_epochs = 500\n",
    "speculator.train(n_epochs=max_epochs, scheduler=torch.optim.lr_scheduler.OneCycleLR, \n",
    "                 scheduler_args={'max_lr': 1e-3, \n",
    "                                 'steps_per_epoch': len(speculator.dataloaders['train']), \n",
    "                                 'epochs': max_epochs})"
   ]
  },
  {
   "cell_type": "raw",
   "id": "977d13d7",
   "metadata": {},
   "source": [
    "max_epochs = 10\n",
    "lambda1 = lambda epoch: 0.65 ** epoch\n",
    "\n",
    "speculator.train(n_epochs=max_epochs, scheduler=torch.optim.lr_scheduler.LambdaLR, \n",
    "                 scheduler_args={'lr_lambda': lambda1})"
   ]
  },
  {
   "cell_type": "raw",
   "id": "be5fbc31",
   "metadata": {},
   "source": [
    "max_epochs = 100\n",
    "for i in range(5):\n",
    "    speculator.train(n_epochs=max_epochs, use_scheduler=True, \n",
    "                     scheduler_args={'max_lr': 3e-2, \n",
    "                                     'steps_per_epoch': len(speculator.dataloaders['train']), \n",
    "                                     'epochs': max_epochs})"
   ]
  },
  {
   "cell_type": "code",
   "execution_count": 14,
   "id": "d83777de",
   "metadata": {},
   "outputs": [
    {
     "name": "stderr",
     "output_type": "stream",
     "text": [
      "Loss = 0.00007 (train): 100%|█████████████████████████████████████████████████████████| 200/200 [04:27<00:00,  1.34s/epochs]\n"
     ]
    },
    {
     "name": "stdout",
     "output_type": "stream",
     "text": [
      "Epoch: 202 - val Train Loss: 0.0001\n",
      "Epoch: 202 - val Vali Loss: 0.0006\n",
      "Recon error: tensor(0.0054, device='cuda:0', grad_fn=<NanmedianBackward0>)\n"
     ]
    },
    {
     "name": "stderr",
     "output_type": "stream",
     "text": [
      "Loss = 0.00004 (train): 100%|█████████████████████████████████████████████████████████| 200/200 [04:22<00:00,  1.31s/epochs]\n"
     ]
    },
    {
     "name": "stdout",
     "output_type": "stream",
     "text": [
      "Epoch: 402 - val Train Loss: 0.0000\n",
      "Epoch: 402 - val Vali Loss: 0.0003\n",
      "Recon error: tensor(0.0037, device='cuda:0', grad_fn=<NanmedianBackward0>)\n"
     ]
    },
    {
     "name": "stderr",
     "output_type": "stream",
     "text": [
      "Loss = 0.00002 (train): 100%|█████████████████████████████████████████████████████████| 100/100 [02:10<00:00,  1.30s/epochs]"
     ]
    },
    {
     "name": "stdout",
     "output_type": "stream",
     "text": [
      "Epoch: 502 - val Train Loss: 0.0000\n",
      "Epoch: 502 - val Vali Loss: 0.0002\n",
      "Recon error: tensor(0.0022, device='cuda:0', grad_fn=<NanmedianBackward0>)\n",
      "CPU times: user 10min 39s, sys: 9.41 s, total: 10min 48s\n",
      "Wall time: 11min\n"
     ]
    },
    {
     "name": "stderr",
     "output_type": "stream",
     "text": [
      "\n"
     ]
    }
   ],
   "source": [
    "%%time\n",
    "n_ep = [200, 200, 100] # 500\n",
    "for i, lr in enumerate([2e-3, 1e-3, 8e-4]): # 3e-4\n",
    "    speculator.train(learning_rate=lr, n_epochs=n_ep[i])"
   ]
  },
  {
   "cell_type": "code",
   "execution_count": 24,
   "id": "fb4e29b4",
   "metadata": {},
   "outputs": [
    {
     "name": "stderr",
     "output_type": "stream",
     "text": [
      "Loss = 0.00004 (train): 100%|███████████████████████████████████████| 50/50 [00:52<00:00,  1.05s/epochs]"
     ]
    },
    {
     "name": "stdout",
     "output_type": "stream",
     "text": [
      "Epoch: 550 - val Train Loss: 0.0000\n",
      "Epoch: 550 - val Vali Loss: 0.0003\n",
      "Recon error: tensor(0.0024, device='cuda:0', grad_fn=<NanmedianBackward0>)\n"
     ]
    },
    {
     "name": "stderr",
     "output_type": "stream",
     "text": [
      "\n"
     ]
    }
   ],
   "source": [
    "speculator.train(learning_rate=1e-3, n_epochs=50)"
   ]
  },
  {
   "cell_type": "code",
   "execution_count": 98,
   "id": "cccd21e0",
   "metadata": {
    "scrolled": true
   },
   "outputs": [],
   "source": [
    "# %%time\n",
    "# # n_ep = [100, 100, 150, 500, 500]\n",
    "# # for i, lr in enumerate([2e-3, 1e-3, 5e-4, 3e-4, 1e-4]):\n",
    "# n_ep = [200, 200, 200, 200, 200]\n",
    "# for i, lr in enumerate([2e-3, 1e-3, 5e-4, 3e-4, 2e-4]):\n",
    "#     speculator.train(learning_rate=lr, n_epochs=n_ep[i])"
   ]
  },
  {
   "cell_type": "code",
   "execution_count": 15,
   "id": "40d10e86",
   "metadata": {},
   "outputs": [
    {
     "data": {
      "text/plain": [
       "424"
      ]
     },
     "execution_count": 15,
     "metadata": {},
     "output_type": "execute_result"
    }
   ],
   "source": [
    "speculator.best_recon_err_epoch"
   ]
  },
  {
   "cell_type": "code",
   "execution_count": 16,
   "id": "81bd4a30",
   "metadata": {},
   "outputs": [
    {
     "data": {
      "text/plain": [
       "476"
      ]
     },
     "execution_count": 16,
     "metadata": {},
     "output_type": "execute_result"
    }
   ],
   "source": [
    "speculator.best_loss_epoch"
   ]
  },
  {
   "cell_type": "code",
   "execution_count": 17,
   "id": "2153dcd0",
   "metadata": {},
   "outputs": [
    {
     "data": {
      "image/png": "[encoded data removed]",
      "text/plain": [
       "<Figure size 432x288 with 1 Axes>"
      ]
     },
     "metadata": {
      "needs_background": "light"
     },
     "output_type": "display_data"
    }
   ],
   "source": [
    "speculator.plot_loss()"
   ]
  },
  {
   "cell_type": "code",
   "execution_count": 30,
   "id": "da441222",
   "metadata": {},
   "outputs": [],
   "source": [
    "## Load the NN emulator `speculator`\n",
    "with open('./speculator_best_recon_model_TZD.pkl', 'rb') as f:\n",
    "    speculator = pickle.load(f)"
   ]
  },
  {
   "cell_type": "raw",
   "id": "da4454bb",
   "metadata": {},
   "source": [
    "## Load the NN emulator `speculator`\n",
    "with open('./speculator_best_recon_model.pkl', 'rb') as f:\n",
    "    speculator = pickle.load(f)"
   ]
  },
  {
   "cell_type": "code",
   "execution_count": 31,
   "id": "50f62d0e",
   "metadata": {},
   "outputs": [],
   "source": [
    "_specs = speculator.predict_spec(torch.Tensor(params[val_ind]).to('cuda')).cpu().detach().numpy()"
   ]
  },
  {
   "cell_type": "code",
   "execution_count": 32,
   "id": "80927187",
   "metadata": {},
   "outputs": [
    {
     "data": {
      "text/plain": [
       "[<matplotlib.lines.Line2D at 0x2ab7ae75d0a0>]"
      ]
     },
     "execution_count": 32,
     "metadata": {},
     "output_type": "execute_result"
    },
    {
     "data": {
      "image/png": "[encoded data removed]",
      "text/plain": [
       "<Figure size 432x288 with 1 Axes>"
      ]
     },
     "metadata": {
      "needs_background": "light"
     },
     "output_type": "display_data"
    }
   ],
   "source": [
    "plt.plot(np.log10(_specs)[3019])\n",
    "plt.plot(log_spec[val_ind][3019])"
   ]
  },
  {
   "cell_type": "code",
   "execution_count": 33,
   "id": "b88e6857",
   "metadata": {},
   "outputs": [
    {
     "data": {
      "text/plain": [
       "[<matplotlib.lines.Line2D at 0x2ab7a6b7f820>]"
      ]
     },
     "execution_count": 33,
     "metadata": {},
     "output_type": "execute_result"
    },
    {
     "data": {
      "image/png": "[encoded data removed]",
      "text/plain": [
       "<Figure size 432x288 with 1 Axes>"
      ]
     },
     "metadata": {
      "needs_background": "light"
     },
     "output_type": "display_data"
    }
   ],
   "source": [
    "plt.plot(np.nanmedian(np.log10(_specs) - log_spec[val_ind], axis=0))"
   ]
  },
  {
   "cell_type": "code",
   "execution_count": 34,
   "id": "f9920e05",
   "metadata": {},
   "outputs": [],
   "source": [
    "diff = (10**log_spec[val_ind] - _specs) / 10**log_spec[val_ind] * 100"
   ]
  },
  {
   "cell_type": "code",
   "execution_count": 35,
   "id": "e25d3a02",
   "metadata": {},
   "outputs": [],
   "source": [
    "from scipy.stats import norm"
   ]
  },
  {
   "cell_type": "code",
   "execution_count": 36,
   "id": "6868f5fc",
   "metadata": {},
   "outputs": [
    {
     "data": {
      "text/plain": [
       "(array([ 210,  383,  511,  854,  939, 1198, 1209, 1380, 1683, 1919, 1979,\n",
       "        1997, 2151, 2399, 2401, 2516, 2529, 2729, 2796, 2900, 3143, 3330,\n",
       "        3454, 3484, 3571, 3655, 3711, 3789, 3909, 4006, 4024, 4827]),)"
      ]
     },
     "execution_count": 36,
     "metadata": {},
     "output_type": "execute_result"
    }
   ],
   "source": [
    "np.where(np.nanmean(diff, axis=1) > 5)"
   ]
  },
  {
   "cell_type": "code",
   "execution_count": 37,
   "id": "c67f2196",
   "metadata": {},
   "outputs": [
    {
     "data": {
      "text/plain": [
       "(200.0, 1100.0)"
      ]
     },
     "execution_count": 37,
     "metadata": {},
     "output_type": "execute_result"
    },
    {
     "data": {
      "image/png": "[encoded data removed]",
      "text/plain": [
       "<Figure size 432x288 with 1 Axes>"
      ]
     },
     "metadata": {
      "needs_background": "light"
     },
     "output_type": "display_data"
    }
   ],
   "source": [
    "x = wavelengths / 10\n",
    "plt.plot(x, np.nanmedian(diff, axis=0), color='r', label='Median')\n",
    "plt.fill_between(x, \n",
    "                 np.nanpercentile(diff, (1 - norm.cdf(1)) * 100, axis=0), \n",
    "                 np.nanpercentile(diff, norm.cdf(1) * 100, axis=0), alpha=0.5, color='tomato', label=r'$1\\sigma$')\n",
    "\n",
    "plt.fill_between(x, \n",
    "                 np.nanpercentile(diff, (1 - norm.cdf(2)) * 100, axis=0), \n",
    "                 np.nanpercentile(diff, norm.cdf(2) * 100, axis=0), alpha=0.2, color='salmon', label=r'$2\\sigma$')\n",
    "\n",
    "#plt.ylim(-0.008, 0.008)\n",
    "\n",
    "plt.ylabel(r'% fractional error $(l_{\\lambda}^{\\mathrm{NN}} - l_{\\lambda})/l_{\\lambda}$')\n",
    "plt.xlabel('Wavelength [nm]')\n",
    "\n",
    "plt.hlines(0, 200, 1100, ls='--', color='k')\n",
    "plt.legend()\n",
    "\n",
    "plt.xlim(200, 1100)"
   ]
  },
  {
   "cell_type": "code",
   "execution_count": null,
   "id": "85f88c66",
   "metadata": {},
   "outputs": [],
   "source": []
  },
  {
   "cell_type": "code",
   "execution_count": null,
   "id": "4ad10c83",
   "metadata": {},
   "outputs": [],
   "source": []
  }
 ],
 "metadata": {
  "kernelspec": {
   "display_name": "Python 3 (ipykernel)",
   "language": "python",
   "name": "python3"
  },
  "language_info": {
   "codemirror_mode": {
    "name": "ipython",
    "version": 3
   },
   "file_extension": ".py",
   "mimetype": "text/x-python",
   "name": "python",
   "nbconvert_exporter": "python",
   "pygments_lexer": "ipython3",
   "version": "3.9.7"
  }
 },
 "nbformat": 4,
 "nbformat_minor": 5
}
