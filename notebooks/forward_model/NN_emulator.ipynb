{
 "cells": [
  {
   "cell_type": "markdown",
   "id": "5b8f519b",
   "metadata": {},
   "source": [
    "### This notebook takes code from `speculator`: https://github.com/justinalsing/speculator`"
   ]
  },
  {
   "cell_type": "code",
   "execution_count": 41,
   "id": "3a6235fc",
   "metadata": {},
   "outputs": [
    {
     "name": "stdout",
     "output_type": "stream",
     "text": [
      "The autoreload extension is already loaded. To reload it, use:\n",
      "  %reload_ext autoreload\n"
     ]
    }
   ],
   "source": [
    "%load_ext autoreload\n",
    "%autoreload 2"
   ]
  },
  {
   "cell_type": "code",
   "execution_count": 42,
   "id": "f79efe5c",
   "metadata": {},
   "outputs": [],
   "source": [
    "import numpy as np\n",
    "import pickle\n",
    "import matplotlib.pyplot as plt\n",
    "import astropy.units as u\n",
    "import kuaizi\n",
    "import torch"
   ]
  },
  {
   "cell_type": "code",
   "execution_count": 43,
   "id": "2900e9c2",
   "metadata": {},
   "outputs": [
    {
     "data": {
      "text/plain": [
       "'/scratch/gpfs/jiaxuanl/Data/popsed/'"
      ]
     },
     "execution_count": 43,
     "metadata": {},
     "output_type": "execute_result"
    }
   ],
   "source": [
    "kuaizi.set_matplotlib(style='nature', usetex=False)\n",
    "kuaizi.set_env(project='popsed', name='', data_dir='/scratch/gpfs/jiaxuanl/Data')"
   ]
  },
  {
   "cell_type": "code",
   "execution_count": 44,
   "id": "6dcef5e1",
   "metadata": {},
   "outputs": [],
   "source": [
    "import sys\n",
    "sys.path.append('/home/jiaxuanl/Research/popsed/')\n",
    "from popsed.speculator import Speculator"
   ]
  },
  {
   "cell_type": "code",
   "execution_count": null,
   "id": "2891e3ff",
   "metadata": {},
   "outputs": [],
   "source": []
  },
  {
   "cell_type": "code",
   "execution_count": 48,
   "id": "11e8c549",
   "metadata": {},
   "outputs": [],
   "source": [
    "speculator = Speculator(n_parameters=2,\n",
    "                        pca_filename='./train_sed/pca_trained.pkl', \n",
    "                        hidden_size=[256, 256, 256])"
   ]
  },
  {
   "cell_type": "code",
   "execution_count": 49,
   "id": "f603196a",
   "metadata": {},
   "outputs": [],
   "source": [
    "flag = np.array([ True,  True,  True,  True,  True, False,  True,  True, False])\n",
    "zero_flag = (np.mean(np.load('./train_sed/log_spec_all.npy'), axis=1) < -30)\n",
    "\n",
    "log_spec_all = np.load('./train_sed/log_spec_all.npy')[~zero_flag]\n",
    "pca_coeff = np.load('./train_sed/pca_coeffs.npy')[~zero_flag]\n",
    "params = np.load('./train_sed/param_all.npy')[:, ~flag][~zero_flag]"
   ]
  },
  {
   "cell_type": "code",
   "execution_count": 52,
   "id": "9cd6f67a",
   "metadata": {},
   "outputs": [],
   "source": [
    "speculator.load_data(pca_coeff, params, val_frac=0.1, batch_size=128)\n",
    "train_ind = speculator.dataloaders['train'].dataset.indices\n",
    "val_ind = speculator.dataloaders['val'].dataset.indices"
   ]
  },
  {
   "cell_type": "raw",
   "id": "93a1587c",
   "metadata": {},
   "source": [
    "#ind = np.random.randint(0, high=1600, size=10)\n",
    "plt.plot((pca_coeff[180]), label='Before normalization');\n",
    "plt.plot((pca_coeff[180] - speculator.pca_shift) / speculator.pca_scale, label='After normalization');\n",
    "\n",
    "plt.xlabel('PCA index')\n",
    "plt.ylabel('PCA coefficients')\n",
    "plt.legend()"
   ]
  },
  {
   "cell_type": "code",
   "execution_count": null,
   "id": "61bc9231",
   "metadata": {},
   "outputs": [],
   "source": []
  },
  {
   "cell_type": "code",
   "execution_count": 53,
   "id": "bc8de9e3",
   "metadata": {},
   "outputs": [
    {
     "name": "stdout",
     "output_type": "stream",
     "text": [
      "Epoch: 0 - train Loss: 0.0083\n",
      "Epoch: 0 - val Loss: 0.0807\n",
      "Epoch: 100 - train Loss: 0.0012\n",
      "Epoch: 100 - val Loss: 0.0117\n",
      "Epoch: 0 - train Loss: 0.0008\n",
      "Epoch: 0 - val Loss: 0.0078\n",
      "Epoch: 0 - train Loss: 0.0003\n",
      "Epoch: 0 - val Loss: 0.0033\n",
      "Epoch: 100 - train Loss: 0.0001\n",
      "Epoch: 100 - val Loss: 0.0013\n",
      "Epoch: 0 - train Loss: 0.0002\n",
      "Epoch: 0 - val Loss: 0.0022\n",
      "Epoch: 100 - train Loss: 0.0001\n",
      "Epoch: 100 - val Loss: 0.0008\n",
      "Epoch: 200 - train Loss: 0.0001\n",
      "Epoch: 200 - val Loss: 0.0008\n",
      "Epoch: 300 - train Loss: 0.0001\n",
      "Epoch: 300 - val Loss: 0.0007\n",
      "Epoch: 400 - train Loss: 0.0001\n",
      "Epoch: 400 - val Loss: 0.0007\n",
      "CPU times: user 53.5 s, sys: 5.41 s, total: 58.9 s\n",
      "Wall time: 1min 3s\n"
     ]
    }
   ],
   "source": [
    "%%time\n",
    "n_ep = [200, 100, 150, 500]\n",
    "for i, lr in enumerate([2e-3, 1e-3, 5e-4, 3e-4]):\n",
    "    speculator.train(learning_rate=lr, n_epochs=n_ep[i])"
   ]
  },
  {
   "cell_type": "code",
   "execution_count": 150,
   "id": "cccd21e0",
   "metadata": {
    "scrolled": true
   },
   "outputs": [],
   "source": [
    "# %%time\n",
    "# # n_ep = [100, 100, 150, 500, 500]\n",
    "# # for i, lr in enumerate([2e-3, 1e-3, 5e-4, 3e-4, 1e-4]):\n",
    "# n_ep = [200, 200, 200, 200, 200]\n",
    "# for i, lr in enumerate([2e-3, 1e-3, 5e-4, 3e-4, 2e-4]):\n",
    "#     speculator.train(learning_rate=lr, n_epochs=n_ep[i])"
   ]
  },
  {
   "cell_type": "code",
   "execution_count": 54,
   "id": "40d10e86",
   "metadata": {},
   "outputs": [
    {
     "data": {
      "text/plain": [
       "498"
      ]
     },
     "execution_count": 54,
     "metadata": {},
     "output_type": "execute_result"
    }
   ],
   "source": [
    "speculator.best_recon_err_epoch"
   ]
  },
  {
   "cell_type": "code",
   "execution_count": 55,
   "id": "81bd4a30",
   "metadata": {},
   "outputs": [
    {
     "data": {
      "text/plain": [
       "492"
      ]
     },
     "execution_count": 55,
     "metadata": {},
     "output_type": "execute_result"
    }
   ],
   "source": [
    "speculator.best_loss_epoch"
   ]
  },
  {
   "cell_type": "code",
   "execution_count": 56,
   "id": "2153dcd0",
   "metadata": {},
   "outputs": [
    {
     "data": {
      "image/png": "[encoded data removed]",
      "text/plain": [
       "<Figure size 360x300 with 1 Axes>"
      ]
     },
     "metadata": {
      "needs_background": "light"
     },
     "output_type": "display_data"
    }
   ],
   "source": [
    "speculator.plot_loss()"
   ]
  },
  {
   "cell_type": "code",
   "execution_count": null,
   "id": "78c6a6ee",
   "metadata": {},
   "outputs": [],
   "source": []
  },
  {
   "cell_type": "code",
   "execution_count": 70,
   "id": "da441222",
   "metadata": {},
   "outputs": [],
   "source": [
    "## Load the NN emulator `speculator`\n",
    "with open('./best_recon_err_model.pkl', 'rb') as f:\n",
    "    speculator = pickle.load(f)"
   ]
  },
  {
   "cell_type": "code",
   "execution_count": 71,
   "id": "50f62d0e",
   "metadata": {},
   "outputs": [],
   "source": [
    "_specs = speculator.predict_spec(params).cpu().detach().numpy()"
   ]
  },
  {
   "cell_type": "code",
   "execution_count": 72,
   "id": "b88e6857",
   "metadata": {},
   "outputs": [
    {
     "data": {
      "text/plain": [
       "[<matplotlib.lines.Line2D at 0x2b59bfed85b0>]"
      ]
     },
     "execution_count": 72,
     "metadata": {},
     "output_type": "execute_result"
    },
    {
     "data": {
      "image/png": "[encoded data removed]",
      "text/plain": [
       "<Figure size 360x300 with 1 Axes>"
      ]
     },
     "metadata": {
      "needs_background": "light"
     },
     "output_type": "display_data"
    }
   ],
   "source": [
    "plt.plot(np.median(_specs - log_spec_all, axis=0))"
   ]
  },
  {
   "cell_type": "code",
   "execution_count": 73,
   "id": "f9920e05",
   "metadata": {},
   "outputs": [],
   "source": [
    "diff = (10**log_spec_all - 10**_specs) / 10**log_spec_all * 100\n",
    "diff = diff[val_ind]"
   ]
  },
  {
   "cell_type": "code",
   "execution_count": 74,
   "id": "e25d3a02",
   "metadata": {},
   "outputs": [],
   "source": [
    "from scipy.stats import norm"
   ]
  },
  {
   "cell_type": "code",
   "execution_count": 75,
   "id": "1ab6a933",
   "metadata": {},
   "outputs": [
    {
     "data": {
      "text/plain": [
       "(380.0, 700.0)"
      ]
     },
     "execution_count": 75,
     "metadata": {},
     "output_type": "execute_result"
    },
    {
     "data": {
      "image/png": "[encoded data removed]",
      "text/plain": [
       "<Figure size 360x300 with 1 Axes>"
      ]
     },
     "metadata": {
      "needs_background": "light"
     },
     "output_type": "display_data"
    }
   ],
   "source": [
    "x = np.arange(3000, 11000, 2) / 10\n",
    "plt.plot(x, np.median(diff, axis=0), color='r', label='Median')\n",
    "plt.fill_between(x, \n",
    "                 np.percentile(diff, (1 - norm.cdf(1)) * 100, axis=0), \n",
    "                 np.percentile(diff, norm.cdf(1) * 100, axis=0), alpha=0.5, color='tomato', label=r'$1\\sigma$')\n",
    "\n",
    "plt.fill_between(x, \n",
    "                 np.percentile(diff, (1 - norm.cdf(2)) * 100, axis=0), \n",
    "                 np.percentile(diff, norm.cdf(2) * 100, axis=0), alpha=0.2, color='salmon', label=r'$2\\sigma$')\n",
    "\n",
    "#plt.ylim(-0.008, 0.008)\n",
    "\n",
    "plt.ylabel(r'% fractional error $(l_{\\lambda}^{\\mathrm{NN}} - l_{\\lambda})/l_{\\lambda}$')\n",
    "plt.xlabel('Wavelength [nm]')\n",
    "\n",
    "plt.hlines(0, 380, 700, ls='--', color='k')\n",
    "plt.legend()\n",
    "\n",
    "plt.xlim(380, 700)"
   ]
  },
  {
   "cell_type": "code",
   "execution_count": 76,
   "id": "852e5714",
   "metadata": {},
   "outputs": [
    {
     "data": {
      "text/plain": [
       "1335"
      ]
     },
     "execution_count": 76,
     "metadata": {},
     "output_type": "execute_result"
    }
   ],
   "source": [
    "val_ind[20]"
   ]
  },
  {
   "cell_type": "code",
   "execution_count": 77,
   "id": "a13d2a10",
   "metadata": {
    "scrolled": false
   },
   "outputs": [
    {
     "data": {
      "text/plain": [
       "Text(0, 0.5, 'Flux Density (normalized to 1 $M_\\\\odot$)')"
      ]
     },
     "execution_count": 77,
     "metadata": {},
     "output_type": "execute_result"
    },
    {
     "data": {
      "image/png": "[encoded data removed]",
      "text/plain": [
       "<Figure size 360x300 with 1 Axes>"
      ]
     },
     "metadata": {
      "needs_background": "light"
     },
     "output_type": "display_data"
    }
   ],
   "source": [
    "plt.plot(10**_specs[1335], label='NN predicted', alpha=1, color='tomato', zorder=3)\n",
    "plt.plot(10**log_spec_all[1335], label='Truth', alpha=1, color='k')\n",
    "\n",
    "plt.legend()\n",
    "plt.xlabel('Wavelength [nm]')\n",
    "plt.ylabel(r'Flux Density (normalized to 1 $M_\\odot$)')"
   ]
  },
  {
   "cell_type": "code",
   "execution_count": 284,
   "id": "dc4ec8ca",
   "metadata": {},
   "outputs": [],
   "source": []
  },
  {
   "cell_type": "markdown",
   "id": "8da37cbd",
   "metadata": {},
   "source": [
    "### From spectrum to magnitudes"
   ]
  },
  {
   "cell_type": "code",
   "execution_count": 78,
   "id": "87d2ff9c",
   "metadata": {},
   "outputs": [],
   "source": [
    "## Load the NN emulator `speculator`\n",
    "with open('./best_loss_model.pkl', 'rb') as f:\n",
    "    speculator = pickle.load(f)"
   ]
  },
  {
   "cell_type": "code",
   "execution_count": 79,
   "id": "9faa83c9",
   "metadata": {},
   "outputs": [],
   "source": [
    "flag = np.array([ True,  True,  True,  True,  True, False,  True,  True, False])\n",
    "zero_flag = (np.mean(np.load('./train_sed/log_spec_all.npy'), axis=1) < -30)\n",
    "\n",
    "log_spec_all = np.load('./train_sed/log_spec_all.npy')[~zero_flag]\n",
    "pca_coeff = np.load('./train_sed/pca_coeffs.npy')[~zero_flag]\n",
    "params = np.load('./train_sed/param_all.npy')[:, ~flag][~zero_flag]"
   ]
  },
  {
   "cell_type": "code",
   "execution_count": 85,
   "id": "994c160f",
   "metadata": {},
   "outputs": [],
   "source": [
    "mags = speculator.predict_sed(params, \n",
    "                              filterset=['sdss_u0', 'sdss_g0', 'sdss_r0', 'sdss_i0', 'sdss_z0'], \n",
    "                              angstroms=np.arange(3000, 11000, 2))"
   ]
  },
  {
   "cell_type": "code",
   "execution_count": 90,
   "id": "d1066e4b",
   "metadata": {},
   "outputs": [
    {
     "data": {
      "text/plain": [
       "array([[43.63864672, 42.06831069, 41.56953812, 41.3368604 , 41.12897138],\n",
       "       [43.63553441, 42.06617217, 41.56935345, 41.33762185, 41.13036139],\n",
       "       [43.63160371, 42.06346599, 41.56911302, 41.33857782, 41.13211328],\n",
       "       ...,\n",
       "       [44.11538942, 42.99839819, 42.50473113, 42.24415294, 42.00137055],\n",
       "       [44.09133605, 42.97880175, 42.48886046, 42.22988072, 41.98838879],\n",
       "       [44.07232059, 42.96327754, 42.47626487, 42.21854561, 41.97807198]])"
      ]
     },
     "execution_count": 90,
     "metadata": {},
     "output_type": "execute_result"
    }
   ],
   "source": [
    "-2.5 * np.log10(np.load('./train_sed/phot_all.npy')[~zero_flag])"
   ]
  },
  {
   "cell_type": "code",
   "execution_count": 86,
   "id": "ca7a854b",
   "metadata": {},
   "outputs": [
    {
     "data": {
      "text/plain": [
       "array([[43.6430218 , 42.07568827, 41.57702638, 41.34426676, 41.13704345],\n",
       "       [43.62080704, 42.05849851, 41.56526769, 41.33486451, 41.12919448],\n",
       "       [43.61133412, 42.05101652, 41.56127152, 41.3325158 , 41.12799949],\n",
       "       ...,\n",
       "       [44.1096385 , 42.99533044, 42.50392588, 42.24405187, 42.00238434],\n",
       "       [44.0869134 , 42.97632768, 42.48810673, 42.22966604, 41.98914665],\n",
       "       [44.0678413 , 42.95984695, 42.4739033 , 42.21655814, 41.97690546]])"
      ]
     },
     "execution_count": 86,
     "metadata": {},
     "output_type": "execute_result"
    }
   ],
   "source": [
    "mags"
   ]
  },
  {
   "cell_type": "code",
   "execution_count": null,
   "id": "bc08d98d",
   "metadata": {},
   "outputs": [],
   "source": []
  }
 ],
 "metadata": {
  "kernelspec": {
   "display_name": "Python 3 (ipykernel)",
   "language": "python",
   "name": "python3"
  },
  "language_info": {
   "codemirror_mode": {
    "name": "ipython",
    "version": 3
   },
   "file_extension": ".py",
   "mimetype": "text/x-python",
   "name": "python",
   "nbconvert_exporter": "python",
   "pygments_lexer": "ipython3",
   "version": "3.9.7"
  }
 },
 "nbformat": 4,
 "nbformat_minor": 5
}
