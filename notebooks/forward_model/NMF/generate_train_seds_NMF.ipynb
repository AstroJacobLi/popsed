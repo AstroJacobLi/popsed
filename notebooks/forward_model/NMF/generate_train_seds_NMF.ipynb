{
 "cells": [
  {
   "cell_type": "markdown",
   "id": "04488c1c",
   "metadata": {},
   "source": [
    "### 12 parameter model: \n",
    "NMF-based SFH (4 params), starburst (2 params), metallicity (1 param), dust (2 optical depths and 1 slope), stellar mass (1 param), redshift (1 param)\n",
    "\n",
    "See `script/NMF/gen_sed_nmf.py` for details."
   ]
  },
  {
   "cell_type": "code",
   "execution_count": 2,
   "id": "11e130c5",
   "metadata": {},
   "outputs": [],
   "source": [
    "%load_ext autoreload\n",
    "%autoreload 2"
   ]
  },
  {
   "cell_type": "code",
   "execution_count": 3,
   "id": "1bbdc225",
   "metadata": {},
   "outputs": [],
   "source": [
    "import numpy as np\n",
    "import pickle\n",
    "import matplotlib.pyplot as plt\n",
    "import astropy.units as u\n",
    "import os\n",
    "os.chdir('/scratch/gpfs/jiaxuanl/Data/popsed/')"
   ]
  },
  {
   "cell_type": "code",
   "execution_count": 5,
   "id": "2abdf5c2",
   "metadata": {},
   "outputs": [],
   "source": [
    "import fsps\n",
    "import sedpy\n",
    "from sedpy.observate import load_filters\n",
    "import prospect\n",
    "from prospect.sources.constants import cosmo #WMAP9\n",
    "import exspect\n",
    "import sys\n",
    "sys.path.append('/home/jiaxuanl/Research/popsed/')"
   ]
  },
  {
   "cell_type": "code",
   "execution_count": 6,
   "id": "74bef11c",
   "metadata": {},
   "outputs": [],
   "source": [
    "from popsed import mock\n",
    "from popsed.sfh import params_to_sfh, parametric_sfr, parametric_mwa"
   ]
  },
  {
   "cell_type": "code",
   "execution_count": 7,
   "id": "10063e21",
   "metadata": {},
   "outputs": [],
   "source": [
    "# SDSS filters\n",
    "sdss = ['sdss_{0}0'.format(b) for b in 'ugriz']"
   ]
  },
  {
   "cell_type": "markdown",
   "id": "1cb6f8b9",
   "metadata": {},
   "source": [
    "In order to cover SDSS five bands, we need spectrum covering 1000 A to 60,000 A. But we split the wavelength range into several pieces: `'.w1000_2000', '.w2000_3600', '.w3600_5500', '.w5500_7410', '.w7410_60000'`\n",
    "\n",
    "\n",
    "Let's sample the prior, instead of doing a grid search.\n",
    "\n",
    "IMF: Chabrier (2003) (in FSPS, imf=1)\n",
    "\n",
    "$\\beta_i \\sim \\rm Dirichlet$ (NMF coeffs)\n",
    "\n",
    "$\\log Z [Z_\\odot] \\sim \\rm Uniform[-2.6, 0.3]$ (this limit is set by the metallicity of MILES library)\n",
    "\n",
    "$\\log\\, M_\\star\\ [M_\\odot] = 0.0$\n",
    "\n",
    "$z \\sim \\rm Uniform[0, 1]$ (this is only used to calculte `tage`, i.e., the length of SFH).\n",
    "\n",
    "$\\tau_1 \\sim \\rm Uniform[0, 3],\\ \\tau_2 \\sim \\rm Uniform[0, 3],\\ \\tau_{\\rm slope} \\sim \\rm Uniform[-3, 1]$. (See Conroy09a)\n",
    "\n",
    "\n",
    "**Therefore, the `speculator` bounds should be exactly the same as above.**"
   ]
  },
  {
   "cell_type": "markdown",
   "id": "e41f9af5",
   "metadata": {},
   "source": [
    "### Some test code"
   ]
  },
  {
   "cell_type": "code",
   "execution_count": 311,
   "id": "52f7e557",
   "metadata": {},
   "outputs": [],
   "source": [
    "from popsed import prior, models"
   ]
  },
  {
   "cell_type": "code",
   "execution_count": 312,
   "id": "c34138d6",
   "metadata": {},
   "outputs": [
    {
     "name": "stdout",
     "output_type": "stream",
     "text": [
      "Initialize NMF-based SPS model\n",
      "Input parameters : logmstar, beta1_sfh, beta2_sfh, beta3_sfh, beta4_sfh, logzsol, dust1, dust2, dust_index\n"
     ]
    }
   ],
   "source": [
    "model = models.NMF(burst=False)\n",
    "model._ssp_initiate() # slow\n",
    "\n",
    "# wavelength range set to cover GALEX FUV to WISE W2\n",
    "w_fsps = model._ssp.wavelengths\n",
    "wmin, wmax = 1000., 60000.\n",
    "wlim = (w_fsps >= wmin) & (w_fsps <= wmax)"
   ]
  },
  {
   "cell_type": "code",
   "execution_count": 313,
   "id": "09e3cd0a",
   "metadata": {},
   "outputs": [],
   "source": [
    "ncomp = 4\n",
    "priors = prior.load_priors([\n",
    "        # Log stellar mass, in M_sun\n",
    "        prior.UniformPrior(0.0, 0.0, label='logmstar'),\n",
    "        # flat dirichilet priors for SFH\n",
    "        prior.FlatDirichletPrior(ncomp, label='beta'),\n",
    "        # uniform priors on the mass fraction of burst\n",
    "#         prior.UniformPrior(0, 0.8, label='fburst'),\n",
    "#         # uniform priors on star-burst lookback time\n",
    "#         prior.UniformPrior(1e-2, 13.27, label='tburst'),\n",
    "        # uniform priors on log-metallicity, absolute Z\n",
    "        prior.UniformPrior(-2.6, 0.3, label='logzsol'),\n",
    "        # uniform priors on dust1\n",
    "        prior.UniformPrior(0., 3., label='dust1'),\n",
    "        # uniform priors on dust2\n",
    "        prior.UniformPrior(0., 3., label='dust2'),\n",
    "        # uniform priors on dust_index\n",
    "        prior.UniformPrior(-3., 1., label='dust_index'),\n",
    "        # uniformly sample redshift\n",
    "        prior.UniformPrior(0., 1, label='redshift')\n",
    "    ])"
   ]
  },
  {
   "cell_type": "markdown",
   "id": "5cd1a1b1",
   "metadata": {},
   "source": [
    "##### We show an example of how to generate spectrum for a given set of params, and calculte the magnitudes, which confuses me for many times"
   ]
  },
  {
   "cell_type": "code",
   "execution_count": 314,
   "id": "e559311e",
   "metadata": {},
   "outputs": [],
   "source": [
    "N_samples = 1 # generate 1 spectrum\n",
    "tt = np.array([priors.transform(priors.sample()) for i in range(N_samples)])\n",
    "tage = model.cosmo.age(tt[:, -1:]).value # convert redshift to age\n",
    "theta = model._parse_theta(tt[:, :-1])"
   ]
  },
  {
   "cell_type": "code",
   "execution_count": 315,
   "id": "2d31aeca",
   "metadata": {},
   "outputs": [
    {
     "data": {
      "text/plain": [
       "{'logmstar': array([0.]),\n",
       " 'beta1_sfh': array([0.91818111]),\n",
       " 'beta2_sfh': array([0.04349143]),\n",
       " 'beta3_sfh': array([0.00619307]),\n",
       " 'beta4_sfh': array([0.03213439]),\n",
       " 'logzsol': array([-0.07003611]),\n",
       " 'dust1': array([1.91899111]),\n",
       " 'dust2': array([0.91763253]),\n",
       " 'dust_index': array([0.01900452])}"
      ]
     },
     "execution_count": 315,
     "metadata": {},
     "output_type": "execute_result"
    }
   ],
   "source": [
    "theta"
   ]
  },
  {
   "cell_type": "code",
   "execution_count": 316,
   "id": "9c1ac947",
   "metadata": {},
   "outputs": [
    {
     "data": {
      "text/plain": [
       "Text(0, 0.5, 'SFR [Msun/yr] (normalized to 1 Msun)')"
      ]
     },
     "execution_count": 316,
     "metadata": {},
     "output_type": "execute_result"
    },
    {
     "data": {
      "image/png": "[encoded data removed]",
      "text/plain": [
       "<Figure size 432x288 with 1 Axes>"
      ]
     },
     "metadata": {
      "needs_background": "light"
     },
     "output_type": "display_data"
    }
   ],
   "source": [
    "# Display SFH\n",
    "tlb_edges, sfh = model.SFH(np.hstack([np.zeros(len(tt))[:, None], tt[:, 1:-1]]), zred=0.1, _burst=True)\n",
    "plt.plot(0.5 * (tlb_edges[1:] + tlb_edges[:-1]), sfh)\n",
    "plt.xlabel('Lookback time [Gyr]')\n",
    "plt.ylabel('SFR [Msun/yr] (normalized to 1 Msun)')"
   ]
  },
  {
   "cell_type": "code",
   "execution_count": 317,
   "id": "18288e18",
   "metadata": {},
   "outputs": [],
   "source": [
    "# Generate spectrum, slow\n",
    "wave, spec = model._fsps(tt[0, :-1], tage[0])\n",
    "wave = wave[wlim]\n",
    "spec = spec[wlim]"
   ]
  },
  {
   "cell_type": "code",
   "execution_count": 318,
   "id": "8232b0f6",
   "metadata": {},
   "outputs": [
    {
     "name": "stdout",
     "output_type": "stream",
     "text": [
      "The spectrum is in unit of Lsun/Hz\n"
     ]
    }
   ],
   "source": [
    "print('The spectrum is in unit of Lsun/AA') if model._peraa else print('The spectrum is in unit of Lsun/Hz')"
   ]
  },
  {
   "cell_type": "markdown",
   "id": "600c308a",
   "metadata": {},
   "source": [
    "We can convert spectrum in Lsun/Hz to Lsun/AA by $$f_\\lambda = \\frac{c}{\\lambda^2} f_\\nu.$$ Notice that `c = 3e18 AA/s`."
   ]
  },
  {
   "cell_type": "code",
   "execution_count": 319,
   "id": "6f27418f",
   "metadata": {},
   "outputs": [],
   "source": [
    "# some constants\n",
    "lsun = 3.846e33  # erg/s\n",
    "pc = 3.085677581467192e18  # in cm\n",
    "lightspeed = 2.998e18  # AA/s\n",
    "ckms = 2.998e5  # km/s\n",
    "jansky_mks = 1e-26\n",
    "jansky_cgs = 1e-23\n",
    "# value to go from L_sun/AA to erg/s/cm^2/AA at 10pc\n",
    "to_cgs_at_10pc = lsun / (4.0 * np.pi * (pc * 10)**2)"
   ]
  },
  {
   "cell_type": "code",
   "execution_count": 320,
   "id": "f131241c",
   "metadata": {},
   "outputs": [],
   "source": [
    "spec_aa = spec * lightspeed / wave**2"
   ]
  },
  {
   "cell_type": "code",
   "execution_count": 321,
   "id": "e2a01037",
   "metadata": {},
   "outputs": [
    {
     "data": {
      "text/plain": [
       "Text(0.5, 1.0, '$f_\\\\lambda$')"
      ]
     },
     "execution_count": 321,
     "metadata": {},
     "output_type": "execute_result"
    },
    {
     "data": {
      "image/png": "[encoded data removed]",
      "text/plain": [
       "<Figure size 720x288 with 2 Axes>"
      ]
     },
     "metadata": {
      "needs_background": "light"
     },
     "output_type": "display_data"
    }
   ],
   "source": [
    "fig, axes = plt.subplots(1, 2, figsize=(10, 4))\n",
    "axes[0].plot(wave, spec)\n",
    "axes[0].set_title(r'$f_\\nu$')\n",
    "axes[1].plot(wave, spec_aa)\n",
    "axes[1].set_title(r'$f_\\lambda$')"
   ]
  },
  {
   "cell_type": "markdown",
   "id": "4509478f",
   "metadata": {},
   "source": [
    "Now we calculate the absolute magnitudes of this spectrum, i.e., we place this galaxy at 10 pc, then multiply the transmission curves of filters to the spectrum. We need to work on `spec_aa` for this purpose.\n",
    "\n",
    "`to_cgs_at_10pc` is used to convert luminosity density Lsun/AA to erg/s/cm^2/AA at 10 pc.\n",
    "\n",
    "We don't need to worry about the zeropoint and how to convert 3631 Jy (1 Jy = 1e-23 erg/s/cm^2/Hz). `sedpy` does that for us."
   ]
  },
  {
   "cell_type": "code",
   "execution_count": 43,
   "id": "0128c332",
   "metadata": {},
   "outputs": [],
   "source": [
    "### Calculate transmission curves at grid of `wave`\n",
    "from sedpy import observate\n",
    "from scipy.interpolate import interp1d\n",
    "x = wave\n",
    "filterset = [f'sdss_{filt}0' for filt in 'ugriz']\n",
    "\n",
    "# transmission efficiency\n",
    "_epsilon = np.zeros((len(filterset), len(x)))\n",
    "_zero_counts = np.zeros(len(filterset))\n",
    "filters = observate.load_filters(filterset)\n",
    "for i in range(len(filterset)):\n",
    "    _epsilon[i] = interp1d(filters[i].wavelength,\n",
    "                           filters[i].transmission, \n",
    "                           bounds_error=False,\n",
    "                                   fill_value=0)(x)\n",
    "    _zero_counts[i] = filters[i].ab_zero_counts\n",
    "filterset = filterset\n",
    "transmission_effiency = _epsilon\n",
    "ab_zero_counts = _zero_counts"
   ]
  },
  {
   "cell_type": "code",
   "execution_count": 44,
   "id": "7d277c9c",
   "metadata": {},
   "outputs": [
    {
     "data": {
      "text/plain": [
       "array([0.00182001, 0.00952707, 0.00945654, 0.00635115, 0.00105704])"
      ]
     },
     "execution_count": 44,
     "metadata": {},
     "output_type": "execute_result"
    }
   ],
   "source": [
    "ab_zero_counts"
   ]
  },
  {
   "cell_type": "code",
   "execution_count": 49,
   "id": "19a4810a",
   "metadata": {},
   "outputs": [
    {
     "data": {
      "text/plain": [
       "array([[12.08716104,  7.79351502,  5.93257152,  5.12030426,  4.66109434]])"
      ]
     },
     "execution_count": 49,
     "metadata": {},
     "output_type": "execute_result"
    }
   ],
   "source": [
    "# Now manually integration over transmisison curves\n",
    "dfactor = 1 # distance dimming fractor, equals to 1.0 at 10 pc\n",
    "\n",
    "maggies = np.trapz(\n",
    "    (wave * spec_aa * to_cgs_at_10pc / dfactor)[None, :] * transmission_effiency[None, :]\n",
    "     , wave) / ab_zero_counts\n",
    "\n",
    "-2.5 * np.log10(maggies) # absolute magnitudes"
   ]
  },
  {
   "cell_type": "markdown",
   "id": "ea6a88d3",
   "metadata": {},
   "source": [
    "If you need to calculate the apparent magnitude of this galaxy at a given redshift, additional redshift effect should be added. The `dfactor` becomes `dfactor = ((distances [Mpc] * 1e5)**2 / (1 + z))`."
   ]
  },
  {
   "cell_type": "code",
   "execution_count": 282,
   "id": "466b252e",
   "metadata": {},
   "outputs": [],
   "source": [
    "redshift = 1"
   ]
  },
  {
   "cell_type": "code",
   "execution_count": 286,
   "id": "0d408dd6",
   "metadata": {},
   "outputs": [],
   "source": [
    "# Try an example at high z: z=2\n",
    "wave, spec = model._ssp.get_spectrum(tage=10.0, peraa=False)\n",
    "wave = wave[wlim]\n",
    "spec = spec[wlim]\n",
    "spec = spec * lightspeed / wave**2 #spec in Lsun/aa in rest frame\n",
    "\n",
    "_wave = wave * (1 + redshift)\n",
    "_spec = interp1d(_wave, spec, bounds_error=False, fill_value=0)(wave) / (1 + redshift) * to_cgs_at_10pc\n",
    "# _spec is a function of `wave`, where `wave` is actually the observation frame"
   ]
  },
  {
   "cell_type": "markdown",
   "id": "7eb8b96b",
   "metadata": {},
   "source": [
    "$$f_{\\lambda_0} d \\lambda_0 = f_{\\lambda_1} d \\lambda_1 = (1+z) f_{\\lambda_0 (1+z)} d \\lambda_0$$\n",
    "\n",
    "$$f_{\\lambda_o} d \\lambda_o = \\frac{1}{1+z} f_{\\lambda_o/(1+z)} d \\lambda_o$$"
   ]
  },
  {
   "cell_type": "code",
   "execution_count": 267,
   "id": "86e334e9",
   "metadata": {},
   "outputs": [],
   "source": [
    "### Calculate transmission curves at grid of `wave`\n",
    "from sedpy import observate\n",
    "from scipy.interpolate import interp1d\n",
    "x = wave\n",
    "filterset = [f'sdss_{filt}0' for filt in 'ugriz']\n",
    "\n",
    "# transmission efficiency\n",
    "_epsilon = np.zeros((len(filterset), len(x)))\n",
    "_zero_counts = np.zeros(len(filterset))\n",
    "filters = observate.load_filters(filterset)\n",
    "for i in range(len(filterset)):\n",
    "    _epsilon[i] = interp1d(filters[i].wavelength,\n",
    "                           filters[i].transmission, \n",
    "                           bounds_error=False,\n",
    "                                   fill_value=0)(x)\n",
    "    _zero_counts[i] = filters[i].ab_zero_counts\n",
    "filterset = filterset\n",
    "transmission_effiency = _epsilon\n",
    "ab_zero_counts = _zero_counts"
   ]
  },
  {
   "cell_type": "code",
   "execution_count": 268,
   "id": "8f7ad20e",
   "metadata": {},
   "outputs": [],
   "source": [
    "from astropy.cosmology import FlatLambdaCDM\n",
    "cosmo = FlatLambdaCDM(71.9, 0.3)"
   ]
  },
  {
   "cell_type": "code",
   "execution_count": 287,
   "id": "a8861db1",
   "metadata": {},
   "outputs": [
    {
     "data": {
      "text/plain": [
       "array([[93.05423068, 71.16590779, 61.45897067, 56.86511515, 53.75729438]])"
      ]
     },
     "execution_count": 287,
     "metadata": {},
     "output_type": "execute_result"
    }
   ],
   "source": [
    "# Now manually integration over transmisison curves\n",
    "dfactor = ((cosmo.luminosity_distance(redshift) * 1e5)**2).value\n",
    "# distance dimming fractor\n",
    "\n",
    "maggies = np.trapz(\n",
    "    (wave * _spec / dfactor)[None, :] * transmission_effiency[None, :]\n",
    "     , wave) / ab_zero_counts\n",
    "\n",
    "-2.5 * np.log10(maggies) # absolute magnitudes"
   ]
  },
  {
   "cell_type": "code",
   "execution_count": 288,
   "id": "f7d6437a",
   "metadata": {},
   "outputs": [
    {
     "data": {
      "text/plain": [
       "array([93.09299639, 71.21800851, 61.49799074, 56.90320881, 53.79569641])"
      ]
     },
     "execution_count": 288,
     "metadata": {},
     "output_type": "execute_result"
    }
   ],
   "source": [
    "model._ssp.get_mags(tage=10.0, redshift=redshift, bands=[f'sdss_{filt}' for filt in 'ugriz'])"
   ]
  },
  {
   "cell_type": "code",
   "execution_count": null,
   "id": "c7cf4d75",
   "metadata": {},
   "outputs": [],
   "source": []
  },
  {
   "cell_type": "code",
   "execution_count": null,
   "id": "d05515d4",
   "metadata": {},
   "outputs": [],
   "source": []
  },
  {
   "cell_type": "raw",
   "id": "816f6ba6",
   "metadata": {},
   "source": [
    "# divide spectra into 4 wavelength lengths determined by FSPS wavelength\n",
    "# binning  \n",
    "# 1. wave  < 3600 (FUV-NUV wavelenght bins dlambda = 20A) \n",
    "# 2. 3600 < wave < 5500 (optical wavelength bins dlambda = 0.9)\n",
    "# 3. 5500 < wave < 7410 (optical wavelength bins dlambda = 0.9)\n",
    "# 4. 7410 < wave < 59900 (NIR-IR wavelength bins dlambda > 20)\n",
    "wave_bin0 = (wave < 3600) \n",
    "wave_bin1 = (wave >= 3600) & (wave < 5500) \n",
    "wave_bin2 = (wave >= 5500) & (wave < 7410) \n",
    "wave_bin3 = (wave >= 7410) "
   ]
  },
  {
   "cell_type": "markdown",
   "id": "ad5cc3e0",
   "metadata": {},
   "source": [
    "### Look at some mock seds"
   ]
  },
  {
   "cell_type": "code",
   "execution_count": 293,
   "id": "b733b6a4",
   "metadata": {},
   "outputs": [],
   "source": [
    "logspecs = np.load('./train_sed_NMF/fsps.NMF.v0.1.log10spectrum.seed1.npy') # Lsun/Hz\n",
    "params = np.load('./train_sed_NMF/fsps.NMF.v0.1.theta.seed1.npy')\n",
    "wave = np.load('./train_sed_NMF/fsps.wavelength.npy')"
   ]
  },
  {
   "cell_type": "code",
   "execution_count": 290,
   "id": "5d08895e",
   "metadata": {},
   "outputs": [
    {
     "data": {
      "text/plain": [
       "array([ 0.        ,  0.08215458,  0.66382496,  0.19359599,  0.06042447,\n",
       "        0.32690829,  5.03286605, -1.44684843,  0.00793969,  0.14717867,\n",
       "        0.08451098,  0.83090104])"
      ]
     },
     "execution_count": 290,
     "metadata": {},
     "output_type": "execute_result"
    }
   ],
   "source": [
    "params[0]"
   ]
  },
  {
   "cell_type": "code",
   "execution_count": 309,
   "id": "34058702",
   "metadata": {},
   "outputs": [],
   "source": [
    "# show SFR averaged over 1Gyr\n",
    "sfrs = []\n",
    "for i in range(2000):\n",
    "    sfrs.append(model.avgSFR(params[i, :-1], zred=params[i, -1]))"
   ]
  },
  {
   "cell_type": "code",
   "execution_count": 310,
   "id": "01be1585",
   "metadata": {},
   "outputs": [
    {
     "data": {
      "image/png": "[encoded data removed]",
      "text/plain": [
       "<Figure size 432x288 with 1 Axes>"
      ]
     },
     "metadata": {
      "needs_background": "light"
     },
     "output_type": "display_data"
    }
   ],
   "source": [
    "plt.hist(np.array(sfrs).T[0] * 1e9)\n",
    "plt.xscale('log')"
   ]
  },
  {
   "cell_type": "code",
   "execution_count": null,
   "id": "23fbdd77",
   "metadata": {},
   "outputs": [],
   "source": []
  },
  {
   "cell_type": "markdown",
   "id": "be1491fd",
   "metadata": {},
   "source": [
    "---"
   ]
  },
  {
   "cell_type": "markdown",
   "id": "5133a296",
   "metadata": {},
   "source": [
    "### NMF basis\n",
    "```\n",
    "# load SPS model  \n",
    "Msps = Models.NMF(burst=False, emulator=False)\n",
    "Msps._ssp_initiate()\n",
    "```"
   ]
  },
  {
   "cell_type": "code",
   "execution_count": 115,
   "id": "45f0ffd8",
   "metadata": {},
   "outputs": [],
   "source": [
    "nmf_sfh = np.loadtxt(\n",
    "    '/home/jiaxuanl/Research/Packages/provabgs/src/provabgs/dat/NMF_2basis_SFH_components_nowgt_lin_Nc4.txt')"
   ]
  },
  {
   "cell_type": "code",
   "execution_count": 129,
   "id": "903ab6b1",
   "metadata": {},
   "outputs": [],
   "source": [
    "nmf_t = np.loadtxt('/home/jiaxuanl/Research/Packages/provabgs/src/provabgs/dat/sfh_t_int.txt')\n",
    "# nmf_t = np.repeat(nmf_t[None, :], 4, axis=0)"
   ]
  },
  {
   "cell_type": "code",
   "execution_count": 134,
   "id": "e369b14a",
   "metadata": {},
   "outputs": [
    {
     "data": {
      "text/plain": [
       "Text(0.5, 0, 'Lookback time [Gyr]')"
      ]
     },
     "execution_count": 134,
     "metadata": {},
     "output_type": "execute_result"
    },
    {
     "data": {
      "image/png": "[encoded data removed]",
      "text/plain": [
       "<Figure size 432x288 with 1 Axes>"
      ]
     },
     "metadata": {
      "needs_background": "light"
     },
     "output_type": "display_data"
    }
   ],
   "source": [
    "plt.plot(nmf_t, nmf_sfh.T[:, 3])\n",
    "plt.gca().invert_xaxis()\n",
    "plt.xlabel('Lookback time [Gyr]')"
   ]
  },
  {
   "cell_type": "code",
   "execution_count": 144,
   "id": "b7728319",
   "metadata": {},
   "outputs": [],
   "source": [
    "sys.path.append('/home/jiaxuanl/Research/Packages/provabgs/src/')"
   ]
  },
  {
   "cell_type": "code",
   "execution_count": 135,
   "id": "69277f95",
   "metadata": {},
   "outputs": [],
   "source": [
    "bin_edges = np.zeros(43)\n",
    "bin_edges[1:-1] = 10**(6.05 + 0.1 * np.arange(41) - 9.)\n",
    "bin_edges[-1] = 13.8"
   ]
  },
  {
   "cell_type": "code",
   "execution_count": 7,
   "id": "c859f929",
   "metadata": {},
   "outputs": [
    {
     "ename": "ModuleNotFoundError",
     "evalue": "No module named 'provabgs'",
     "output_type": "error",
     "traceback": [
      "\u001b[0;31m---------------------------------------------------------------------------\u001b[0m",
      "\u001b[0;31mModuleNotFoundError\u001b[0m                       Traceback (most recent call last)",
      "\u001b[0;32m/tmp/ipykernel_12202/3709630236.py\u001b[0m in \u001b[0;36m<module>\u001b[0;34m\u001b[0m\n\u001b[0;32m----> 1\u001b[0;31m \u001b[0;32mfrom\u001b[0m \u001b[0mprovabgs\u001b[0m \u001b[0;32mimport\u001b[0m \u001b[0mutil\u001b[0m\u001b[0;34m\u001b[0m\u001b[0;34m\u001b[0m\u001b[0m\n\u001b[0m\u001b[1;32m      2\u001b[0m \u001b[0;32mfrom\u001b[0m \u001b[0mscipy\u001b[0m\u001b[0;34m.\u001b[0m\u001b[0minterpolate\u001b[0m \u001b[0;32mimport\u001b[0m \u001b[0mInterpolatedUnivariateSpline\u001b[0m\u001b[0;34m\u001b[0m\u001b[0;34m\u001b[0m\u001b[0m\n\u001b[1;32m      3\u001b[0m \u001b[0;32mimport\u001b[0m \u001b[0mos\u001b[0m\u001b[0;34m\u001b[0m\u001b[0;34m\u001b[0m\u001b[0m\n",
      "\u001b[0;31mModuleNotFoundError\u001b[0m: No module named 'provabgs'"
     ]
    }
   ],
   "source": [
    "from provabgs import util\n",
    "from scipy.interpolate import InterpolatedUnivariateSpline\n",
    "import os"
   ]
  },
  {
   "cell_type": "code",
   "execution_count": 152,
   "id": "15bfef00",
   "metadata": {},
   "outputs": [],
   "source": [
    "tage = 12\n",
    "tlb_edges = util.tlookback_bin_edges(tage)"
   ]
  },
  {
   "cell_type": "code",
   "execution_count": 153,
   "id": "17d4223c",
   "metadata": {},
   "outputs": [
    {
     "data": {
      "text/plain": [
       "array([0.00000000e+00, 1.12201845e-03, 1.41253754e-03, 1.77827941e-03,\n",
       "       2.23872114e-03, 2.81838293e-03, 3.54813389e-03, 4.46683592e-03,\n",
       "       5.62341325e-03, 7.07945784e-03, 8.91250938e-03, 1.12201845e-02,\n",
       "       1.41253754e-02, 1.77827941e-02, 2.23872114e-02, 2.81838293e-02,\n",
       "       3.54813389e-02, 4.46683592e-02, 5.62341325e-02, 7.07945784e-02,\n",
       "       8.91250938e-02, 1.12201845e-01, 1.41253754e-01, 1.77827941e-01,\n",
       "       2.23872114e-01, 2.81838293e-01, 3.54813389e-01, 4.46683592e-01,\n",
       "       5.62341325e-01, 7.07945784e-01, 8.91250938e-01, 1.12201845e+00,\n",
       "       1.41253754e+00, 1.77827941e+00, 2.23872114e+00, 2.81838293e+00,\n",
       "       3.54813389e+00, 4.46683592e+00, 5.62341325e+00, 7.07945784e+00,\n",
       "       8.91250938e+00, 1.12201845e+01, 1.20000000e+01])"
      ]
     },
     "execution_count": 153,
     "metadata": {},
     "output_type": "execute_result"
    }
   ],
   "source": [
    "tlb_edges"
   ]
  },
  {
   "cell_type": "code",
   "execution_count": 172,
   "id": "14551d35",
   "metadata": {},
   "outputs": [],
   "source": [
    "dir_dat = '/home/jiaxuanl/Research/Packages/provabgs/src/provabgs/dat/'\n",
    "fsfh = os.path.join(dir_dat, 'NMF_2basis_SFH_components_nowgt_lin_Nc4.txt')\n",
    "fzh = os.path.join(dir_dat, 'NMF_2basis_Z_components_nowgt_lin_Nc2.txt') \n",
    "ft = os.path.join(dir_dat, 'sfh_t_int.txt')\n",
    "nmf_sfh = np.loadtxt(fsfh)[:, ::-1] # basis order is jumbled up it should be [2 ,0, 1, 3]\n",
    "nmf_zh  = np.loadtxt(fzh)[:, ::-1] \n",
    "nmf_t   = np.loadtxt(ft)[::-1] # look back time \n",
    "\n",
    "_nmf_t_lb_sfh      = nmf_t \n",
    "_nmf_t_lb_zh       = nmf_t \n",
    "_nmf_sfh_basis     = np.array([nmf_sfh[2], nmf_sfh[0], nmf_sfh[1], nmf_sfh[3]])\n",
    "_nmf_zh_basis      = nmf_zh\n",
    "\n",
    "_Ncomp_sfh = _nmf_sfh_basis.shape[0]\n",
    "\n",
    "# SFH bases as a function of lookback time \n",
    "_sfh_basis = [\n",
    "        InterpolatedUnivariateSpline(\n",
    "            _nmf_t_lb_sfh, \n",
    "            _nmf_sfh_basis[i], k=1) \n",
    "        for i in range(_Ncomp_sfh)\n",
    "        ]\n",
    "# High time resolution grid\n",
    "_t_lb_hr       = np.linspace(0., 13.8, int(5e4))\n",
    "_sfh_basis_hr  = [sfh_basis(_t_lb_hr) for sfh_basis in _sfh_basis]"
   ]
  },
  {
   "cell_type": "code",
   "execution_count": null,
   "id": "8a5ccca2",
   "metadata": {},
   "outputs": [],
   "source": []
  },
  {
   "cell_type": "code",
   "execution_count": null,
   "id": "075d09a4",
   "metadata": {},
   "outputs": [],
   "source": []
  },
  {
   "cell_type": "code",
   "execution_count": 174,
   "id": "d087f094",
   "metadata": {},
   "outputs": [
    {
     "data": {
      "text/plain": [
       "array([0.00000000e+00, 1.12201845e-03, 1.41253754e-03, 1.77827941e-03,\n",
       "       2.23872114e-03, 2.81838293e-03, 3.54813389e-03, 4.46683592e-03,\n",
       "       5.62341325e-03, 7.07945784e-03, 8.91250938e-03, 1.12201845e-02,\n",
       "       1.41253754e-02, 1.77827941e-02, 2.23872114e-02, 2.81838293e-02,\n",
       "       3.54813389e-02, 4.46683592e-02, 5.62341325e-02, 7.07945784e-02,\n",
       "       8.91250938e-02, 1.12201845e-01, 1.41253754e-01, 1.77827941e-01,\n",
       "       2.23872114e-01, 2.81838293e-01, 3.54813389e-01, 4.46683592e-01,\n",
       "       5.62341325e-01, 7.07945784e-01, 8.91250938e-01, 1.12201845e+00,\n",
       "       1.41253754e+00, 1.77827941e+00, 2.23872114e+00, 2.81838293e+00,\n",
       "       3.54813389e+00, 4.46683592e+00, 5.62341325e+00, 7.07945784e+00,\n",
       "       8.91250938e+00, 1.12201845e+01, 1.20000000e+01])"
      ]
     },
     "execution_count": 174,
     "metadata": {},
     "output_type": "execute_result"
    }
   ],
   "source": [
    "tlb_edges"
   ]
  },
  {
   "cell_type": "code",
   "execution_count": 175,
   "id": "2ce7e1f6",
   "metadata": {},
   "outputs": [],
   "source": [
    "sfh_basis_tlb = np.array([\n",
    "    util.trapz_rebin(_t_lb_hr, _sfh_basis, edges=tlb_edges) \n",
    "    for _sfh_basis in _sfh_basis_hr])"
   ]
  },
  {
   "cell_type": "code",
   "execution_count": 217,
   "id": "d95ae4b2",
   "metadata": {},
   "outputs": [
    {
     "data": {
      "text/plain": [
       "[<matplotlib.lines.Line2D at 0x2b7544986f70>]"
      ]
     },
     "execution_count": 217,
     "metadata": {},
     "output_type": "execute_result"
    },
    {
     "data": {
      "image/png": "[encoded data removed]",
      "text/plain": [
       "<Figure size 432x288 with 1 Axes>"
      ]
     },
     "metadata": {
      "needs_background": "light"
     },
     "output_type": "display_data"
    }
   ],
   "source": [
    "plt.plot(0.5 * (tlb_edges[:-1] + tlb_edges[1:]), sfh_basis_tlb[0], )\n",
    "\n",
    "plt.plot(_t_lb_hr, _sfh_basis_hr[0])"
   ]
  },
  {
   "cell_type": "code",
   "execution_count": 199,
   "id": "1391088d",
   "metadata": {},
   "outputs": [],
   "source": [
    "tt_sfh = np.array([[10], [1], [3], [0.1]]).T"
   ]
  },
  {
   "cell_type": "code",
   "execution_count": 227,
   "id": "1cb5a68b",
   "metadata": {},
   "outputs": [],
   "source": [
    "sfh = np.sum(np.array([tt_sfh[:,i][:,None] *\n",
    "            sfh_basis_tlb[i][None,:] for i in range(4)]),\n",
    "            axis=0)\n",
    "sfh /= np.sum(1e9 * np.diff(tlb_edges) * sfh, axis=1)[:,None] # normalize \n",
    "# In total, formed 1 M_sun stellar mass. The unit of SFH is now `M_sun yr^{-1}`."
   ]
  },
  {
   "cell_type": "code",
   "execution_count": 230,
   "id": "c7e2dc6a",
   "metadata": {},
   "outputs": [],
   "source": [
    "# multiply by stellar mass \n",
    "sfh *= 10**8.5"
   ]
  },
  {
   "cell_type": "code",
   "execution_count": 231,
   "id": "1caf577d",
   "metadata": {},
   "outputs": [
    {
     "data": {
      "text/plain": [
       "array([[0.05365526, 0.05365777, 0.05365894, 0.05366041, 0.05366226,\n",
       "        0.05366458, 0.05366752, 0.0536712 , 0.05367585, 0.0536817 ,\n",
       "        0.05368906, 0.05369832, 0.05370999, 0.05372468, 0.05374317,\n",
       "        0.05376645, 0.05379575, 0.05383264, 0.05387909, 0.05393756,\n",
       "        0.05401117, 0.05410384, 0.05422051, 0.05436738, 0.05455229,\n",
       "        0.05478453, 0.05504152, 0.05534382, 0.05572713, 0.05622212,\n",
       "        0.05656632, 0.05599994, 0.05416498, 0.05144214, 0.04723914,\n",
       "        0.03969604, 0.02917912, 0.01746327, 0.01276077, 0.02030519,\n",
       "        0.01452101, 0.00205736]])"
      ]
     },
     "execution_count": 231,
     "metadata": {},
     "output_type": "execute_result"
    }
   ],
   "source": [
    "sfh"
   ]
  },
  {
   "cell_type": "code",
   "execution_count": 234,
   "id": "6314afb4",
   "metadata": {},
   "outputs": [
    {
     "data": {
      "text/plain": [
       "8.5"
      ]
     },
     "execution_count": 234,
     "metadata": {},
     "output_type": "execute_result"
    }
   ],
   "source": [
    "np.log10(np.sum(sfh * np.diff(tlb_edges) * 1e9))"
   ]
  },
  {
   "cell_type": "code",
   "execution_count": 243,
   "id": "b165b2b9",
   "metadata": {},
   "outputs": [
    {
     "data": {
      "text/plain": [
       "[<matplotlib.lines.Line2D at 0x2b754461f850>]"
      ]
     },
     "execution_count": 243,
     "metadata": {},
     "output_type": "execute_result"
    },
    {
     "data": {
      "image/png": "[encoded data removed]",
      "text/plain": [
       "<Figure size 432x288 with 1 Axes>"
      ]
     },
     "metadata": {
      "needs_background": "light"
     },
     "output_type": "display_data"
    }
   ],
   "source": [
    "plt.plot(0.5 * (tlb_edges[:-1] + tlb_edges[1:]), sfh[0], marker='o')"
   ]
  },
  {
   "cell_type": "code",
   "execution_count": 240,
   "id": "b3f6a99e",
   "metadata": {},
   "outputs": [],
   "source": [
    "tburst = np.array([4]) # Gyr, lb time\n",
    "dts = np.diff(tlb_edges)\n",
    "has_burst = (tburst < tlb_edges.max()) \n",
    "\n",
    "# log-spaced lookback time bin with burst \n",
    "iburst = np.digitize(tburst[has_burst], tlb_edges) - 1"
   ]
  },
  {
   "cell_type": "code",
   "execution_count": 244,
   "id": "3c4adb7c",
   "metadata": {},
   "outputs": [],
   "source": [
    "sfh = np.zeros((len(tburst), len(tlb_edges) - 1))"
   ]
  },
  {
   "cell_type": "code",
   "execution_count": 246,
   "id": "bd1785a3",
   "metadata": {},
   "outputs": [],
   "source": [
    "sfh[has_burst, iburst] += 1. / (1e9 * dts[iburst])"
   ]
  },
  {
   "cell_type": "code",
   "execution_count": 247,
   "id": "2076c7d5",
   "metadata": {},
   "outputs": [
    {
     "data": {
      "text/plain": [
       "array([[0.00000000e+00, 0.00000000e+00, 0.00000000e+00, 0.00000000e+00,\n",
       "        0.00000000e+00, 0.00000000e+00, 0.00000000e+00, 0.00000000e+00,\n",
       "        0.00000000e+00, 0.00000000e+00, 0.00000000e+00, 0.00000000e+00,\n",
       "        0.00000000e+00, 0.00000000e+00, 0.00000000e+00, 0.00000000e+00,\n",
       "        0.00000000e+00, 0.00000000e+00, 0.00000000e+00, 0.00000000e+00,\n",
       "        0.00000000e+00, 0.00000000e+00, 0.00000000e+00, 0.00000000e+00,\n",
       "        0.00000000e+00, 0.00000000e+00, 0.00000000e+00, 0.00000000e+00,\n",
       "        0.00000000e+00, 0.00000000e+00, 0.00000000e+00, 0.00000000e+00,\n",
       "        0.00000000e+00, 0.00000000e+00, 0.00000000e+00, 0.00000000e+00,\n",
       "        1.08849221e-09, 0.00000000e+00, 0.00000000e+00, 0.00000000e+00,\n",
       "        0.00000000e+00, 0.00000000e+00]])"
      ]
     },
     "execution_count": 247,
     "metadata": {},
     "output_type": "execute_result"
    }
   ],
   "source": [
    "sfh"
   ]
  },
  {
   "cell_type": "raw",
   "id": "74153dd2",
   "metadata": {},
   "source": [
    "def _ssp_initiate(self): \n",
    "    ''' initialize sps (FSPS StellarPopulaiton object) \n",
    "    '''\n",
    "    sfh         = 0 # tabulated SFH\n",
    "    dust_type   = 4 # dust1, dust2, and dust_index \n",
    "    imf_type    = 1 # chabrier\n",
    "\n",
    "    self._ssp = fsps.StellarPopulation(\n",
    "            zcontinuous=1,          # interpolate metallicities\n",
    "            sfh=sfh,                # sfh type \n",
    "            dust_type=dust_type,            \n",
    "            imf_type=imf_type)             # chabrier \n",
    "    return None  "
   ]
  }
 ],
 "metadata": {
  "kernelspec": {
   "display_name": "Python 3 (ipykernel)",
   "language": "python",
   "name": "python3"
  },
  "language_info": {
   "codemirror_mode": {
    "name": "ipython",
    "version": 3
   },
   "file_extension": ".py",
   "mimetype": "text/x-python",
   "name": "python",
   "nbconvert_exporter": "python",
   "pygments_lexer": "ipython3",
   "version": "3.9.7"
  },
  "notify_time": "10"
 },
 "nbformat": 4,
 "nbformat_minor": 5
}
