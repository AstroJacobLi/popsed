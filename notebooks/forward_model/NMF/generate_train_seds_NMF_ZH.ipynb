{
 "cells": [
  {
   "cell_type": "markdown",
   "id": "04488c1c",
   "metadata": {},
   "source": [
    "### 12 parameter model: \n",
    "NMF-based SFH (4 params), starburst (2 params), metallicity (1 param), dust (2 optical depths and 1 slope), stellar mass (1 param), redshift (1 param)\n",
    "\n",
    "See `script/NMF/gen_sed_nmf.py` for details."
   ]
  },
  {
   "cell_type": "code",
   "execution_count": 1,
   "id": "11e130c5",
   "metadata": {},
   "outputs": [],
   "source": [
    "%load_ext autoreload\n",
    "%autoreload 2"
   ]
  },
  {
   "cell_type": "code",
   "execution_count": 2,
   "id": "1bbdc225",
   "metadata": {},
   "outputs": [],
   "source": [
    "import numpy as np\n",
    "import pickle\n",
    "import matplotlib.pyplot as plt\n",
    "import astropy.units as u\n",
    "import os\n",
    "os.chdir('/scratch/gpfs/jiaxuanl/Data/popsed/')\n",
    "import sys\n",
    "sys.path.append('/home/jiaxuanl/Research/popsed/')\n",
    "sys.path.append('/home/jiaxuanl/Research/Packages/exspect/')"
   ]
  },
  {
   "cell_type": "code",
   "execution_count": 3,
   "id": "2abdf5c2",
   "metadata": {},
   "outputs": [],
   "source": [
    "import fsps\n",
    "import sedpy\n",
    "from sedpy.observate import load_filters\n",
    "import prospect\n",
    "from prospect.sources.constants import cosmo #WMAP9\n",
    "import exspect"
   ]
  },
  {
   "cell_type": "code",
   "execution_count": 4,
   "id": "74bef11c",
   "metadata": {},
   "outputs": [],
   "source": [
    "from popsed import mock\n",
    "from popsed.sfh import params_to_sfh, parametric_sfr, parametric_mwa"
   ]
  },
  {
   "cell_type": "code",
   "execution_count": 5,
   "id": "10063e21",
   "metadata": {},
   "outputs": [],
   "source": [
    "# SDSS filters\n",
    "sdss = ['sdss_{0}0'.format(b) for b in 'ugriz']"
   ]
  },
  {
   "cell_type": "markdown",
   "id": "1cb6f8b9",
   "metadata": {},
   "source": [
    "In order to cover SDSS five bands, we need spectrum covering 1000 A to 60,000 A. But we split the wavelength range into several pieces: `'.w1000_2000', '.w2000_3600', '.w3600_5500', '.w5500_7410', '.w7410_60000'`\n",
    "\n",
    "\n",
    "Let's sample the prior, instead of doing a grid search.\n",
    "\n",
    "IMF: Chabrier (2003) (in FSPS, imf=1)\n",
    "\n",
    "$\\beta_i \\sim \\rm Dirichlet$ (NMF coeffs)\n",
    "\n",
    "$\\log Z [Z_\\odot] \\sim \\rm Uniform[-2.6, 0.3]$ (this limit is set by the metallicity of MILES library)\n",
    "\n",
    "$\\log\\, M_\\star\\ [M_\\odot] = 0.0$\n",
    "\n",
    "$z \\sim \\rm Uniform[0, 1]$ (this is only used to calculte `tage`, i.e., the length of SFH).\n",
    "\n",
    "$\\tau_1 \\sim \\rm Uniform[0, 3],\\ \\tau_2 \\sim \\rm Uniform[0, 3],\\ \\tau_{\\rm slope} \\sim \\rm Uniform[-3, 1]$. (See Conroy09a)\n",
    "\n",
    "\n",
    "**Therefore, the `speculator` bounds should be exactly the same as above.**"
   ]
  },
  {
   "cell_type": "markdown",
   "id": "e41f9af5",
   "metadata": {},
   "source": [
    "### Some test code"
   ]
  },
  {
   "cell_type": "code",
   "execution_count": 6,
   "id": "52f7e557",
   "metadata": {},
   "outputs": [],
   "source": [
    "from popsed import prior, models"
   ]
  },
  {
   "cell_type": "code",
   "execution_count": 7,
   "id": "c34138d6",
   "metadata": {},
   "outputs": [
    {
     "name": "stdout",
     "output_type": "stream",
     "text": [
      "Initialize NMF-based SPS model\n",
      "Input parameters : logmstar, beta1_sfh, beta2_sfh, beta3_sfh, beta4_sfh, fburst, tburst, gamma1_zh, gamma2_zh, dust1, dust2, dust_index\n"
     ]
    }
   ],
   "source": [
    "model = models.NMF_ZH(burst=True, peraa=True)\n",
    "model._ssp_initiate() # slow\n",
    "\n",
    "# wavelength range set to cover GALEX FUV to WISE W2\n",
    "w_fsps = model._ssp.wavelengths\n",
    "wmin, wmax = 1000., 60000.\n",
    "wlim = (w_fsps >= wmin) & (w_fsps <= wmax)"
   ]
  },
  {
   "cell_type": "code",
   "execution_count": 8,
   "id": "09e3cd0a",
   "metadata": {},
   "outputs": [],
   "source": [
    "ncomp = 4\n",
    "priors = prior.load_priors([\n",
    "        # Log stellar mass, in M_sun\n",
    "        prior.UniformPrior(0.0, 0.0, label='logmstar'),\n",
    "        # flat dirichilet priors for SFH\n",
    "        prior.FlatDirichletPrior(ncomp, label='beta'),\n",
    "        # uniform priors on the mass fraction of burst\n",
    "        prior.UniformPrior(0, 0.8, label='fburst'),\n",
    "        # uniform priors on star-burst lookback time\n",
    "        prior.UniformPrior(1e-2, 13.27, label='tburst'),\n",
    "        # log uniform priors on metallicity history\n",
    "        prior.LogUniformPrior(4.5e-5, 4.5e-2, label='gamma1_zh'),\n",
    "        prior.LogUniformPrior(4.5e-5, 4.5e-2, label='gamma2_zh'),\n",
    "        # uniform priors on dust1\n",
    "        prior.UniformPrior(0., 3., label='dust1'),\n",
    "        # uniform priors on dust2\n",
    "        prior.UniformPrior(0., 3., label='dust2'),\n",
    "        # uniform priors on dust_index\n",
    "        prior.UniformPrior(-3., 1., label='dust_index'),\n",
    "        # uniformly sample redshift\n",
    "        prior.UniformPrior(0., 1.5, label='redshift')\n",
    "    ])"
   ]
  },
  {
   "cell_type": "markdown",
   "id": "5cd1a1b1",
   "metadata": {},
   "source": [
    "##### We show an example of how to generate spectrum for a given set of params, and calculte the magnitudes, which confuses me for many times"
   ]
  },
  {
   "cell_type": "code",
   "execution_count": 27,
   "id": "e559311e",
   "metadata": {},
   "outputs": [],
   "source": [
    "N_samples = 1 # generate 1 spectrum\n",
    "tt = np.array([priors.transform(priors.sample()) for i in range(N_samples)])\n",
    "tage = model.cosmo.age(tt[:, -1:]).value # convert redshift to age\n",
    "theta = model._parse_theta(tt[:, :-1])"
   ]
  },
  {
   "cell_type": "code",
   "execution_count": 28,
   "id": "2d31aeca",
   "metadata": {},
   "outputs": [
    {
     "data": {
      "text/plain": [
       "(array([[11.99653519]]),\n",
       " {'logmstar': array([0.]),\n",
       "  'beta1_sfh': array([0.94902381]),\n",
       "  'beta2_sfh': array([0.00617125]),\n",
       "  'beta3_sfh': array([0.03407022]),\n",
       "  'beta4_sfh': array([0.01073472]),\n",
       "  'fburst': array([0.28036539]),\n",
       "  'tburst': array([1.1150644]),\n",
       "  'gamma1_zh': array([0.00862215]),\n",
       "  'gamma2_zh': array([0.00047823]),\n",
       "  'dust1': array([0.45301696]),\n",
       "  'dust2': array([1.42580848]),\n",
       "  'dust_index': array([-0.87056796])})"
      ]
     },
     "execution_count": 28,
     "metadata": {},
     "output_type": "execute_result"
    }
   ],
   "source": [
    "tage, theta"
   ]
  },
  {
   "cell_type": "code",
   "execution_count": 29,
   "id": "9c1ac947",
   "metadata": {},
   "outputs": [
    {
     "data": {
      "text/plain": [
       "Text(0, 0.5, 'SFR [Msun/yr] (normalized to 1 Msun)')"
      ]
     },
     "execution_count": 29,
     "metadata": {},
     "output_type": "execute_result"
    },
    {
     "data": {
      "image/png": "[encoded data removed]",
      "text/plain": [
       "<Figure size 432x288 with 1 Axes>"
      ]
     },
     "metadata": {
      "needs_background": "light"
     },
     "output_type": "display_data"
    }
   ],
   "source": [
    "# Display SFH\n",
    "tlb_edges, sfh = model.SFH(np.hstack([np.zeros(len(tt))[:, None], tt[:, 1:-1]]), zred=0.1, _burst=True)\n",
    "plt.plot(0.5 * (tlb_edges[1:] + tlb_edges[:-1]), sfh)\n",
    "plt.xlabel('Lookback time [Gyr]')\n",
    "plt.ylabel('SFR [Msun/yr] (normalized to 1 Msun)')"
   ]
  },
  {
   "cell_type": "code",
   "execution_count": 30,
   "id": "380d1019",
   "metadata": {},
   "outputs": [
    {
     "data": {
      "text/plain": [
       "Text(0, 0.5, 'ZH')"
      ]
     },
     "execution_count": 30,
     "metadata": {},
     "output_type": "execute_result"
    },
    {
     "data": {
      "image/png": "[encoded data removed]",
      "text/plain": [
       "<Figure size 432x288 with 1 Axes>"
      ]
     },
     "metadata": {
      "needs_background": "light"
     },
     "output_type": "display_data"
    }
   ],
   "source": [
    "# Display SFH\n",
    "tlb_edges, zh = model.ZH(tt[:, :-1], zred=float(tt[:, -1]))\n",
    "plt.plot(0.5 * (tlb_edges[1:] + tlb_edges[:-1]), zh)\n",
    "plt.xlabel('Lookback time [Gyr]')\n",
    "plt.ylabel('ZH')"
   ]
  },
  {
   "cell_type": "code",
   "execution_count": 31,
   "id": "1caab209",
   "metadata": {},
   "outputs": [
    {
     "data": {
      "text/plain": [
       "array([0.30369283])"
      ]
     },
     "execution_count": 31,
     "metadata": {},
     "output_type": "execute_result"
    }
   ],
   "source": [
    "np.log10(model.Z_MW(tt[:, :-1], zred=float(tt[:, -1])) / 0.019)"
   ]
  },
  {
   "cell_type": "code",
   "execution_count": 33,
   "id": "9af48094",
   "metadata": {},
   "outputs": [
    {
     "data": {
      "text/plain": [
       "array([0.13756408])"
      ]
     },
     "execution_count": 33,
     "metadata": {},
     "output_type": "execute_result"
    }
   ],
   "source": [
    "tt[:, -1]"
   ]
  },
  {
   "cell_type": "code",
   "execution_count": 433,
   "id": "18288e18",
   "metadata": {},
   "outputs": [],
   "source": [
    "# Generate spectrum, slow\n",
    "wave, lum_ssp = model._sps_model(tt[0, :-1], 4.2777569)"
   ]
  },
  {
   "cell_type": "code",
   "execution_count": 432,
   "id": "cad271c9",
   "metadata": {},
   "outputs": [
    {
     "data": {
      "text/plain": [
       "array(4.2777569)"
      ]
     },
     "execution_count": 432,
     "metadata": {},
     "output_type": "execute_result"
    }
   ],
   "source": [
    "model._tage_z_interp(redshift)"
   ]
  },
  {
   "cell_type": "code",
   "execution_count": 429,
   "id": "ec0c5a52",
   "metadata": {},
   "outputs": [
    {
     "data": {
      "text/plain": [
       "(array([ 0.00000000e+00,  9.49023809e-01,  6.17125308e-03,  3.40702206e-02,\n",
       "         1.07347171e-02,  2.80365388e-01,  1.11506440e+00,  8.62215235e-03,\n",
       "         4.78234990e-04,  4.53016960e-01,  1.42580848e+00, -8.70567961e-01]),\n",
       " array([11.99653519]))"
      ]
     },
     "execution_count": 429,
     "metadata": {},
     "output_type": "execute_result"
    }
   ],
   "source": [
    "tt[0, :-1], tage[0]"
   ]
  },
  {
   "cell_type": "code",
   "execution_count": 401,
   "id": "8232b0f6",
   "metadata": {},
   "outputs": [
    {
     "name": "stdout",
     "output_type": "stream",
     "text": [
      "The spectrum is in unit of Lsun/AA\n"
     ]
    }
   ],
   "source": [
    "print('The spectrum is in unit of Lsun/AA') if model._peraa else print('The spectrum is in unit of Lsun/Hz')"
   ]
  },
  {
   "cell_type": "code",
   "execution_count": 434,
   "id": "68d8ff98",
   "metadata": {},
   "outputs": [],
   "source": [
    "np.save('./test.npy', np.vstack([wave, lum_ssp]))"
   ]
  },
  {
   "cell_type": "markdown",
   "id": "7d7802e8",
   "metadata": {},
   "source": [
    "## Now we study how to calculate mags and redshift a spectrum"
   ]
  },
  {
   "cell_type": "code",
   "execution_count": 435,
   "id": "16e87b1d",
   "metadata": {},
   "outputs": [],
   "source": [
    "wave, lum_ssp = np.load('./test.npy') # this is already per aa\n",
    "wave = wave[wlim]\n",
    "lum_ssp = lum_ssp[wlim]\n",
    "spec = lum_ssp * to_cgs_at_10pc"
   ]
  },
  {
   "cell_type": "code",
   "execution_count": 436,
   "id": "7f5e7bec",
   "metadata": {},
   "outputs": [],
   "source": [
    "from popsed.models import lightspeed, to_cgs_at_10pc"
   ]
  },
  {
   "cell_type": "code",
   "execution_count": 437,
   "id": "e3496dd5",
   "metadata": {},
   "outputs": [],
   "source": [
    "redshift = 1.5"
   ]
  },
  {
   "cell_type": "code",
   "execution_count": 438,
   "id": "16d8db5a",
   "metadata": {},
   "outputs": [
    {
     "data": {
      "image/png": "[encoded data removed]",
      "text/plain": [
       "<Figure size 432x288 with 1 Axes>"
      ]
     },
     "metadata": {
      "needs_background": "light"
     },
     "output_type": "display_data"
    }
   ],
   "source": [
    "temp = model.sed(tt[0, :-1], redshift, wavelength=wave)"
   ]
  },
  {
   "cell_type": "code",
   "execution_count": 439,
   "id": "6e9cf63c",
   "metadata": {},
   "outputs": [
    {
     "data": {
      "text/plain": [
       "(array([ 0.00000000e+00,  9.49023809e-01,  6.17125308e-03,  3.40702206e-02,\n",
       "         1.07347171e-02,  2.80365388e-01,  1.11506440e+00,  8.62215235e-03,\n",
       "         4.78234990e-04,  4.53016960e-01,  1.42580848e+00, -8.70567961e-01]),\n",
       " array([11.99653519]))"
      ]
     },
     "execution_count": 439,
     "metadata": {},
     "output_type": "execute_result"
    }
   ],
   "source": [
    "tt[0, :-1], tage[0]"
   ]
  },
  {
   "cell_type": "code",
   "execution_count": null,
   "id": "1ff0cd51",
   "metadata": {},
   "outputs": [],
   "source": []
  },
  {
   "cell_type": "code",
   "execution_count": null,
   "id": "e99cf60b",
   "metadata": {},
   "outputs": [],
   "source": []
  },
  {
   "cell_type": "code",
   "execution_count": 384,
   "id": "0b86aebc",
   "metadata": {},
   "outputs": [],
   "source": [
    "from popsed.speculator import SuperSpeculator, StandardScaler\n",
    "name = 'NMF_ZH'\n",
    "speculator = SuperSpeculator(\n",
    "    speculators_dir=[f'./train_sed_{name}/best_emu/speculator_best_recon_model_{name}_{i_bin}.pkl' for i_bin in range(0, 5)], \n",
    "    str_wbin=['.w1000_2000',\n",
    "              '.w2000_3600', \n",
    "              '.w3600_5500', \n",
    "              '.w5500_7410', \n",
    "              '.w7410_60000'],\n",
    "    wavelength=np.load('./train_sed_NMF/nmf_seds/fsps.wavelength.npy'), \n",
    "    params_name=['kappa1_sfh', 'kappa2_sfh', 'kappa3_sfh', \n",
    "                 'fburst', 'tburst', 'gamma1_zh', 'gamma2_zh', \n",
    "                 'dust1', 'dust2', \n",
    "                 'dust_index', 'redshift'],  # , 'logm'\n",
    "    device='cuda')"
   ]
  },
  {
   "cell_type": "code",
   "execution_count": 385,
   "id": "d3cf5387",
   "metadata": {},
   "outputs": [],
   "source": [
    "import torch"
   ]
  },
  {
   "cell_type": "code",
   "execution_count": 440,
   "id": "9d71b8a2",
   "metadata": {},
   "outputs": [],
   "source": [
    "t_spec = torch.Tensor(np.repeat(spec[None, :], 2, axis=0)).to('cuda')\n",
    "t_redshift = torch.Tensor(np.array([[redshift], [redshift]])).to('cuda')"
   ]
  },
  {
   "cell_type": "code",
   "execution_count": 441,
   "id": "866a29ef",
   "metadata": {},
   "outputs": [],
   "source": [
    "my_z_spec = speculator.transform(t_spec, t_redshift, islog=False).detach().cpu().numpy()"
   ]
  },
  {
   "cell_type": "code",
   "execution_count": 442,
   "id": "5f029598",
   "metadata": {},
   "outputs": [
    {
     "data": {
      "text/plain": [
       "(1000.0, 15000.0)"
      ]
     },
     "execution_count": 442,
     "metadata": {},
     "output_type": "execute_result"
    },
    {
     "data": {
      "image/png": "[encoded data removed]",
      "text/plain": [
       "<Figure size 432x288 with 1 Axes>"
      ]
     },
     "metadata": {
      "needs_background": "light"
     },
     "output_type": "display_data"
    }
   ],
   "source": [
    "temp = model.sed(tt[0, :-1], redshift, wavelength=wave)\n",
    "plt.plot(temp[0], temp[1])\n",
    "plt.plot(wave, my_z_spec[0])\n",
    "\n",
    "plt.xlim(1000, 15000)"
   ]
  },
  {
   "cell_type": "code",
   "execution_count": 443,
   "id": "507e7746",
   "metadata": {},
   "outputs": [],
   "source": [
    "w_z = wave * (1. + redshift)\n",
    "d_lum = model._d_lum_z_interp(redshift)\n",
    "flux_z = lum_ssp * 3.846e33 / (4. * np.pi * d_lum**2) / (1. + redshift)  # 1 ergs/s/cm^2/Ang"
   ]
  },
  {
   "cell_type": "markdown",
   "id": "857227a7",
   "metadata": {},
   "source": [
    "3.846e33 # solar luminosity in erg"
   ]
  },
  {
   "cell_type": "code",
   "execution_count": 444,
   "id": "4786fc6e",
   "metadata": {},
   "outputs": [],
   "source": [
    "import popsed"
   ]
  },
  {
   "cell_type": "code",
   "execution_count": 445,
   "id": "95ba2e80",
   "metadata": {},
   "outputs": [],
   "source": [
    "resampflux = popsed.utils.trapz_rebin(\n",
    "                        w_z, flux_z, xnew=wave[(wave < 15000) & (wave > 3000)])"
   ]
  },
  {
   "cell_type": "code",
   "execution_count": 446,
   "id": "b26eacb5",
   "metadata": {},
   "outputs": [
    {
     "data": {
      "image/png": "[encoded data removed]",
      "text/plain": [
       "<Figure size 432x288 with 1 Axes>"
      ]
     },
     "metadata": {
      "needs_background": "light"
     },
     "output_type": "display_data"
    }
   ],
   "source": [
    "temp = model.sed(tt[0, :-1], redshift, wavelength=wave[(wave < 15000) & (wave > 3000)])"
   ]
  },
  {
   "cell_type": "code",
   "execution_count": 447,
   "id": "57f09be9",
   "metadata": {},
   "outputs": [
    {
     "data": {
      "text/plain": [
       "<matplotlib.legend.Legend at 0x154b524cd710>"
      ]
     },
     "execution_count": 447,
     "metadata": {},
     "output_type": "execute_result"
    },
    {
     "data": {
      "image/png": "[encoded data removed]",
      "text/plain": [
       "<Figure size 432x288 with 1 Axes>"
      ]
     },
     "metadata": {
      "needs_background": "light"
     },
     "output_type": "display_data"
    }
   ],
   "source": [
    "plt.plot(w_z, flux_z, label='Truth')\n",
    "\n",
    "plt.plot(wave[(wave < 15000) & (wave > 3000)], resampflux, label='Trapz')\n",
    "\n",
    "plt.plot(temp[0], temp[1])\n",
    "\n",
    "plt.plot(wave, my_z_spec[0], label='interp1d')\n",
    "\n",
    "plt.xlim(9900, 15200)\n",
    "\n",
    "# plt.ylim(0.2e-30, 3e-30)\n",
    "\n",
    "plt.legend()"
   ]
  },
  {
   "cell_type": "code",
   "execution_count": 453,
   "id": "6c99b4ca",
   "metadata": {},
   "outputs": [
    {
     "data": {
      "text/plain": [
       "<matplotlib.legend.Legend at 0x154b51acec90>"
      ]
     },
     "execution_count": 453,
     "metadata": {},
     "output_type": "execute_result"
    },
    {
     "data": {
      "image/png": "[encoded data removed]",
      "text/plain": [
       "<Figure size 432x288 with 1 Axes>"
      ]
     },
     "metadata": {
      "needs_background": "light"
     },
     "output_type": "display_data"
    }
   ],
   "source": [
    "temp = model.sed(tt[0, :-1], redshift, wavelength=wave[(wave < 15000) & (wave > 3000)])\n",
    "plt.plot(temp[0], temp[1])\n",
    "ax = plt.gca()\n",
    "\n",
    "plt.plot(w_z, flux_z, label='Truth')\n",
    "\n",
    "plt.plot(wave[(wave < 15000) & (wave > 3000)], resampflux, label='Trapz')\n",
    "\n",
    "plt.plot(wave, my_z_spec[0], label='interp1d')\n",
    "\n",
    "# plt.xlim(9900, 15200)\n",
    "\n",
    "# plt.ylim(0.2e-30, 3e-30)\n",
    "\n",
    "plt.legend()"
   ]
  },
  {
   "cell_type": "code",
   "execution_count": null,
   "id": "9890759a",
   "metadata": {},
   "outputs": [],
   "source": []
  },
  {
   "cell_type": "code",
   "execution_count": null,
   "id": "759c3394",
   "metadata": {},
   "outputs": [],
   "source": []
  },
  {
   "cell_type": "code",
   "execution_count": null,
   "id": "70d569a6",
   "metadata": {},
   "outputs": [],
   "source": []
  },
  {
   "cell_type": "code",
   "execution_count": null,
   "id": "ae56f79e",
   "metadata": {},
   "outputs": [],
   "source": []
  },
  {
   "cell_type": "code",
   "execution_count": null,
   "id": "8f29337a",
   "metadata": {},
   "outputs": [],
   "source": []
  },
  {
   "cell_type": "code",
   "execution_count": 169,
   "id": "e49f3362",
   "metadata": {},
   "outputs": [],
   "source": [
    "### Just linear interpolate\n",
    "\n",
    "from scipy.interpolate import interp1d"
   ]
  },
  {
   "cell_type": "code",
   "execution_count": 195,
   "id": "23451ac4",
   "metadata": {},
   "outputs": [],
   "source": [
    "f = interp1d(w_z, flux_z, bounds_error=False, fill_value=0, kind='cubic')"
   ]
  },
  {
   "cell_type": "code",
   "execution_count": 190,
   "id": "d91239f5",
   "metadata": {},
   "outputs": [
    {
     "data": {
      "text/plain": [
       "array([0.00000000e+00, 0.00000000e+00, 0.00000000e+00, ...,\n",
       "       6.99894557e-30, 6.91469740e-30, 6.83110547e-30])"
      ]
     },
     "execution_count": 190,
     "metadata": {},
     "output_type": "execute_result"
    }
   ],
   "source": [
    "f(wave)"
   ]
  },
  {
   "cell_type": "code",
   "execution_count": 199,
   "id": "cb68ccea",
   "metadata": {},
   "outputs": [],
   "source": [
    "from scipy.integrate import quad, trapezoid"
   ]
  },
  {
   "cell_type": "code",
   "execution_count": 204,
   "id": "7547c322",
   "metadata": {},
   "outputs": [
    {
     "data": {
      "text/plain": [
       "(1.4224512593017748e-25, 5.202104609608003e-26)"
      ]
     },
     "execution_count": 204,
     "metadata": {},
     "output_type": "execute_result"
    }
   ],
   "source": [
    "quad(f, 3000, 8000)"
   ]
  },
  {
   "cell_type": "code",
   "execution_count": 220,
   "id": "8f675281",
   "metadata": {},
   "outputs": [
    {
     "data": {
      "text/plain": [
       "1.441010003304552e-25"
      ]
     },
     "execution_count": 220,
     "metadata": {},
     "output_type": "execute_result"
    }
   ],
   "source": [
    "flag = (w_z < 8000) & (w_z > 3000)\n",
    "trapezoid(flux_z[flag], w_z[flag],)"
   ]
  },
  {
   "cell_type": "code",
   "execution_count": 219,
   "id": "83e07be3",
   "metadata": {},
   "outputs": [
    {
     "data": {
      "text/plain": [
       "1.4938868221047269e-25"
      ]
     },
     "execution_count": 219,
     "metadata": {},
     "output_type": "execute_result"
    }
   ],
   "source": [
    "flag = (temp[0] < 8000) & (temp[0] > 3000)\n",
    "trapezoid(temp[1][flag] * 1e-17, temp[0][flag],)"
   ]
  },
  {
   "cell_type": "code",
   "execution_count": 222,
   "id": "642a6ad3",
   "metadata": {},
   "outputs": [
    {
     "data": {
      "text/plain": [
       "1.0347222222222223"
      ]
     },
     "execution_count": 222,
     "metadata": {},
     "output_type": "execute_result"
    }
   ],
   "source": [
    "1.49 / 1.44"
   ]
  },
  {
   "cell_type": "code",
   "execution_count": null,
   "id": "0dab655f",
   "metadata": {},
   "outputs": [],
   "source": []
  },
  {
   "cell_type": "code",
   "execution_count": null,
   "id": "39c79022",
   "metadata": {},
   "outputs": [],
   "source": []
  },
  {
   "cell_type": "code",
   "execution_count": 216,
   "id": "a9da2398",
   "metadata": {},
   "outputs": [
    {
     "data": {
      "text/plain": [
       "1.4334350148481002e-25"
      ]
     },
     "execution_count": 216,
     "metadata": {},
     "output_type": "execute_result"
    }
   ],
   "source": [
    "flag = (wave < 8000) & (wave > 3000)\n",
    "trapezoid(f(wave)[flag], wave[flag])"
   ]
  },
  {
   "cell_type": "code",
   "execution_count": 217,
   "id": "a9d0c9d7",
   "metadata": {},
   "outputs": [
    {
     "data": {
      "text/plain": [
       "1.433638368590364e-25"
      ]
     },
     "execution_count": 217,
     "metadata": {},
     "output_type": "execute_result"
    }
   ],
   "source": [
    "flag = (wave < 8000) & (wave > 3000)\n",
    "trapezoid(my_z_spec[0][flag], wave[flag])"
   ]
  },
  {
   "cell_type": "code",
   "execution_count": 218,
   "id": "246d33ae",
   "metadata": {},
   "outputs": [
    {
     "data": {
      "text/plain": [
       "[<matplotlib.lines.Line2D at 0x154a390eb890>]"
      ]
     },
     "execution_count": 218,
     "metadata": {},
     "output_type": "execute_result"
    },
    {
     "data": {
      "image/png": "[encoded data removed]",
      "text/plain": [
       "<Figure size 432x288 with 1 Axes>"
      ]
     },
     "metadata": {
      "needs_background": "light"
     },
     "output_type": "display_data"
    }
   ],
   "source": [
    "plt.plot( wave[flag], my_z_spec[0][flag])"
   ]
  },
  {
   "cell_type": "code",
   "execution_count": null,
   "id": "44d761eb",
   "metadata": {},
   "outputs": [],
   "source": []
  },
  {
   "cell_type": "code",
   "execution_count": null,
   "id": "385b436f",
   "metadata": {},
   "outputs": [],
   "source": []
  },
  {
   "cell_type": "code",
   "execution_count": null,
   "id": "0c130e62",
   "metadata": {},
   "outputs": [],
   "source": []
  },
  {
   "cell_type": "code",
   "execution_count": null,
   "id": "8d8f449e",
   "metadata": {},
   "outputs": [],
   "source": []
  },
  {
   "cell_type": "code",
   "execution_count": null,
   "id": "eece6d46",
   "metadata": {},
   "outputs": [],
   "source": []
  },
  {
   "cell_type": "code",
   "execution_count": null,
   "id": "9b32afd1",
   "metadata": {},
   "outputs": [],
   "source": [
    "plt.plot(wave, f(wave))"
   ]
  },
  {
   "cell_type": "code",
   "execution_count": 201,
   "id": "6380d982",
   "metadata": {},
   "outputs": [
    {
     "data": {
      "text/plain": [
       "[<matplotlib.lines.Line2D at 0x154a3952e150>]"
      ]
     },
     "execution_count": 201,
     "metadata": {},
     "output_type": "execute_result"
    },
    {
     "data": {
      "image/png": "[encoded data removed]",
      "text/plain": [
       "<Figure size 432x288 with 1 Axes>"
      ]
     },
     "metadata": {
      "needs_background": "light"
     },
     "output_type": "display_data"
    }
   ],
   "source": [
    "plt.plot(w_z, flux_z)"
   ]
  },
  {
   "cell_type": "code",
   "execution_count": null,
   "id": "b5f10c6c",
   "metadata": {},
   "outputs": [],
   "source": []
  },
  {
   "cell_type": "code",
   "execution_count": null,
   "id": "0c45c5d1",
   "metadata": {},
   "outputs": [],
   "source": []
  },
  {
   "cell_type": "code",
   "execution_count": null,
   "id": "48272311",
   "metadata": {},
   "outputs": [],
   "source": [
    "flux_z = lum_ssp * 3.846e50 / \\\n",
    "                (4. * np.pi * d_lum**2) / (1. + _zred)  # 10^-17 ergs/s/cm^2/Ang"
   ]
  },
  {
   "cell_type": "code",
   "execution_count": null,
   "id": "8350e2f6",
   "metadata": {},
   "outputs": [],
   "source": []
  },
  {
   "cell_type": "code",
   "execution_count": null,
   "id": "0e2924ff",
   "metadata": {},
   "outputs": [],
   "source": []
  },
  {
   "cell_type": "code",
   "execution_count": null,
   "id": "62836b72",
   "metadata": {},
   "outputs": [],
   "source": []
  },
  {
   "cell_type": "code",
   "execution_count": null,
   "id": "f36d262f",
   "metadata": {},
   "outputs": [],
   "source": []
  },
  {
   "cell_type": "code",
   "execution_count": null,
   "id": "01f5c316",
   "metadata": {},
   "outputs": [],
   "source": []
  },
  {
   "cell_type": "code",
   "execution_count": 62,
   "id": "8950008a",
   "metadata": {},
   "outputs": [],
   "source": [
    "wave_rest, lum_ssp = model._sps_model(tt[0, :-1], model._tage_z_interp(tt[0, -1]))\n",
    "flag = (wave_rest <= 60000) & (wave_rest >= 1000)\n",
    "wave_rest = wave_rest[flag]\n",
    "lum_ssp = lum_ssp[flag] ## this lum_ssp is just my pickled spec"
   ]
  },
  {
   "cell_type": "code",
   "execution_count": null,
   "id": "20ea6b89",
   "metadata": {},
   "outputs": [],
   "source": [
    "w_z = wave_rest * (1. + _zred)"
   ]
  },
  {
   "cell_type": "code",
   "execution_count": null,
   "id": "b4ca9a4d",
   "metadata": {},
   "outputs": [],
   "source": []
  },
  {
   "cell_type": "raw",
   "id": "86cd5c1c",
   "metadata": {},
   "source": [
    "self._predict_spec_with_mass_redshift(\n",
    "                params) * self.lightspeed / self.wave_obs**2 * self.to_cgs_at_10pc"
   ]
  },
  {
   "cell_type": "code",
   "execution_count": null,
   "id": "a4c86bd0",
   "metadata": {},
   "outputs": [],
   "source": []
  },
  {
   "cell_type": "code",
   "execution_count": null,
   "id": "afb95b02",
   "metadata": {},
   "outputs": [],
   "source": [
    "temp = model.sed(tt[0, :-1], redshift, wavelength=wave)\n",
    "wave_rest, lum_ssp = model._sps_model(tt[0, :-1], model._tage_z_interp(redshift))\n"
   ]
  },
  {
   "cell_type": "code",
   "execution_count": null,
   "id": "301a17a8",
   "metadata": {},
   "outputs": [],
   "source": []
  },
  {
   "cell_type": "code",
   "execution_count": null,
   "id": "24614f5f",
   "metadata": {},
   "outputs": [],
   "source": []
  },
  {
   "cell_type": "code",
   "execution_count": null,
   "id": "d95b2ea2",
   "metadata": {},
   "outputs": [],
   "source": []
  },
  {
   "cell_type": "code",
   "execution_count": null,
   "id": "74c13785",
   "metadata": {},
   "outputs": [],
   "source": []
  },
  {
   "cell_type": "code",
   "execution_count": null,
   "id": "49871c29",
   "metadata": {},
   "outputs": [],
   "source": []
  },
  {
   "cell_type": "markdown",
   "id": "600c308a",
   "metadata": {},
   "source": [
    "We can convert spectrum in Lsun/Hz to Lsun/AA by $$f_\\lambda = \\frac{c}{\\lambda^2} f_\\nu.$$ Notice that `c = 3e18 AA/s`."
   ]
  },
  {
   "cell_type": "code",
   "execution_count": 240,
   "id": "6f27418f",
   "metadata": {},
   "outputs": [],
   "source": [
    "# some constants\n",
    "lsun = 3.846e33  # erg/s\n",
    "pc = 3.085677581467192e18  # in cm\n",
    "lightspeed = 2.998e18  # AA/s\n",
    "ckms = 2.998e5  # km/s\n",
    "jansky_mks = 1e-26\n",
    "jansky_cgs = 1e-23\n",
    "# value to go from L_sun/AA to erg/s/cm^2/AA at 10pc\n",
    "to_cgs_at_10pc = lsun / (4.0 * np.pi * (pc * 10)**2)"
   ]
  },
  {
   "cell_type": "code",
   "execution_count": 241,
   "id": "f131241c",
   "metadata": {},
   "outputs": [],
   "source": [
    "spec_aa = spec * lightspeed / wave**2"
   ]
  },
  {
   "cell_type": "code",
   "execution_count": 242,
   "id": "e2a01037",
   "metadata": {},
   "outputs": [
    {
     "data": {
      "image/png": "[encoded data removed]",
      "text/plain": [
       "<Figure size 720x288 with 2 Axes>"
      ]
     },
     "metadata": {
      "needs_background": "light"
     },
     "output_type": "display_data"
    }
   ],
   "source": [
    "fig, axes = plt.subplots(1, 2, figsize=(10, 4))\n",
    "axes[0].plot(wave, spec)\n",
    "axes[0].set_title(r'$f_\\nu$')\n",
    "axes[0].set_xscale('log')\n",
    "axes[1].plot(wave, spec_aa)\n",
    "axes[1].set_title(r'$f_\\lambda$')\n",
    "axes[1].set_xscale('log')"
   ]
  },
  {
   "cell_type": "code",
   "execution_count": 173,
   "id": "8459dd79",
   "metadata": {},
   "outputs": [
    {
     "data": {
      "image/png": "[encoded data removed]",
      "text/plain": [
       "<Figure size 720x288 with 2 Axes>"
      ]
     },
     "metadata": {
      "needs_background": "light"
     },
     "output_type": "display_data"
    }
   ],
   "source": [
    "fig, axes = plt.subplots(1, 2, figsize=(10, 4))\n",
    "# axes[0].plot(temp[0], temp[1])\n",
    "axes[0].plot(temp[0], temp[1] * lightspeed / temp[0]**2)\n",
    "axes[0].set_title(r'$f_\\lambda$')\n",
    "axes[0].set_xscale('log')\n",
    "axes[1].plot(wave, spec_aa)\n",
    "axes[1].set_title(r'$f_\\lambda$')\n",
    "axes[1].set_xscale('log')"
   ]
  },
  {
   "cell_type": "markdown",
   "id": "4509478f",
   "metadata": {},
   "source": [
    "Now we calculate the absolute magnitudes of this spectrum, i.e., we place this galaxy at 10 pc, then multiply the transmission curves of filters to the spectrum. We need to work on `spec_aa` for this purpose.\n",
    "\n",
    "`to_cgs_at_10pc` is used to convert luminosity density Lsun/AA to erg/s/cm^2/AA at 10 pc.\n",
    "\n",
    "We don't need to worry about the zeropoint and how to convert 3631 Jy (1 Jy = 1e-23 erg/s/cm^2/Hz). `sedpy` does that for us."
   ]
  },
  {
   "cell_type": "code",
   "execution_count": 159,
   "id": "0128c332",
   "metadata": {},
   "outputs": [],
   "source": [
    "### Calculate transmission curves at grid of `wave`\n",
    "from sedpy import observate\n",
    "from scipy.interpolate import interp1d\n",
    "x = wave\n",
    "filterset = [f'sdss_{filt}0' for filt in 'ugriz']\n",
    "\n",
    "# transmission efficiency\n",
    "_epsilon = np.zeros((len(filterset), len(x)))\n",
    "_zero_counts = np.zeros(len(filterset))\n",
    "filters = observate.load_filters(filterset)\n",
    "for i in range(len(filterset)):\n",
    "    _epsilon[i] = interp1d(filters[i].wavelength,\n",
    "                           filters[i].transmission, \n",
    "                           bounds_error=False,\n",
    "                                   fill_value=0)(x)\n",
    "    _zero_counts[i] = filters[i].ab_zero_counts\n",
    "filterset = filterset\n",
    "transmission_effiency = _epsilon\n",
    "ab_zero_counts = _zero_counts"
   ]
  },
  {
   "cell_type": "code",
   "execution_count": 160,
   "id": "7d277c9c",
   "metadata": {},
   "outputs": [
    {
     "data": {
      "text/plain": [
       "array([0.00182001, 0.00952707, 0.00945654, 0.00635115, 0.00105704])"
      ]
     },
     "execution_count": 160,
     "metadata": {},
     "output_type": "execute_result"
    }
   ],
   "source": [
    "ab_zero_counts"
   ]
  },
  {
   "cell_type": "code",
   "execution_count": 161,
   "id": "19a4810a",
   "metadata": {},
   "outputs": [
    {
     "data": {
      "text/plain": [
       "array([[8.16039319, 6.50369357, 5.79714474, 5.41885356, 5.05851919]])"
      ]
     },
     "execution_count": 161,
     "metadata": {},
     "output_type": "execute_result"
    }
   ],
   "source": [
    "# Now manually integration over transmisison curves\n",
    "dfactor = 1 # distance dimming fractor, equals to 1.0 at 10 pc\n",
    "\n",
    "maggies = np.trapz(\n",
    "    (wave * spec_aa * to_cgs_at_10pc / dfactor)[None, :] * transmission_effiency[None, :]\n",
    "     , wave) / ab_zero_counts\n",
    "\n",
    "-2.5 * np.log10(maggies) # absolute magnitudes"
   ]
  },
  {
   "cell_type": "markdown",
   "id": "2544b23b",
   "metadata": {},
   "source": [
    "---\n",
    "### Play with redshfit"
   ]
  },
  {
   "cell_type": "markdown",
   "id": "ea6a88d3",
   "metadata": {},
   "source": [
    "If you need to calculate the apparent magnitude of this galaxy at a given redshift, additional redshift effect should be added. The `dfactor` becomes `dfactor = ((distances [Mpc] * 1e5)**2 / (1 + z))`."
   ]
  },
  {
   "cell_type": "markdown",
   "id": "7eb8b96b",
   "metadata": {},
   "source": [
    "$$f_{\\lambda_0} d \\lambda_0 = f_{\\lambda_1} d \\lambda_1 = (1+z) f_{\\lambda_0 (1+z)} d \\lambda_0$$\n",
    "\n",
    "$$f_{\\lambda_o} d \\lambda_o = \\frac{1}{1+z} f_{\\lambda_o/(1+z)} d \\lambda_o$$"
   ]
  },
  {
   "cell_type": "code",
   "execution_count": 243,
   "id": "466b252e",
   "metadata": {},
   "outputs": [],
   "source": [
    "redshift = 0.5"
   ]
  },
  {
   "cell_type": "code",
   "execution_count": 288,
   "id": "0d408dd6",
   "metadata": {},
   "outputs": [],
   "source": [
    "_wave = wave * (1 + redshift)\n",
    "_spec = interp1d(_wave, spec, bounds_error=False, kind='cubic', fill_value=0)(wave) / (1 + redshift) * to_cgs_at_10pc\n",
    "dfactor = ((cosmo.luminosity_distance(redshift) * 1e5)**2).value\n",
    "_spec /= dfactor\n",
    "# _spec is a function of `wave`, where `wave` is actually the observation frame"
   ]
  },
  {
   "cell_type": "code",
   "execution_count": 289,
   "id": "36ec6d07",
   "metadata": {},
   "outputs": [],
   "source": [
    "temp = model.sed(tt[0, :-1], redshift, wavelength=wave)\n",
    "wave_rest, lum_ssp = model._sps_model(tt[0, :-1], model._tage_z_interp(redshift))\n",
    "w_z = wave_rest * (1 + redshift)\n",
    "d_lum = model._d_lum_z_interp(redshift)\n",
    "flux_z = lum_ssp * 3.846e33 / (4. * np.pi * d_lum**2) / (1. + redshift)  # 1 ergs/s/cm^2/Ang"
   ]
  },
  {
   "cell_type": "code",
   "execution_count": 290,
   "id": "f990b606",
   "metadata": {},
   "outputs": [
    {
     "data": {
      "text/plain": [
       "(0.0, 10000.0)"
      ]
     },
     "execution_count": 290,
     "metadata": {},
     "output_type": "execute_result"
    },
    {
     "data": {
      "image/png": "[encoded data removed]",
      "text/plain": [
       "<Figure size 432x288 with 1 Axes>"
      ]
     },
     "metadata": {
      "needs_background": "light"
     },
     "output_type": "display_data"
    }
   ],
   "source": [
    "plt.plot(temp[0], temp[1] * 1e-13)\n",
    "plt.xlim(0, 10000)"
   ]
  },
  {
   "cell_type": "code",
   "execution_count": 292,
   "id": "5400a3d6",
   "metadata": {},
   "outputs": [
    {
     "data": {
      "text/plain": [
       "<matplotlib.legend.Legend at 0x1493bf755350>"
      ]
     },
     "execution_count": 292,
     "metadata": {},
     "output_type": "execute_result"
    },
    {
     "data": {
      "image/png": "[encoded data removed]",
      "text/plain": [
       "<Figure size 432x288 with 1 Axes>"
      ]
     },
     "metadata": {
      "needs_background": "light"
     },
     "output_type": "display_data"
    }
   ],
   "source": [
    "plt.plot(w_z[wlim], flux_z[wlim])\n",
    "plt.plot(wave, _spec, label='torch')\n",
    "\n",
    "plt.plot(temp[0], temp[1] * 1e-17, label='numba')\n",
    "\n",
    "# plt.xlim(7000, 7800)\n",
    "\n",
    "plt.legend()\n"
   ]
  },
  {
   "cell_type": "code",
   "execution_count": null,
   "id": "041129d0",
   "metadata": {},
   "outputs": [],
   "source": []
  },
  {
   "cell_type": "code",
   "execution_count": 184,
   "id": "86e334e9",
   "metadata": {},
   "outputs": [],
   "source": [
    "### Calculate transmission curves at grid of `wave`\n",
    "from sedpy import observate\n",
    "from scipy.interpolate import interp1d\n",
    "x = wave\n",
    "filterset = [f'sdss_{filt}0' for filt in 'ugriz']\n",
    "\n",
    "# transmission efficiency\n",
    "_epsilon = np.zeros((len(filterset), len(x)))\n",
    "_zero_counts = np.zeros(len(filterset))\n",
    "filters = observate.load_filters(filterset)\n",
    "for i in range(len(filterset)):\n",
    "    _epsilon[i] = interp1d(filters[i].wavelength,\n",
    "                           filters[i].transmission, \n",
    "                           bounds_error=False,\n",
    "                                   fill_value=0)(x)\n",
    "    _zero_counts[i] = filters[i].ab_zero_counts\n",
    "filterset = filterset\n",
    "transmission_effiency = _epsilon\n",
    "ab_zero_counts = _zero_counts"
   ]
  },
  {
   "cell_type": "code",
   "execution_count": 210,
   "id": "8f7ad20e",
   "metadata": {},
   "outputs": [],
   "source": [
    "from astropy.cosmology import FlatLambdaCDM, Planck15\n",
    "cosmo = Planck15#FlatLambdaCDM(71.9, 0.3)"
   ]
  },
  {
   "cell_type": "code",
   "execution_count": 99,
   "id": "a8861db1",
   "metadata": {},
   "outputs": [
    {
     "data": {
      "text/plain": [
       "array([[46.49855608, 45.07940401, 44.39854688, 44.0063427 , 43.66649516]])"
      ]
     },
     "execution_count": 99,
     "metadata": {},
     "output_type": "execute_result"
    }
   ],
   "source": [
    "# Now manually integration over transmisison curves\n",
    "dfactor = ((cosmo.luminosity_distance(redshift) * 1e5)**2).value\n",
    "# distance dimming fractor\n",
    "\n",
    "maggies = np.trapz(\n",
    "    (wave * _spec / dfactor)[None, :] * transmission_effiency[None, :]\n",
    "     , wave) / ab_zero_counts\n",
    "\n",
    "-2.5 * np.log10(maggies) # absolute magnitudes"
   ]
  },
  {
   "cell_type": "code",
   "execution_count": 100,
   "id": "f7d6437a",
   "metadata": {},
   "outputs": [
    {
     "data": {
      "text/plain": [
       "array([46.49970434, 45.08041556, 44.39942831, 44.00710684, 43.66767121])"
      ]
     },
     "execution_count": 100,
     "metadata": {},
     "output_type": "execute_result"
    }
   ],
   "source": [
    "model._ssp.get_mags(tage=tage, redshift=redshift, bands=[f'sdss_{filt}' for filt in 'ugriz'])"
   ]
  },
  {
   "cell_type": "code",
   "execution_count": null,
   "id": "9b16628f",
   "metadata": {},
   "outputs": [],
   "source": []
  },
  {
   "cell_type": "code",
   "execution_count": 151,
   "id": "54807d87",
   "metadata": {},
   "outputs": [],
   "source": [
    "from popsed.speculator import SuperSpeculator"
   ]
  },
  {
   "cell_type": "code",
   "execution_count": 152,
   "id": "c275b643",
   "metadata": {},
   "outputs": [],
   "source": [
    "speculator = SuperSpeculator(\n",
    "    speculators_dir=[\n",
    "        f'./train_sed_NMF/best_emu/speculator_best_recon_model_NMF.emu_{i_bin}.pkl' for i_bin in range(0, 5)], \n",
    "    str_wbin=[\n",
    "              '.w1000_2000',\n",
    "              '.w2000_3600', \n",
    "              '.w3600_5500', \n",
    "              '.w5500_7410', \n",
    "              '.w7410_60000'],\n",
    "    wavelength=wave, \n",
    "    params_name=['kappa1_sfh', 'kappa2_sfh', 'kappa3_sfh', \n",
    "                 'fburst', 'tburst', 'logzsol', 'dust1', 'dust2', \n",
    "                 'dust_index', 'redshift'],  # , 'logm'\n",
    "    device='cuda')\n",
    "\n",
    "filters = ['sdss_{0}0'.format(b) for b in 'ugriz']\n",
    "\n",
    "# noise = 'nsa'\n",
    "# noise_model_dir = './noise_model/nsa_noise_model_mag.npy'"
   ]
  },
  {
   "cell_type": "code",
   "execution_count": 153,
   "id": "36ff7377",
   "metadata": {},
   "outputs": [],
   "source": [
    "import torch"
   ]
  },
  {
   "cell_type": "code",
   "execution_count": 154,
   "id": "faaf3f61",
   "metadata": {},
   "outputs": [],
   "source": [
    "_temp = torch.Tensor([[0.23702077,  0.17277425,  0.04924538,  0.36237233,\n",
    "         5.20640759, -0.59933723,  2.90224527,  2.24286332,  0.44353761,\n",
    "         0.31639589, 0.0], \n",
    "                      [0.23702077,  0.17277425,  0.04924538,  0.36237233,\n",
    "         5.20640759, -0.59933723,  2.90224527,  2.24286332,  0.44353761,\n",
    "         0.31639589, 0.0]]).to('cuda')"
   ]
  },
  {
   "cell_type": "code",
   "execution_count": 191,
   "id": "48bc0b5d",
   "metadata": {},
   "outputs": [
    {
     "data": {
      "text/plain": [
       "array([[10.196263  ,  0.6732127 ,  0.63303568,  0.74904776,  0.6897544 ,\n",
       "         8.246036  , -2.590552  ,  1.3661929 ,  1.1196978 ,  0.3621066 ,\n",
       "         0.03587863]])"
      ]
     },
     "execution_count": 191,
     "metadata": {},
     "output_type": "execute_result"
    }
   ],
   "source": [
    "priors.untransform(np.array([[  10.196263  , 0.3267873 ,  0.24704504,  0.10694773,  0.10339665,  0.6897544 ,\n",
    "        8.246036  , -2.590552  ,  1.3661929 ,  1.1196978 ,  0.3621066 ,\n",
    "        0.03587863,]])) "
   ]
  },
  {
   "cell_type": "code",
   "execution_count": 192,
   "id": "4970bfd8",
   "metadata": {},
   "outputs": [],
   "source": [
    "_temp = torch.Tensor([[0.6732127 ,  0.63303568,  0.74904776,  0.6897544 ,\n",
    "         8.246036  , -2.590552  ,  1.3661929 ,  1.1196978 ,  0.3621066 ,\n",
    "         0.03587863, 10.196263], \n",
    "                      [0.6732127 ,  0.63303568,  0.74904776,  0.6897544 ,\n",
    "         8.246036  , -2.590552  ,  1.3661929 ,  1.1196978 ,  0.3621066 ,\n",
    "         0.03587863, 10.196263]]).to('cuda')"
   ]
  },
  {
   "cell_type": "code",
   "execution_count": 194,
   "id": "5c166844",
   "metadata": {},
   "outputs": [
    {
     "data": {
      "text/plain": [
       "tensor([[18.9523, 17.7023, 17.2314, 16.9697, 16.7811],\n",
       "        [18.9523, 17.7023, 17.2314, 16.9697, 16.7811]], device='cuda:0',\n",
       "       grad_fn=<MulBackward0>)"
      ]
     },
     "execution_count": 194,
     "metadata": {},
     "output_type": "execute_result"
    }
   ],
   "source": [
    "speculator._predict_mag_with_mass_redshift(\n",
    "    _temp, external_redshift=torch.Tensor([[0.0358, 0.0358]]).T.to('cuda')\n",
    ")"
   ]
  },
  {
   "cell_type": "code",
   "execution_count": 190,
   "id": "431ba1b0",
   "metadata": {},
   "outputs": [
    {
     "ename": "NameError",
     "evalue": "name 'array' is not defined",
     "output_type": "error",
     "traceback": [
      "\u001b[0;31m---------------------------------------------------------------------------\u001b[0m",
      "\u001b[0;31mNameError\u001b[0m                                 Traceback (most recent call last)",
      "\u001b[0;32m/tmp/ipykernel_2293/730722885.py\u001b[0m in \u001b[0;36m<module>\u001b[0;34m\u001b[0m\n\u001b[0;32m----> 1\u001b[0;31m array([16.887062, 15.21636 , 14.365496, 14.013487, 13.719948],\n\u001b[0m\u001b[1;32m      2\u001b[0m       dtype=float32)\n",
      "\u001b[0;31mNameError\u001b[0m: name 'array' is not defined"
     ]
    }
   ],
   "source": [
    "array([19.214428, 17.8736  , 17.14103 , 16.76466 , 16.484669],"
   ]
  },
  {
   "cell_type": "code",
   "execution_count": null,
   "id": "d05515d4",
   "metadata": {},
   "outputs": [],
   "source": []
  },
  {
   "cell_type": "raw",
   "id": "816f6ba6",
   "metadata": {},
   "source": [
    "# divide spectra into 4 wavelength lengths determined by FSPS wavelength\n",
    "# binning  \n",
    "# 1. wave  < 3600 (FUV-NUV wavelenght bins dlambda = 20A) \n",
    "# 2. 3600 < wave < 5500 (optical wavelength bins dlambda = 0.9)\n",
    "# 3. 5500 < wave < 7410 (optical wavelength bins dlambda = 0.9)\n",
    "# 4. 7410 < wave < 59900 (NIR-IR wavelength bins dlambda > 20)\n",
    "wave_bin0 = (wave < 3600) \n",
    "wave_bin1 = (wave >= 3600) & (wave < 5500) \n",
    "wave_bin2 = (wave >= 5500) & (wave < 7410) \n",
    "wave_bin3 = (wave >= 7410) "
   ]
  },
  {
   "cell_type": "markdown",
   "id": "ad5cc3e0",
   "metadata": {},
   "source": [
    "### Look at some mock seds"
   ]
  },
  {
   "cell_type": "code",
   "execution_count": 293,
   "id": "b733b6a4",
   "metadata": {},
   "outputs": [],
   "source": [
    "logspecs = np.load('./train_sed_NMF/fsps.NMF.v0.1.log10spectrum.seed1.npy') # Lsun/Hz\n",
    "params = np.load('./train_sed_NMF/fsps.NMF.v0.1.theta.seed1.npy')\n",
    "wave = np.load('./train_sed_NMF/fsps.wavelength.npy')"
   ]
  },
  {
   "cell_type": "code",
   "execution_count": 290,
   "id": "5d08895e",
   "metadata": {},
   "outputs": [
    {
     "data": {
      "text/plain": [
       "array([ 0.        ,  0.08215458,  0.66382496,  0.19359599,  0.06042447,\n",
       "        0.32690829,  5.03286605, -1.44684843,  0.00793969,  0.14717867,\n",
       "        0.08451098,  0.83090104])"
      ]
     },
     "execution_count": 290,
     "metadata": {},
     "output_type": "execute_result"
    }
   ],
   "source": [
    "params[0]"
   ]
  },
  {
   "cell_type": "code",
   "execution_count": 309,
   "id": "34058702",
   "metadata": {},
   "outputs": [],
   "source": [
    "# show SFR averaged over 1Gyr\n",
    "sfrs = []\n",
    "for i in range(2000):\n",
    "    sfrs.append(model.avgSFR(params[i, :-1], zred=params[i, -1]))"
   ]
  },
  {
   "cell_type": "code",
   "execution_count": 310,
   "id": "01be1585",
   "metadata": {},
   "outputs": [
    {
     "data": {
      "image/png": "[encoded data removed]",
      "text/plain": [
       "<Figure size 432x288 with 1 Axes>"
      ]
     },
     "metadata": {
      "needs_background": "light"
     },
     "output_type": "display_data"
    }
   ],
   "source": [
    "plt.hist(np.array(sfrs).T[0] * 1e9)\n",
    "plt.xscale('log')"
   ]
  },
  {
   "cell_type": "markdown",
   "id": "be1491fd",
   "metadata": {},
   "source": [
    "---"
   ]
  }
 ],
 "metadata": {
  "kernelspec": {
   "display_name": "Python 3 (ipykernel)",
   "language": "python",
   "name": "python3"
  },
  "language_info": {
   "codemirror_mode": {
    "name": "ipython",
    "version": 3
   },
   "file_extension": ".py",
   "mimetype": "text/x-python",
   "name": "python",
   "nbconvert_exporter": "python",
   "pygments_lexer": "ipython3",
   "version": "3.7.13"
  },
  "notify_time": "10"
 },
 "nbformat": 4,
 "nbformat_minor": 5
}
