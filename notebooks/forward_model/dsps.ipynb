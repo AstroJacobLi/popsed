{
 "cells": [
  {
   "cell_type": "markdown",
   "id": "8234285b",
   "metadata": {},
   "source": [
    "### In this notebook I try Andrew Hearin's DSPS: https://github.com/ArgonneCPAC/dsps"
   ]
  },
  {
   "cell_type": "code",
   "execution_count": 1,
   "id": "ac467e3e",
   "metadata": {},
   "outputs": [],
   "source": [
    "import numpy as np\n",
    "import matplotlib.pyplot as plt"
   ]
  }
 ],
 "metadata": {
  "kernelspec": {
   "display_name": "Python 3 (ipykernel)",
   "language": "python",
   "name": "python3"
  },
  "language_info": {
   "codemirror_mode": {
    "name": "ipython",
    "version": 3
   },
   "file_extension": ".py",
   "mimetype": "text/x-python",
   "name": "python",
   "nbconvert_exporter": "python",
   "pygments_lexer": "ipython3",
   "version": "3.9.7"
  }
 },
 "nbformat": 4,
 "nbformat_minor": 5
}
