{
 "cells": [
  {
   "cell_type": "markdown",
   "id": "073bcb28",
   "metadata": {},
   "source": [
    "Expand the wavelength range to 2000 A"
   ]
  },
  {
   "cell_type": "code",
   "execution_count": 1,
   "id": "11e130c5",
   "metadata": {},
   "outputs": [],
   "source": [
    "%load_ext autoreload\n",
    "%autoreload 2"
   ]
  },
  {
   "cell_type": "code",
   "execution_count": 4,
   "id": "1bbdc225",
   "metadata": {},
   "outputs": [],
   "source": [
    "import numpy as np\n",
    "import pickle\n",
    "import matplotlib.pyplot as plt\n",
    "import astropy.units as u\n",
    "import kuaizi"
   ]
  },
  {
   "cell_type": "code",
   "execution_count": 5,
   "id": "818bee5d",
   "metadata": {},
   "outputs": [
    {
     "data": {
      "text/plain": [
       "'/scratch/gpfs/jiaxuanl/Data/popsed/'"
      ]
     },
     "execution_count": 5,
     "metadata": {},
     "output_type": "execute_result"
    }
   ],
   "source": [
    "kuaizi.set_matplotlib(style='nature', usetex=False)\n",
    "kuaizi.set_env(project='popsed', name='', data_dir='/scratch/gpfs/jiaxuanl/Data')"
   ]
  },
  {
   "cell_type": "code",
   "execution_count": 6,
   "id": "2abdf5c2",
   "metadata": {},
   "outputs": [],
   "source": [
    "import fsps\n",
    "import sedpy\n",
    "from sedpy.observate import load_filters\n",
    "import prospect\n",
    "from prospect.sources.constants import cosmo\n",
    "import exspect\n",
    "import sys\n",
    "sys.path.append('/home/jiaxuanl/Research/popsed/')"
   ]
  },
  {
   "cell_type": "code",
   "execution_count": 7,
   "id": "74bef11c",
   "metadata": {},
   "outputs": [],
   "source": [
    "from popsed import mock\n",
    "from popsed.sfh import params_to_sfh, parametric_sfr, parametric_mwa"
   ]
  },
  {
   "cell_type": "code",
   "execution_count": 8,
   "id": "10063e21",
   "metadata": {},
   "outputs": [],
   "source": [
    "# SDSS filters\n",
    "sdss = ['sdss_{0}0'.format(b) for b in 'ugriz']"
   ]
  },
  {
   "cell_type": "markdown",
   "id": "1cb6f8b9",
   "metadata": {},
   "source": [
    "### Let's think about the prior distributions for sampling traning SEDs\n",
    "\n",
    "In order to cover SDSS five bands, we need spectrum covering **2000** A to 11000 A.\n",
    "\n",
    "$\\log\\, M_\\star\\ [M_\\odot] \\sim \\rm Uniform[9.0, 12.0, 0.1]$ (fast, **don't need to include in the emulator**)\n",
    "\n",
    "$t_{\\rm age}\\ [\\rm Gyr] \\sim \\rm Uniform[0.5, t_{univ}(z), 0.4]$ (fast)\n",
    "\n",
    "$\\log\\, \\tau\\ [\\rm Gyr] \\sim \\rm Uniform[-2, 2, 0.2]$ (slow)\n",
    "\n",
    "$z=0.05$ (we can try $z \\sim \\rm \\mathcal{N}(0.1, 0.05^2)$ in the future)"
   ]
  },
  {
   "cell_type": "code",
   "execution_count": 9,
   "id": "023936d1",
   "metadata": {},
   "outputs": [],
   "source": [
    "import itertools"
   ]
  },
  {
   "cell_type": "code",
   "execution_count": 10,
   "id": "0092896c",
   "metadata": {},
   "outputs": [
    {
     "name": "stdout",
     "output_type": "stream",
     "text": [
      "Total number of samples in parameter space:\n",
      "1600\n"
     ]
    }
   ],
   "source": [
    "zred_set = np.array([0.05])\n",
    "mass_set = np.array([1]) # Fix mass to 1 M_\\odot #10**(np.linspace(9, 12, 20))\n",
    "tage_set = np.linspace(1, float(cosmo.age(zred_set[0]).value), 40)\n",
    "tau_set = 10**(np.arange(-2, 2, 0.1))\n",
    "\n",
    "print('Total number of samples in parameter space:')\n",
    "print(len(tau_set) * len(tage_set) * len(mass_set) * len(zred_set))"
   ]
  },
  {
   "cell_type": "code",
   "execution_count": 11,
   "id": "7bbcd2ad",
   "metadata": {
    "code_folding": []
   },
   "outputs": [],
   "source": [
    "# Sample the stellar mass -- SFR plane\n",
    "sfr_li = []\n",
    "mass_li = []\n",
    "mwa_li = []\n",
    "tau_li = []\n",
    "tage_li = []\n",
    "\n",
    "for zred, mass, tage, tau in itertools.product(zred_set, mass_set, tage_set, tau_set):\n",
    "    #print(np.log10(mass), tage, tau)\n",
    "    model = mock.build_model(mass=mass, zred=zred, \n",
    "                             tage=tage, tau=tau, \n",
    "                             sfh=1, add_dustabs=False,\n",
    "                             uniform_priors=True)\n",
    "    sfr = parametric_sfr(times=np.array([0]), **model.params, tavg=0.05) # current SFR, t_avg = 50 Myr\n",
    "    sfr_li.append(float(sfr))\n",
    "    mass_li.append(mass)\n",
    "    mwa_li.append(parametric_mwa(tau=tau, tage=cosmo.age(zred).value, power=0)) # power=0 for tau-model\n",
    "    tau_li.append(tau)\n",
    "    tage_li.append(tage)"
   ]
  },
  {
   "cell_type": "code",
   "execution_count": 12,
   "id": "0b239176",
   "metadata": {},
   "outputs": [
    {
     "data": {
      "text/plain": [
       "Text(0, 0.5, '$\\\\log\\\\ \\\\mathrm{SFR}\\\\ [M_\\\\odot\\\\ \\\\rm{yr}^{-1}]$')"
      ]
     },
     "execution_count": 12,
     "metadata": {},
     "output_type": "execute_result"
    },
    {
     "data": {
      "image/png": "[encoded data removed]",
      "text/plain": [
       "<Figure size 360x300 with 2 Axes>"
      ]
     },
     "metadata": {
      "needs_background": "light"
     },
     "output_type": "display_data"
    }
   ],
   "source": [
    "plt.scatter(np.log10(mass_li), np.log10(sfr_li), c=mwa_li, alpha=0.7, edgecolor='none')\n",
    "plt.colorbar(label='Mass weighted age [Gyr]')\n",
    "#plt.ylim(-4, 3)\n",
    "\n",
    "plt.xlabel(r'$\\log\\ M_{\\star}\\ [M_\\odot]$')\n",
    "plt.ylabel(r'$\\log\\ \\mathrm{SFR}\\ [M_\\odot\\ \\rm{yr}^{-1}]$')"
   ]
  },
  {
   "cell_type": "markdown",
   "id": "d1e8ccfe",
   "metadata": {},
   "source": [
    "#### Looks not bad? Try to generate some SEDs and benchmark the speed"
   ]
  },
  {
   "cell_type": "code",
   "execution_count": 13,
   "id": "0f9ca11d",
   "metadata": {},
   "outputs": [],
   "source": [
    "sps = mock.build_sps(add_realism=False)"
   ]
  },
  {
   "cell_type": "code",
   "execution_count": 14,
   "id": "5133cde4",
   "metadata": {},
   "outputs": [
    {
     "name": "stdout",
     "output_type": "stream",
     "text": [
      "CPU times: user 2min 4s, sys: 8.23 s, total: 2min 12s\n",
      "Wall time: 2min 13s\n"
     ]
    }
   ],
   "source": [
    "%%time\n",
    "obs_set = []\n",
    "# we start with a simple model: tau-SFH, no dust attenuation and emission, no nebular emission\n",
    "for zred, mass, tage, tau in itertools.product(zred_set, mass_set, tage_set, tau_set):\n",
    "    model = mock.build_model(mass=mass, zred=zred, logzsol=-0.5,\n",
    "                             tage=tage, tau=tau, \n",
    "                             sfh=1, add_dustabs=False, \n",
    "                             uniform_priors=True)\n",
    "    #sfr = parametric_sfr(times=np.array([0]), **model.params, tavg=0.05) # current SFR, t_avg = 50 Myr\n",
    "    #model.params['sfr'] = sfr\n",
    "    obs = mock.build_obs(sps, model, add_noise=True, wave_lo=2000, wave_hi=11000,\n",
    "                         # we use true_spectrum and true_mock for emulation\n",
    "                         # Noise can be added afterward, with a better noise model\n",
    "                         snr_spec=10, snr_phot=20,\n",
    "                         filterset=sdss, \n",
    "                         continuum_optimize=False)\n",
    "    obs_set.append(obs)"
   ]
  },
  {
   "cell_type": "code",
   "execution_count": 17,
   "id": "0d96c299",
   "metadata": {},
   "outputs": [
    {
     "data": {
      "text/plain": [
       "1600"
      ]
     },
     "execution_count": 17,
     "metadata": {},
     "output_type": "execute_result"
    }
   ],
   "source": [
    "len(obs_set)"
   ]
  },
  {
   "cell_type": "code",
   "execution_count": 18,
   "id": "f1a7a06a",
   "metadata": {},
   "outputs": [],
   "source": [
    "with open('./train_sed/train_sed_1600.pkl', 'wb') as f:\n",
    "    pickle.dump(obs_set, f)\n",
    "    f.close()"
   ]
  },
  {
   "cell_type": "code",
   "execution_count": null,
   "id": "63a50c29",
   "metadata": {},
   "outputs": [],
   "source": []
  },
  {
   "cell_type": "markdown",
   "id": "01474651",
   "metadata": {},
   "source": [
    "## Load obs_set, and translate it into numpy arrays"
   ]
  },
  {
   "cell_type": "code",
   "execution_count": 19,
   "id": "6a12ec18",
   "metadata": {},
   "outputs": [],
   "source": [
    "with open('./train_sed/train_sed_1600.pkl', 'rb') as f:\n",
    "    obs_set = pickle.load(f)\n",
    "    f.close()"
   ]
  },
  {
   "cell_type": "code",
   "execution_count": 20,
   "id": "4acf7ec5",
   "metadata": {
    "scrolled": false
   },
   "outputs": [
    {
     "name": "stderr",
     "output_type": "stream",
     "text": [
      "No handles with labels found to put in legend.\n"
     ]
    },
    {
     "data": {
      "text/plain": [
       "<matplotlib.legend.Legend at 0x2b6b2a7b7640>"
      ]
     },
     "execution_count": 20,
     "metadata": {},
     "output_type": "execute_result"
    },
    {
     "data": {
      "image/png": "[encoded data removed]",
      "text/plain": [
       "<Figure size 480x240 with 2 Axes>"
      ]
     },
     "metadata": {
      "needs_background": "light"
     },
     "output_type": "display_data"
    }
   ],
   "source": [
    "obs = obs_set[0]\n",
    "\n",
    "# --- Plot the Data ----\n",
    "# This is why we stored these...\n",
    "wphot = obs[\"phot_wave\"]\n",
    "\n",
    "# establish bounds\n",
    "xmin, xmax = np.min(wphot)*0.8, np.max(wphot)/0.8\n",
    "ymin, ymax = obs[\"maggies\"].min()*0.8, obs[\"maggies\"].max()/0.4\n",
    "plt.figure(figsize=(8, 4))\n",
    "\n",
    "# plot all the data\n",
    "for ob in np.array(obs_set)[np.random.randint(0, len(obs_set), 40)]:\n",
    "    sfr = parametric_sfr(times=np.array([0]), **ob['mock_params'], tavg=0.05)\n",
    "#     sct = plt.scatter(wphot, ob['maggies'],\n",
    "#          #label='All observed photometry',\n",
    "#          marker='o', alpha=0.8, vmin=1, vmax=10,\n",
    "#          c=np.ones_like(wphot) * ob['mock_params']['tau'], cmap='jet')\n",
    "    sct = plt.scatter(wphot, ob['maggies'],\n",
    "         #label='All observed photometry',\n",
    "         marker='o', alpha=0.8, vmin=-1, vmax=2,\n",
    "         c=np.ones_like(wphot) * sfr, cmap='jet')\n",
    "    \n",
    "plt.colorbar(sct, label=r'$\\rm SFR\\ [M_\\odot\\ yr^{-1}]$')\n",
    "    \n",
    "# plot Filters\n",
    "for f in obs['filters']:\n",
    "    w, t = f.wavelength.copy(), f.transmission.copy()\n",
    "    t = t / t.max()\n",
    "    t = 10**(0.2*(np.log10(ymax/ymin)))*t * ymin\n",
    "    plt.loglog(w, t, lw=3, color='gray', alpha=0.7)\n",
    "    \n",
    "# prettify\n",
    "plt.xlabel('Wavelength [A]')\n",
    "plt.ylabel('Flux Density [maggies]')\n",
    "plt.xlim([xmin, xmax])\n",
    "plt.ylim([ymin / 10, ymax * 1000])\n",
    "#plt.xscale(\"log\")\n",
    "plt.yscale(\"log\")\n",
    "plt.legend(loc='best')"
   ]
  },
  {
   "cell_type": "code",
   "execution_count": 21,
   "id": "4e518241",
   "metadata": {},
   "outputs": [
    {
     "data": {
      "text/plain": [
       "Text(0.5, 0.98, 'Randomly selected 80 SEDs in the traning sample')"
      ]
     },
     "execution_count": 21,
     "metadata": {},
     "output_type": "execute_result"
    },
    {
     "data": {
      "image/png": "[encoded data removed]",
      "text/plain": [
       "<Figure size 960x360 with 4 Axes>"
      ]
     },
     "metadata": {
      "needs_background": "light"
     },
     "output_type": "display_data"
    }
   ],
   "source": [
    "obs = obs_set[0]\n",
    "wphot = obs[\"phot_wave\"]\n",
    "# establish bounds\n",
    "xmin, xmax = np.min(wphot)*0.8, np.max(wphot)/0.8\n",
    "ymin, ymax =  -2.5 * np.log10(obs[\"maggies\"].min())*0.8, -2.5 * np.log10(obs[\"maggies\"].max())/0.4\n",
    "\n",
    "\n",
    "fig, axes = plt.subplots(1, 2, figsize=(16, 6), sharey=True)\n",
    "\n",
    "plt.sca(axes[0])\n",
    "\n",
    "# plot all the data\n",
    "for ob in np.array(obs_set)[np.random.randint(0, len(obs_set), 80)]:\n",
    "    sfr = parametric_sfr(times=np.array([0]), **ob['mock_params'], tavg=0.05)\n",
    "    sct = plt.scatter(wphot, -2.5 * np.log10(ob['maggies']),\n",
    "         marker='o', alpha=0.8, vmin=9, vmax=12,\n",
    "         c=np.ones_like(wphot) * np.log10(ob['mock_params']['mass']), cmap='jet')\n",
    "plt.colorbar(sct, label=r'$\\log\\, M_{\\star}\\ [M_\\odot]$')\n",
    "# prettify\n",
    "plt.xlabel('Wavelength [A]')\n",
    "plt.ylabel('Magnitude')\n",
    "plt.xlim([xmin, xmax])\n",
    "plt.ylim([25, 9])\n",
    "\n",
    "plt.sca(axes[1])\n",
    "# plot all the data\n",
    "for ob in np.array(obs_set)[np.random.randint(0, len(obs_set), 80)]:\n",
    "    sfr = parametric_sfr(times=np.array([0]), **ob['mock_params'], tavg=0.05)\n",
    "    sct = plt.scatter(wphot, -2.5 * np.log10(ob['maggies']),\n",
    "         #label='All observed photometry',\n",
    "         marker='o', alpha=0.8, vmin=-3, vmax=2,\n",
    "         c=np.ones_like(wphot) * np.log10(sfr), cmap='jet_r')\n",
    "plt.colorbar(sct, label=r'$\\rm SFR\\ [M_\\odot\\ yr^{-1}]$')\n",
    "# prettify\n",
    "plt.xlabel('Wavelength [A]')\n",
    "plt.ylabel('Magnitude')\n",
    "plt.xlim([xmin, xmax])\n",
    "plt.ylim([25, 9])\n",
    "\n",
    "\n",
    "plt.suptitle('Randomly selected 80 SEDs in the traning sample')"
   ]
  },
  {
   "cell_type": "code",
   "execution_count": 22,
   "id": "8cc98629",
   "metadata": {},
   "outputs": [],
   "source": [
    "# t, sfr, cmf = params_to_sfh(model.params, \n",
    "#                             time=np.linspace(0, cosmo.age(model.params['zred']).value, 30), \n",
    "#                             agebins=None)"
   ]
  },
  {
   "cell_type": "markdown",
   "id": "63fa2d5a",
   "metadata": {},
   "source": [
    "## Translate the `obs_set` into numpy arrays of parameters, SEDs, and spectra\n",
    "\n",
    "Spectrum: `dlambda_spec=2.0, wave_lo=3800, wave_hi=7000.0`. Length = 1600\n",
    "\n",
    "`wavelength = np.arange(3800, 7000, 2)`.\n",
    "\n",
    "Files are stored at `/scratch/gpfs/jiaxuanl/Data/popsed/train_sed`"
   ]
  },
  {
   "cell_type": "code",
   "execution_count": 23,
   "id": "c881ec82",
   "metadata": {},
   "outputs": [],
   "source": [
    "obs = obs_set[10]\n",
    "len_spec = len(obs['wavelength'])\n",
    "len_phot = len(obs['phot_wave'])"
   ]
  },
  {
   "cell_type": "code",
   "execution_count": 25,
   "id": "1c6e6999",
   "metadata": {},
   "outputs": [
    {
     "name": "stdout",
     "output_type": "stream",
     "text": [
      "CPU times: user 366 ms, sys: 869 ms, total: 1.24 s\n",
      "Wall time: 1.28 s\n"
     ]
    }
   ],
   "source": [
    "%%time\n",
    "# Array storing all spectra\n",
    "spec_arr = np.zeros((len(obs_set), len_spec))\n",
    "for i, obs in enumerate(obs_set):\n",
    "    spec_arr[i] = np.log10(obs['true_spectrum'])\n",
    "    \n",
    "# Need to take log of the spectrum flux density"
   ]
  },
  {
   "cell_type": "code",
   "execution_count": 26,
   "id": "2ea5b656",
   "metadata": {},
   "outputs": [
    {
     "name": "stdout",
     "output_type": "stream",
     "text": [
      "CPU times: user 1.9 ms, sys: 991 µs, total: 2.89 ms\n",
      "Wall time: 2.89 ms\n"
     ]
    }
   ],
   "source": [
    "%%time\n",
    "# Array storing all SEDs\n",
    "phot_arr = np.zeros((len(obs_set), len_phot))\n",
    "for i, obs in enumerate(obs_set):\n",
    "    phot_arr[i] = obs['true_maggies']"
   ]
  },
  {
   "cell_type": "code",
   "execution_count": 27,
   "id": "ece0d361",
   "metadata": {},
   "outputs": [
    {
     "data": {
      "text/plain": [
       "['zred',\n",
       " 'mass',\n",
       " 'logzsol',\n",
       " 'dust2',\n",
       " 'sfh',\n",
       " 'tage',\n",
       " 'imf_type',\n",
       " 'dust_type',\n",
       " 'tau']"
      ]
     },
     "execution_count": 27,
     "metadata": {},
     "output_type": "execute_result"
    }
   ],
   "source": [
    "list(obs['mock_params'].keys())"
   ]
  },
  {
   "cell_type": "code",
   "execution_count": 28,
   "id": "ccf9b242",
   "metadata": {},
   "outputs": [],
   "source": [
    "keys = ['zred', 'mass', 'logzsol', 'dust2', 'sfh', \n",
    "        'tage', 'imf_type', 'dust_type', 'tau'] # , 'sfr'"
   ]
  },
  {
   "cell_type": "code",
   "execution_count": 29,
   "id": "9d212064",
   "metadata": {},
   "outputs": [
    {
     "name": "stdout",
     "output_type": "stream",
     "text": [
      "CPU times: user 9.43 ms, sys: 127 µs, total: 9.56 ms\n",
      "Wall time: 9.74 ms\n"
     ]
    }
   ],
   "source": [
    "%%time\n",
    "param_arr = np.array([[float(obs['mock_params'][key]) for key in keys] for obs in obs_set])\n",
    "\n",
    "param_arr[:, -1] = np.log10(param_arr[:, -1]) # tau to log(tau)"
   ]
  },
  {
   "cell_type": "code",
   "execution_count": 30,
   "id": "c325eafa",
   "metadata": {},
   "outputs": [],
   "source": [
    "from sklearn.model_selection import train_test_split"
   ]
  },
  {
   "cell_type": "code",
   "execution_count": 31,
   "id": "c479b637",
   "metadata": {},
   "outputs": [],
   "source": [
    "with open('./train_sed/log_spec_all.npy', 'wb') as f:\n",
    "    np.save(f, spec_arr)\n",
    "\n",
    "with open('./train_sed/phot_all.npy', 'wb') as f:\n",
    "    np.save(f, phot_arr)\n",
    "    \n",
    "with open('./train_sed/param_all.npy', 'wb') as f:\n",
    "    np.save(f, param_arr)"
   ]
  },
  {
   "cell_type": "code",
   "execution_count": 32,
   "id": "a1e9ffcc",
   "metadata": {},
   "outputs": [],
   "source": [
    "X_train, X_test, y_train, y_test = train_test_split(spec_arr, param_arr, test_size=0.20, random_state=42)"
   ]
  },
  {
   "cell_type": "code",
   "execution_count": 33,
   "id": "e707172e",
   "metadata": {},
   "outputs": [],
   "source": [
    "with open('./train_sed/log_spec_train.npy', 'wb') as f:\n",
    "    np.save(f, X_train)\n",
    "    \n",
    "with open('./train_sed/log_spec_vali.npy', 'wb') as f:\n",
    "    np.save(f, X_test)\n",
    "    \n",
    "with open('./train_sed/param_train.npy', 'wb') as f:\n",
    "    np.save(f, y_train)\n",
    "    \n",
    "with open('./train_sed/param_vali.npy', 'wb') as f:\n",
    "    np.save(f, y_test)"
   ]
  },
  {
   "cell_type": "code",
   "execution_count": 34,
   "id": "8e53cb5c",
   "metadata": {},
   "outputs": [],
   "source": [
    "# with open('./train_sed/phot_1600.npy', 'wb') as f:\n",
    "#     np.save(f, phot_arr)\n",
    "    \n",
    "# with open('./train_sed/log_spec_1600.npy', 'wb') as f:\n",
    "#     np.save(f, spec_arr)\n",
    "    \n",
    "# with open('./train_sed/param_1600.npy', 'wb') as f:\n",
    "#     np.save(f, param_arr)"
   ]
  },
  {
   "cell_type": "code",
   "execution_count": null,
   "id": "f17e8d43",
   "metadata": {},
   "outputs": [],
   "source": []
  },
  {
   "cell_type": "markdown",
   "id": "a0a8049e",
   "metadata": {},
   "source": [
    "**Galaxies with SFR=0 and very small $\\tau$ ($\\tau$ < 0.02) just have zero fluxes. Need to remove them??**"
   ]
  },
  {
   "cell_type": "code",
   "execution_count": 35,
   "id": "aba4c4ac",
   "metadata": {},
   "outputs": [
    {
     "data": {
      "text/plain": [
       "<matplotlib.image.AxesImage at 0x2b6b2ba399d0>"
      ]
     },
     "execution_count": 35,
     "metadata": {},
     "output_type": "execute_result"
    },
    {
     "data": {
      "image/png": "[encoded data removed]",
      "text/plain": [
       "<Figure size 360x300 with 1 Axes>"
      ]
     },
     "metadata": {
      "needs_background": "light"
     },
     "output_type": "display_data"
    }
   ],
   "source": [
    "from astropy.visualization import simple_norm\n",
    "test = spec_arr / np.mean(spec_arr, axis=1)[:, np.newaxis]\n",
    "#norm = simple_norm(spec_arr / np.mean(spec_arr, axis=1)[:, np.newaxis], 'sqrt')\n",
    "plt.imshow(test.T)#, norm=norm)"
   ]
  },
  {
   "cell_type": "code",
   "execution_count": null,
   "id": "ab30986e",
   "metadata": {},
   "outputs": [],
   "source": []
  }
 ],
 "metadata": {
  "kernelspec": {
   "display_name": "Python 3 (ipykernel)",
   "language": "python",
   "name": "python3"
  },
  "language_info": {
   "codemirror_mode": {
    "name": "ipython",
    "version": 3
   },
   "file_extension": ".py",
   "mimetype": "text/x-python",
   "name": "python",
   "nbconvert_exporter": "python",
   "pygments_lexer": "ipython3",
   "version": "3.9.7"
  },
  "notify_time": "10"
 },
 "nbformat": 4,
 "nbformat_minor": 5
}
